{
 "cells": [
  {
   "cell_type": "markdown",
   "id": "norwegian-aurora",
   "metadata": {},
   "source": [
    "### Q1"
   ]
  },
  {
   "cell_type": "markdown",
   "id": "trying-review",
   "metadata": {},
   "source": [
    "https://www.ti.com/lit/an/sboa066a/sboa066a.pdf?ts=1620865253909&ref_url=https%253A%252F%252Fwww.google.com%252F\n",
    "\n",
    "https://www.ieee.li/pdf/viewgraphs_mohr_noise.pdf\n",
    "\n",
    "https://training.ti.com/system/files/docs/1312%20-%20Noise%202%20-%20slides.pdf\n",
    "\n"
   ]
  },
  {
   "cell_type": "markdown",
   "id": "local-layer",
   "metadata": {},
   "source": [
    "<center><img src=\"img/resistor_noise.png\" width=100 /></center>\n",
    "\n",
    "$$ e_n = \\sqrt{4kTR} \\; [V/\\sqrt{Hz}] $$\n",
    "\n",
    "$$ e_n^2 = 4kTR \\; [V^2/Hz] $$\n",
    "\n",
    "<hr>"
   ]
  },
  {
   "cell_type": "markdown",
   "id": "perceived-livestock",
   "metadata": {},
   "source": [
    "<center><img src=\"img/resistor_current_noise.png\" width=200 /></center>\n",
    "\n",
    "$$ i_n = \\sqrt{4kT/R} \\; [A/\\sqrt{Hz}] $$\n",
    "\n",
    "$$ e_n = i_n \\cdot R = \\sqrt{4kTR} \\; [V/\\sqrt{Hz}] $$\n",
    "\n",
    "$$ i_n^2 = 4kT/R \\; [A^2/Hz] $$\n",
    "\n",
    "<hr>"
   ]
  },
  {
   "cell_type": "markdown",
   "id": "seven-soldier",
   "metadata": {},
   "source": [
    "<center><img src=\"img/opamp_noise_model.png\" width=300 /></center>\n",
    "\n",
    "<hr>"
   ]
  },
  {
   "cell_type": "markdown",
   "id": "focused-drunk",
   "metadata": {},
   "source": [
    "<img src=\"img/FET_noise_model.png\" width=600 />"
   ]
  },
  {
   "cell_type": "markdown",
   "id": "valuable-finance",
   "metadata": {},
   "source": [
    "<img src=\"img/CE_noise_model.png\" width=600 />"
   ]
  },
  {
   "cell_type": "markdown",
   "id": "artificial-seminar",
   "metadata": {},
   "source": [
    "#### Two-port noise factor"
   ]
  },
  {
   "cell_type": "markdown",
   "id": "afraid-trade",
   "metadata": {},
   "source": [
    " - For the common (low-frequency) case where $Y_c = 0$, and assuming $Z_s = Y_s^{-1} \\approx R_s$, the input-referred mean-square voltage noise density can be expressed as\n",
    "\n",
    "\\begin{equation}\n",
    "e_{ni}^2 = e_{ns}^2 + e_n^2 + R_s^2 i_n^2\n",
    "\\end{equation}\n",
    "\n",
    " - The two-port noise factor is thus\n",
    " \n",
    "\\begin{equation}\n",
    "F = \\dfrac{e_{ns}^2 + e_n^2 + R_s^2 i_n^2}{e_{ns}^2} = 1 + \\dfrac{e_n^2 + R_s^2 i_n^2}{e_{ns}^2} = 1+N_e\n",
    "\\end{equation}\n",
    "\n",
    " - $N_e$ is an excess noise power ratio, equal to $F-1$, that expresses the *excess* noise contributed by the amplifier \n",
    "\n",
    " - The *noise figure* $\\text{NF}$ is the noise factor in decibels:\n",
    " \n",
    "\\begin{equation}\n",
    "\\text{NF} = 10\\log{F} = 10\\log \\left[ 1 + \\dfrac{e_n^2 + R_s^2 i_n^2}{e_{ns}^2} \\right]\n",
    "\\end{equation}\n",
    "\n",
    "<hr>"
   ]
  },
  {
   "cell_type": "markdown",
   "id": "early-spectrum",
   "metadata": {},
   "source": [
    "#### Noise Temperature"
   ]
  },
  {
   "cell_type": "markdown",
   "id": "super-simon",
   "metadata": {},
   "source": [
    "- Noise temperature is an alternative way of expressing the effect of an amplifier's noise contribution, and is defined as the increase in temperature required for the source resistance to generate the entirety of the amplifier output noise \n",
    " \n",
    "\\begin{equation}\n",
    "4kT_n R_s \\Delta f = e_n^2 + i_n^2 R_s^2\n",
    "\\end{equation}\n",
    "\n",
    " - This yields\n",
    " \n",
    "\\begin{equation}\n",
    "T_n = \\dfrac{e_n^2 + i_n^2R_s^2}{4kT_{ref}R_s \\Delta f}\n",
    "\\end{equation}\n",
    "\n",
    "\\begin{equation}\n",
    "F = 1 + \\dfrac{T_n}{T_{ref}}\n",
    "\\end{equation}\n",
    "\n",
    " - $T_{ref}$ is the reference/ambient temperature, typically taken to be $290K$\n",
    " \n",
    " - Good low-noise designs have noise temperatures far below room temperature (or, equivalently, noise figures far less than $3\\text{dB}$)\n",
    " \n",
    " <hr>"
   ]
  },
  {
   "cell_type": "markdown",
   "id": "fancy-likelihood",
   "metadata": {},
   "source": [
    "#### Optimum source resistance"
   ]
  },
  {
   "cell_type": "markdown",
   "id": "emotional-ceremony",
   "metadata": {},
   "source": [
    " - To minimize the noise factor/figure, we can take the first derivative of $F$ with respect to the source impedance and set it equal to zero. Assuming $Z_{s} = R_{s}$ (no reactive components), this yields\n",
    " \n",
    "\\begin{equation}\n",
    "-\\dfrac{e_n^2}{R_{opt}^2}+ i_n^2 = 0\n",
    "\\end{equation}\n",
    "\n",
    " - From which we find the optimum source resistance to be\n",
    "\n",
    "\\begin{equation}\n",
    "R_{opt} = \\dfrac{e_n}{i_n}\n",
    "\\end{equation}\n",
    "\n",
    " - The noise factor corresponding to $R_{opt}$ is thus\n",
    " \n",
    "\\begin{equation}\n",
    "F_{opt} = 1 + \\dfrac{e_n^2 + R_{opt}^2 i_n^2}{4kT R_{opt}\\Delta f} = 1 + \\dfrac{2 e_n^2}{4kT \\Delta f e_n/i_n} = 1 + \\dfrac{e_n\\cdot i_n}{2kT\\Delta f}\n",
    "\\end{equation}\n",
    "\n",
    " - Note that there is no direct correspondance between the optimum source resistance and that needed for maximum power transfer (optimizing one will result in a sub-optimal design for the other)\n",
    " \n",
    " - Let's take a look at the dependence of $F$ on $R_s$ as a function of different combinations of values of $e_n$ and $i_n$...\n",
    " \n",
    " <hr>"
   ]
  },
  {
   "cell_type": "markdown",
   "id": "medieval-radar",
   "metadata": {},
   "source": [
    "If the sensor exhibits $1/f$ noise, the spectral density of the noise can be expressed as\n",
    "\n",
    "\\begin{equation}\n",
    "\\overline{e_n^2} = 4kTR_s\\cdot\\left(1+\\dfrac{f_c}{f}\\right)\\Delta f\n",
    "\\end{equation}\n",
    "\n",
    "for a noiseless amplifier.*\n",
    "<hr>"
   ]
  },
  {
   "cell_type": "code",
   "execution_count": 1,
   "id": "treated-tribe",
   "metadata": {},
   "outputs": [],
   "source": [
    "k = 1.38e-23\n",
    "T = 300\n",
    "q = 1.602e-19\n",
    "V_T = k*T/q"
   ]
  },
  {
   "cell_type": "code",
   "execution_count": 8,
   "id": "productive-attribute",
   "metadata": {},
   "outputs": [],
   "source": [
    "e_n = 2*1e-9\n",
    "i_n = 1*1e-12\n",
    "Rs = 1000\n",
    "R1 = 500\n",
    "R2 = 4500\n",
    "G = 1 + R2/R1"
   ]
  },
  {
   "cell_type": "code",
   "execution_count": 9,
   "id": "bearing-islam",
   "metadata": {},
   "outputs": [
    {
     "data": {
      "text/plain": [
       "176.41606280193236"
      ]
     },
     "execution_count": 9,
     "metadata": {},
     "output_type": "execute_result"
    }
   ],
   "source": [
    "( 4*k*T*Rs*G**2 + (e_n**2)*(G**2) + 4*k*T*R2 + \\\n",
    " 4*k*T*R1*(R2**2)/(R1**2) + (i_n**2)*(Rs**2)*(G**2) + \\\n",
    " (i_n**2)*(R2**2) )/(4*k*T*Rs)"
   ]
  },
  {
   "cell_type": "code",
   "execution_count": null,
   "id": "vital-gospel",
   "metadata": {},
   "outputs": [],
   "source": []
  }
 ],
 "metadata": {
  "kernelspec": {
   "display_name": "Python 3",
   "language": "python",
   "name": "python3"
  },
  "language_info": {
   "codemirror_mode": {
    "name": "ipython",
    "version": 3
   },
   "file_extension": ".py",
   "mimetype": "text/x-python",
   "name": "python",
   "nbconvert_exporter": "python",
   "pygments_lexer": "ipython3",
   "version": "3.7.9"
  }
 },
 "nbformat": 4,
 "nbformat_minor": 5
}
