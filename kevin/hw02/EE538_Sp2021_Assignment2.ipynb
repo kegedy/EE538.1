{
 "cells": [
  {
   "cell_type": "markdown",
   "metadata": {},
   "source": [
    "<center><b>EE 538 Spring 2021<br>\n",
    "Low-Noise Analog Circuit Design<br>\n",
    "University of Washington Electrical & Computer Engineering</b></center>\n"
   ]
  },
  {
   "cell_type": "markdown",
   "metadata": {},
   "source": [
    "<b>Instructor: Jason Silver<br>\n",
    "Assignment #2 (10 points)<br>\n",
    "Due Sunday, April 18 (Submit on Canvas as a Jupyter Notebook)</b> "
   ]
  },
  {
   "cell_type": "markdown",
   "metadata": {},
   "source": [
    "*Please show your work*"
   ]
  },
  {
   "cell_type": "code",
   "execution_count": 1,
   "metadata": {},
   "outputs": [],
   "source": [
    "# Imports\n",
    "import os\n",
    "import sys\n",
    "import cmath\n",
    "import math\n",
    "import matplotlib.pyplot as plt\n",
    "import matplotlib\n",
    "import numpy as np\n",
    "import pandas as pd\n",
    "import ltspice\n",
    "import sympy as sp\n",
    "from sympy.utilities.lambdify import lambdify\n",
    "from scipy import signal\n",
    "%matplotlib inline\n",
    "from IPython.core.interactiveshell import InteractiveShell\n",
    "InteractiveShell.ast_node_interactivity = \"all\"\n",
    "from matplotlib.ticker import LogLocator"
   ]
  },
  {
   "cell_type": "code",
   "execution_count": 2,
   "metadata": {},
   "outputs": [],
   "source": [
    "def read_ltspice(file_name,ftype='trans',units='db'):\n",
    "    cols = []\n",
    "    arrs = []\n",
    "    with open(file_name, 'r',encoding='utf-8') as data:\n",
    "        for i,line in enumerate(data):\n",
    "            if i==0:\n",
    "                cols = line.split()\n",
    "                arrs = [[] for _ in cols]\n",
    "                continue\n",
    "            parts = line.split()\n",
    "            for j,part in enumerate(parts):\n",
    "                arrs[j].append(part)\n",
    "    df = pd.DataFrame(arrs,dtype='float64')\n",
    "    df = df.T\n",
    "    df.columns = cols\n",
    "    if ftype=='trans':\n",
    "        return df\n",
    "    elif ftype=='ac':\n",
    "        if units=='db':\n",
    "            for col in cols:\n",
    "                if df[col].str.contains(',').all():\n",
    "                    df[f'Mag_{col}'] = df[col].apply(lambda x: x.split(',')[0])\n",
    "                    df[f'Mag_{col}'] = df[f'Mag_{col}'].apply(lambda x: x[1:-2])\n",
    "                    df[f'Mag_{col}'] = df[f'Mag_{col}'].astype('float64')\n",
    "                    df[f'Phase_{col}'] = df[col].apply(lambda x: x.split(',')[1])\n",
    "                    df[f'Phase_{col}'] = df[f'Phase_{col}'].apply(lambda x: x[0:-2])\n",
    "                    df[f'Phase_{col}'] = df[f'Phase_{col}'].astype('float64')\n",
    "        if units=='cartesian':\n",
    "            for col in cols:\n",
    "                if df[col].str.contains(',').all():\n",
    "                    df[f'Re_{col}'] = df[col].apply(lambda x: x.split(',')[0])\n",
    "                    df[f'Re_{col}'] = df[f'Re_{col}'].astype('float64')\n",
    "                    df[f'Im_{col}'] = df[col].apply(lambda x: x.split(',')[1])\n",
    "                    df[f'Im_{col}'] = df[f'Im_{col}'].astype('float64')\n",
    "        df['Freq.'] = df['Freq.'].astype('float64')\n",
    "        return df\n",
    "    else:\n",
    "        print('invalid ftype')"
   ]
  },
  {
   "cell_type": "code",
   "execution_count": 3,
   "metadata": {},
   "outputs": [],
   "source": [
    "def rnd(num,places,unit):\n",
    "    if unit.lower()=='mhz':\n",
    "        return round(num/(1e6),places)"
   ]
  },
  {
   "cell_type": "markdown",
   "metadata": {},
   "source": [
    "<b>Problem 1: Photodiode amplifier design"
   ]
  },
  {
   "cell_type": "markdown",
   "metadata": {},
   "source": [
    "Transimpedance amplifiers (TIAs) are frequently used as current-input amplifiers, wherein a feedback resistance $R_f$ determines the TIA gain. Unfortunately, $R_f$ forms a pole with both the photodiode capacitance and the input capacitance of the opamp, degrading phase margin and leading to peaking in the closed-loop amplifier response."
   ]
  },
  {
   "cell_type": "markdown",
   "metadata": {},
   "source": [
    "<center><img src=\"img/HW2_TIA.png\" width=400 /></center>\n",
    "<br>\n",
    "<center><b>Figure 1. Current-input amplifier (TIA)</center>"
   ]
  },
  {
   "cell_type": "markdown",
   "metadata": {},
   "source": [
    "<u>*Analysis*</u>"
   ]
  },
  {
   "cell_type": "markdown",
   "metadata": {},
   "source": [
    "The closed-loop transfer function of the uncompensated ($C_f = 0$) TIA can be expressed as\n",
    "\n",
    "\\begin{equation}\n",
    "\\dfrac{V_{out}}{i_{in}} = R_f\\cdot \\dfrac{A_{ol}(f)}{1+A_{ol}(f)+sC_{in}R_f}\n",
    "\\end{equation}"
   ]
  },
  {
   "cell_type": "markdown",
   "metadata": {},
   "source": [
    "__a)__ Determine an expression for the closed-loop transfer function of the compensated TIA (including $C_f$) assuming an opamp with a first-order response ($A_{ol}(f) = A_0/(1+s/s_p)$, where $A_0$ is the DC gain of the opamp). What is the closed-loop resonant frequency ($\\omega_0$) of the TIA in terms of $R_f$, $C_f$, $C_{in}$ and $\\omega_u$?"
   ]
  },
  {
   "cell_type": "markdown",
   "metadata": {},
   "source": [
    "$\\begin{eqnarray}\n",
    "&& |s_p| &=& \\omega_p &= \\omega_0 \\\\[0.5em] \n",
    "&& \\omega_u &=& A_0 \\omega_p \\\\[0.5em]\n",
    "&& C_{in} &\\gg& C_f  & \\text{so } C_f + C_{in} \\approx C_{in} \\\\[0.5em]\n",
    "\\end{eqnarray}$"
   ]
  },
  {
   "cell_type": "markdown",
   "metadata": {},
   "source": [
    "$\\begin{eqnarray}\n",
    "1.&& \\\\[0.5em]\n",
    "&& A_{OL}(f) &=& \\frac{A_0}{1+\\frac{s}{s_p}} \\\\[0.5em]\n",
    "2.&& \\\\[0.5em]\n",
    "&& V_{out} &=& (V^+-V^-) \\cdot A_{OL}(f)\\Bigg|_{V^+=0} = -V^- \\cdot A_{OL}(f)  \\\\[0.5em]\n",
    "3.&& \\\\[0.5em]\n",
    "&& Z_f &=& R_f \\parallel C_f \\\\[0.5em]\n",
    "&& &=& (\\frac{1}{R_f}+  sC_f)^{-1} \\\\[0.5em]\n",
    "&& &=& \\frac{R_f}{1+sR_f C_f} \\\\[0.5em]\n",
    "4.&& \\\\[0.5em]\n",
    "&& i_{in} &=& \\frac{V^-}{Z_{in}} + \\frac{V^- - V_{out}}{Z_f} \\\\[0.5em]\n",
    "&& &=& V^- sC_{in} + (V^- - V_{out})(\\frac{1}{R_f} + sC_f) \\\\[0.5em]\n",
    "&& &=& V^-(sC_{in} + \\frac{1}{R_f} + sC_f) - V_{out}(\\frac{1}{R_f} + sC_f) \\\\[0.5em]\n",
    "&& &=& V^-(1 + \\frac{sR_f(C_{in}+C_f)}{R_f}) - V_{out}(\\frac{1+sR_f C_f}{R_f}) \\\\[0.5em]\n",
    "&& &=& \\frac{- V_{out}}{A_{OL}(f)}(1 + \\frac{sR_f(C_{in}+C_f)}{R_f}) - V_{out}(\\frac{1+sR_f C_f}{R_f}) \\\\[0.5em]\n",
    "&& &=& \\frac{- V_{out}}{A_{OL}(f) R_f}(1 + sR_f(C_{in}+C_f)) - \\frac{V_{out}}{R_f}(1+sR_f C_f) \\\\[0.5em]\n",
    "&& &=& \\frac{- V_{out}}{A_{OL}(f) R_f}(1 + sR_f(C_{in}+C_f)) - \\frac{V_{out}}{A_{OL}(f) R_f}A_{OL}(f)(1+sR_f C_f) \\\\[0.5em]\n",
    "\\end{eqnarray}$"
   ]
  },
  {
   "cell_type": "markdown",
   "metadata": {},
   "source": [
    "$\\begin{eqnarray}\n",
    "5.&& \\\\[0.5em]\n",
    "&& \\frac{V_{out}}{i_{in}} &=& \\frac{-A_{OL}(f) R_f}{1 + sR_f(C_{in}+C_f)+ A_{OL}(f)(1+sR_f C_f)} \\\\[0.5em]\n",
    "&& \\frac{V_{out}}{i_{in}} &=& \\frac{-A_{OL}(f) R_f}{1 + sR_f C_{in}+ A_{OL}(f)(1+sR_f C_f)} \\\\[0.5em]\n",
    "&& &=& \\frac{-\\frac{A_0}{1+\\frac{s}{s_p}} R_f}{1 + sR_f C_{in}+ \\frac{A_0}{1+\\frac{s}{s_p}}(1+sR_f C_f)} \\\\[0.5em]\n",
    "&& &=& \\frac{-A_0 R_f}{(1+\\frac{s}{s_p})(1 + sR_f C_{in}) + \\frac{A_0}{1+\\frac{s}{s_p}}(1+sR_f C_f))} \\\\[0.5em]\n",
    "&& &=& \\frac{-A_0 R_f}{(1+\\frac{s}{s_p})(1 + sR_f C_{in})+ A_0(1+sR_f C_f)} \\\\[0.5em]\n",
    "&& &=& \\frac{-A_0 R_f}{1+sR_f C_{in}+\\frac{s}{s_p}+\\frac{s^2}{s_p} R_f C_{in}+A_0+s A_0 R_f C_f} \\\\[0.5em]\n",
    "&& &=& \\frac{-A_0 R_f}{(1+A_0)+s(\\frac{1}{s_p}+R_f C_{in}+ A_0 R_f C_f)+\\frac{s^2}{s_p} R_f C_{in}} \\\\[0.5em]\n",
    "&& &\\approx& \\frac{-R_f}{1+s(\\frac{1}{A_0 s_p}+\\frac{R_f C_{in}}{A_0}+R_f C_f)+\\frac{s^2}{A_0 s_p} R_f C_{in}} \\\\[0.5em]\n",
    "&& &\\approx& \\frac{-R_f}{1+s R_f C_f+\\frac{s^2}{A_0 s_p} R_f C_{in}} \\\\[0.5em]\n",
    "&& &\\approx& \\frac{-R_f}{1+s R_f C_f+\\frac{s^2}{\\omega_u} R_f C_{in}} \\\\[0.5em]\n",
    "\\end{eqnarray}$\n",
    "\n",
    "<hr>"
   ]
  },
  {
   "cell_type": "markdown",
   "metadata": {},
   "source": [
    "$\\begin{eqnarray}\n",
    "&& H(s)  &=& {\\frac {\\omega _{0}^{2}}{s^{2}+2\\zeta \\omega _{0}\\cdot s+\\omega _{0}^{2}}} \\\\[0.5em]\n",
    "&&       &=& {\\frac {\\omega _{0}^{2}}{s^{2}+\\frac{s\\cdot\\omega_0}{Q}+\\omega _{0}^{2}}} \\\\[0.5em]\n",
    "&&       &=& {\\frac {1}{\\frac{s^{2}}{\\omega_0^2}+\\frac{s\\cdot\\omega_0}{Q}+1}}  \\\\[0.5em]\n",
    "&& \\frac{V_{out}}{i_{in}} &\\approx& -R_f \\frac{1}{1 + s R_f C_f + \\frac{s^2}{\\omega_u}R_f  C_{in}} \\\\[0.5em]\n",
    "&& \\frac{1}{\\omega_0^2} &=& \\frac{R_f  C_{in}}{\\omega_u} \\\\[0.5em]\n",
    "&& \\omega_0^2 &=& \\frac{\\omega_u}{R_f  C_{in}} \\\\[0.5em]\n",
    "&& \\omega_0 &=& \\sqrt{\\frac{\\omega_u}{R_f  C_{in}}} \\\\[0.5em]\n",
    "\\end{eqnarray}$\n",
    "\n",
    "<hr>"
   ]
  },
  {
   "cell_type": "markdown",
   "metadata": {},
   "source": [
    "__b)__ Show that choosing $C_f$ such that $\\dfrac{1}{R_fC_f} \\approx \\sqrt{\\dfrac{\\omega_u}{2R_fC_{in}}}$ (assuming $C_{in} >> C_f$) results in a maximally flat (i.e. Butterworth) response. "
   ]
  },
  {
   "cell_type": "markdown",
   "metadata": {},
   "source": [
    "$\\begin{eqnarray}\n",
    "&& H(s)  &=& {\\frac {1}{\\frac{s^{2}}{\\omega_0^2}+\\frac{s}{Q\\omega_0}+1}}  \\\\[0.5em]\n",
    "&& \\omega_0 &=& \\sqrt{\\frac{\\omega_u}{R_f C_{in}}} \\\\[0.5em]\n",
    "&& \\frac{V_{out}}{i_{in}} &\\approx& -R_f \\frac{1}{1 + s R_f C_f + \\frac{s^2}{\\omega_u}R_f  C_{in}} \\\\[0.5em]\n",
    "&& \\frac{V_{out}}{i_{in}} &\\approx& -R_f \\frac{1}{1 + s R_f C_f + \\frac{s^2}{\\omega_0^2}}  &\\text{and Butterworth }& Q=\\frac{1}{\\sqrt2}\\\\[0.5em]\n",
    "&& \\text{then} && R_f C_f = \\frac{1}{Q\\omega_0} = \\frac{\\sqrt{2}}{\\omega_0}\\\\[0.5em]\n",
    "&& \\sqrt{2} &=& \\sqrt{\\frac{\\omega_u}{R_f C_{in}}} R_f C_f \\\\[0.5em]\n",
    "&& R_f C_f &=& \\frac{\\sqrt{2}}{\\sqrt{\\frac{\\omega_u}{R_f C_{in}}}} \\\\[0.5em]\n",
    "&& &=& \\sqrt{2} \\sqrt{\\frac{R_f C_{in}}{\\omega_u}} \\\\[0.5em]\n",
    "&& &=& \\sqrt{\\frac{2 R_f C_{in}}{\\omega_u}} \\\\[0.5em]\n",
    "&& \\frac{1}{R_f C_f} &=& \\sqrt{\\frac{\\omega_u}{2 R_f C_{in}}} \\\\[0.5em]\n",
    "&& C_f &=& \\frac{1}{R_f} \\sqrt{\\frac{2 R_f C_{in}}{\\omega_u}} \\\\[0.5em]\n",
    "&&  &=& \\sqrt{\\frac{2 C_{in}}{R_f \\omega_u}} \\\\[0.5em]\n",
    "&&  &=& \\sqrt{\\frac{2 C_{in}}{R_f A_0 \\omega_p}} \\\\[0.5em]\n",
    "&&  &=& \\sqrt{\\frac{2 C_{in}}{2 \\pi R_f A_0 f_p}} \\\\[0.5em]\n",
    "&& C_f &=& \\sqrt{\\frac{C_{in}}{\\pi R_f A_0 f_p}} \\\\[0.5em]\n",
    "\\end{eqnarray}$"
   ]
  },
  {
   "cell_type": "markdown",
   "metadata": {},
   "source": [
    "<hr>\n",
    "\n",
    "<u>*Design*</u>"
   ]
  },
  {
   "cell_type": "markdown",
   "metadata": {},
   "source": [
    "__c)__ Design the TIA in Figure 1 for a gain of $10k\\Omega$ and a Butterworth response with a $3dB$ bandwidth of $2MHz$. Assuming $C_{in}$ = $100pF$, what are the required values of $\\omega_u$ (opamp GBW) and $C_f$? Verify your design in Ltspice."
   ]
  },
  {
   "cell_type": "markdown",
   "metadata": {},
   "source": [
    "<img src=\"img/setup.PNG\" width=\"700\">"
   ]
  },
  {
   "cell_type": "markdown",
   "metadata": {},
   "source": [
    "$\\begin{eqnarray}\n",
    "1. && && \\\\[0.5em]\n",
    "& H(s) &  &=& {\\frac {\\omega _{0}^{2}}{s^{2}+2\\zeta \\omega _{0}\\cdot s+\\omega _{0}^{2}}} \\\\[0.5em]\n",
    "&&       &=& {\\frac {1}{\\frac{s^{2}}{\\omega_0^2}+\\frac{s}{Q\\omega_0}+1}}  &\\text{and Butterworth } Q=\\frac{1}{\\sqrt2} \\\\[0.5em]\n",
    "& |H(s)| & &=& {\\frac {1}{\\sqrt{1+\\frac{\\omega^4}{\\omega_0^4}}}} \\\\[0.5em]\n",
    "& \\frac{1}{\\sqrt{2}} & &=& {\\frac {1}{\\sqrt{1+\\frac{\\omega^4}{\\omega_0^4}}}} \\\\[0.5em]\n",
    "2. && && \\\\[0.5em]\n",
    "& \\omega_{3dB_{CL}} & &=& \\omega_0 \\\\[0.5em]\n",
    "& \\omega_{3dB_{CL}}& &=& \\sqrt{\\frac{\\omega_u}{R_f  C_{in}}} \\\\[0.5em]\n",
    "&& &=& \\sqrt{\\frac{A_0 \\omega_p}{R_f  C_{in}}} \\\\[0.5em]\n",
    "&& &=& \\sqrt{\\frac{2 \\pi A_0 \\cdot f_{3dB_{OL}}}{R_f  C_{in}}} \\\\[0.5em]\n",
    "3. && && \\\\[0.5em]\n",
    "& 2\\pi f_{3dB_{CL}} & &=& \\sqrt{\\frac{2 \\pi A_0 \\cdot f_{3dB_{OL}}}{R_f  C_{in}}} \\\\[0.5em]\n",
    "& f_{3dB_{CL}} & &=& \\sqrt{\\frac{A_0 \\cdot f_{3dB_{OL}}}{2\\pi R_f  C_{in}}} & \\text{and similarly} \\\\[0.5em]\n",
    "4. && && \\\\[0.5em]\n",
    "& f_{3dB_{OL}} & &=& 2\\pi (f_{3dB_{CL}})^2 C_{in} \\Bigg|_{A_0 = R_f} \\\\[0.5em]\n",
    "& \\omega_u &  &=& A_0 \\omega_p \\\\[0.5em]\n",
    "& \\omega_u & &=& A_0 \\cdot  2\\pi f_{3dB_{OL}} \\\\[0.5em]\n",
    "\\end{eqnarray}$\n",
    "\n",
    "<hr>"
   ]
  },
  {
   "cell_type": "code",
   "execution_count": 4,
   "metadata": {},
   "outputs": [
    {
     "name": "stdout",
     "output_type": "stream",
     "text": [
      "omega_u = 157.91 MHz\n",
      "omega_0 = 12.57 MHz\n",
      "C_f = 1.12539539519638E-11 F\n"
     ]
    }
   ],
   "source": [
    "f3dbCL = 2*1e6\n",
    "R_f = 10*1e3\n",
    "C_in = 100*1e-12\n",
    "A_0 = R_f\n",
    "f3dbOL = 2*np.pi * f3dbCL**2 * C_in * R_f/A_0\n",
    "omega_p = f3dbOL*2*np.pi\n",
    "omega_u = A_0*omega_p  # gain bandwidth\n",
    "omega_0 = np.sqrt(omega_u/(R_f*C_in))\n",
    "C_f = sp.sqrt(2*C_in/(R_f*omega_u))\n",
    "\n",
    "print(f'omega_u = {rnd(omega_u,2,\"MHz\")} MHz')\n",
    "print(f'omega_0 = {rnd(omega_0,2,\"MHz\")} MHz')\n",
    "print(f'C_f = {C_f} F')"
   ]
  },
  {
   "cell_type": "markdown",
   "metadata": {},
   "source": [
    "#### Calculated"
   ]
  },
  {
   "cell_type": "code",
   "execution_count": 5,
   "metadata": {},
   "outputs": [],
   "source": [
    "s,R_f,C_f,C_in,A_0,omega_p,omega_0,omega_u,f3db = sp.symbols('s,R_f,C_f,C_in,A_0,omega_p,omega_0,omega_u,f3db')\n",
    "f = np.logspace(4, 7, 100000)\n",
    "w = 2*np.pi*f\n",
    "\n",
    "num = R_f\n",
    "den = (R_f*C_in/(omega_u))*s**2 + (R_f*C_f)*s + 1\n",
    "\n",
    "components = {\n",
    "    R_f : 10*1e3,\n",
    "    C_in: 100*1e-12,\n",
    "    C_f : 1.1254e-11,\n",
    "    omega_u: 157.91*1e6,\n",
    "}\n",
    "H = sp.Matrix([num/den])\n",
    "H1 = H = H.subs(components)\n",
    "H = lambdify(s,H,modules='numpy')\n",
    "H = H(1j*w)\n",
    "H = H[0][0]"
   ]
  },
  {
   "cell_type": "code",
   "execution_count": 6,
   "metadata": {},
   "outputs": [
    {
     "data": {
      "image/png": "[encoded data removed]",
      "text/plain": [
       "<Figure size 720x360 with 1 Axes>"
      ]
     },
     "metadata": {
      "needs_background": "light"
     },
     "output_type": "display_data"
    }
   ],
   "source": [
    "fig, ax = plt.subplots(figsize=(10,5))\n",
    "\n",
    "x1 = np.where(20*np.log10(abs(H))<=max(20*np.log10(abs(H)))-3)[0][0]\n",
    "label1 = \"{:.3f}MHz, {:.2f}dB\".format(rnd(f[x1],3,\"MHz\"), 20*np.log10(abs(H[x1])))\n",
    "\n",
    "ax.set_title('TIA Calculated Response')\n",
    "ax.semilogx(f, 20*np.log10(abs(H)),label=r'$2^{nd}$ Order LP')\n",
    "ax.scatter(f[x1],20*np.log10(abs(H[x1])),label=label1,color='tab:blue')\n",
    "ax.set_ylabel('Magnitude [dB]')\n",
    "ax.set_xlabel('Frequency [Hz]')\n",
    "ax.grid(which='both', axis='both')\n",
    "ax.legend()\n",
    "plt.show();"
   ]
  },
  {
   "cell_type": "markdown",
   "metadata": {},
   "source": [
    "#### LTspice"
   ]
  },
  {
   "cell_type": "code",
   "execution_count": 7,
   "metadata": {},
   "outputs": [],
   "source": [
    "filepath = 'data/HW02.txt'\n",
    "df = read_ltspice(filepath,'ac')\n",
    "freq = df['Freq.']\n",
    "mag = df['Mag_V(vout)/I(Iin)']"
   ]
  },
  {
   "cell_type": "code",
   "execution_count": 8,
   "metadata": {},
   "outputs": [
    {
     "data": {
      "image/png": "[encoded data removed]",
      "text/plain": [
       "<Figure size 720x360 with 1 Axes>"
      ]
     },
     "metadata": {
      "needs_background": "light"
     },
     "output_type": "display_data"
    }
   ],
   "source": [
    "fig, ax = plt.subplots(1,figsize=(10,5))\n",
    "\n",
    "x1 = np.where(mag<=mag[0]-3)[0][0]\n",
    "label1 = \"{:.2f}MHz, {:.2f}dB\".format(rnd(freq[x1],2,\"MHz\"), mag[x1])\n",
    "\n",
    "ax.semilogx(freq, mag, color='tab:blue',label='')\n",
    "ax.scatter(freq[x1],mag[x1],label=label1,color='tab:blue')\n",
    "ax.grid(True,which='both')\n",
    "ax.set_xlabel('Frequency [Hz]')\n",
    "ax.set_ylabel('Magnitude [dB]')\n",
    "ax.set_title(r'SPICE AC Response: $V_{out}/I_{in}$')\n",
    "ax.set_xlim(1e4,1e7)\n",
    "\n",
    "ax.legend()\n",
    "plt.show();"
   ]
  },
  {
   "cell_type": "markdown",
   "metadata": {},
   "source": [
    "<hr>\n",
    "\n",
    "__d)__ Assuming an opamp with $e_{na} = 5 nV/\\sqrt{Hz}$ and $i_{na} = 0$, determine an expression for the mean-squre input-referred noise current density $i_n^2$ of the TIA as a function of frequency (ignore bandwidth limitations of the TIA). Taking the TIA bandwidth into account, what is the maximum value of $i_n$? At what frequency do we see the maximum noise density? Verify in Ltspice."
   ]
  },
  {
   "cell_type": "markdown",
   "metadata": {},
   "source": [
    "Maximum noise density occurs at the 3dB cutoff frequency..\n",
    "\n",
    "$\\begin{eqnarray}\n",
    "&& i_{na} &=& 0 \\\\[0.5em]\n",
    "&& e_{na} &=& 5 nV/\\sqrt{Hz} \\\\[0.5em]\n",
    "&& i_{nC} &=& e_{na} \\cdot 2\\pi f C_{in} = \\frac{5 nV}{\\sqrt{Hz}} \\cdot 2\\pi f \\cdot 100\\text{pf} \\\\[0.5em]\n",
    "&& i_{sh}^2 &=& 2qI_D\\Delta f  \\\\[0.5em]\n",
    "&& i_n(f) &=& \\sqrt{(i_{sh})^2 + (\\frac{e_{na}}{R_f})^2 + (\\frac{\\sqrt{4kTR_f}}{R_f})^2 + (i_{nC})^2} \\\\[0.5em]\n",
    "&&  &=& \\sqrt{(2qI_D) \\Delta f + (\\frac{e_{na}}{R_f})^2 + (\\frac{\\sqrt{4kTR_f}}{R_f})^2 + (e_{na} \\cdot 2\\pi f C_{in})^2} \\\\[0.5em]\n",
    "&&  &=& \\sqrt{(2qI_D) \\Delta f + (\\frac{e_{na}}{R_f})^2 + (\\frac{4kT}{R_f}) + (e_{na} \\cdot 2\\pi f C_{in})^2} \\\\[0.5em]\n",
    "&& i_n(f)^2 &=& (2qI_D) \\Delta f + (\\frac{e_{na}}{R_f})^2 + (\\frac{4kT}{R_f}) + (e_{na} \\cdot 2\\pi f C_{in})^2 \\Bigg|_{f = f_{3dB}} \\\\[0.5em]\n",
    "\\end{eqnarray}$\n",
    "\n",
    "<hr>"
   ]
  },
  {
   "cell_type": "markdown",
   "metadata": {},
   "source": [
    "#### LTspice"
   ]
  },
  {
   "cell_type": "code",
   "execution_count": 9,
   "metadata": {},
   "outputs": [],
   "source": [
    "filepath = 'data/HW02_noise.txt'\n",
    "df = pd.read_csv(filepath)\n",
    "freq = df['frequency']\n",
    "mag = df['V(onoise)']"
   ]
  },
  {
   "cell_type": "code",
   "execution_count": 10,
   "metadata": {},
   "outputs": [
    {
     "data": {
      "image/png": "[encoded data removed]",
      "text/plain": [
       "<Figure size 720x360 with 1 Axes>"
      ]
     },
     "metadata": {
      "needs_background": "light"
     },
     "output_type": "display_data"
    }
   ],
   "source": [
    "fig, ax = plt.subplots(1,figsize=(10,5))\n",
    "\n",
    "x1 = np.where(freq<=1000)[0][-1]\n",
    "label1 = r\"1000 Hz, {:.2f} $nV$\".format(mag[x1]*1e9)\n",
    "\n",
    "x2 = mag.idxmax()\n",
    "label2 =  r\"{:.2f}MHz, {:.2f} $nV$\".format(rnd(freq[x2],2,\"MHz\"),mag[x2]*1e9)\n",
    "\n",
    "ax.semilogx(freq, mag, color='tab:blue',label='TIA Noise Response')\n",
    "ax.scatter(freq[x2],mag[x2],label=label2,color='tab:blue')\n",
    "ax.scatter(freq[x1],mag[x1],label=label1,color='tab:blue')\n",
    "ax.grid(True,which='both')\n",
    "ax.set_xlabel('Frequency [Hz]')\n",
    "ax.set_ylabel(r'Noise $V/\\sqrt{Hz}$')\n",
    "ax.set_title(r'SPICE: $V_{out}$ Noise Response')\n",
    "ax.ticklabel_format(style='sci', axis='y', scilimits=(-9,-9))\n",
    "#ax.set_ylim(10e-9,50e-9)\n",
    "\n",
    "# manipulate x-axis ticks and labels\n",
    "ax.xaxis.set_major_locator(LogLocator(numticks=15)) #(1)\n",
    "ax.xaxis.set_minor_locator(LogLocator(numticks=15,subs=np.arange(2,10))) #(2)\n",
    "for label in ax.xaxis.get_ticklabels()[::2]:\n",
    "    label.set_visible(False) #(3)\n",
    "\n",
    "ax.legend()\n",
    "plt.show();"
   ]
  },
  {
   "cell_type": "markdown",
   "metadata": {},
   "source": [
    "<hr>\n",
    "\n",
    "__e)__ If the TIA is driven by a photodiode with a DC current of $10\\mu A$, what is the noise figure of the amplifier, in terms of noise density, at $1kHz$?"
   ]
  },
  {
   "cell_type": "markdown",
   "metadata": {},
   "source": [
    "$\\begin{eqnarray}\n",
    "& \\text{NF} & &=& 10\\log{F} \\\\[0.5em]\n",
    "& F & &\\equiv& \\dfrac{\\text{total output noise power}}{\\text{output noise due to input source}} \\\\[0.5em]\n",
    "& \\text{total output noise power} & &=& (2qI_D) \\Delta f + (\\frac{e_{na}}{R_f})^2 + (\\frac{4kT}{R_f}) + (e_{na} \\cdot 2\\pi f C_{in})^2 \\\\[0.5em]\n",
    "& \\text{input source noise power} & &=& (2qI_D) \\\\[0.5em]\n",
    "& \\text{Noise Figure} &  &=& 38.37\n",
    "\\end{eqnarray}$"
   ]
  },
  {
   "cell_type": "code",
   "execution_count": 11,
   "metadata": {},
   "outputs": [
    {
     "name": "stdout",
     "output_type": "stream",
     "text": [
      "Noise Figure = 38.37\n"
     ]
    }
   ],
   "source": [
    "T = 298\n",
    "k = 1.381 * 1e-23\n",
    "q = 1.38 * 1e-23\n",
    "I_D = 10*1e-6\n",
    "f = 1000\n",
    "e_na = 5*1e-9\n",
    "Rf = 10*1e3\n",
    "Cin = 100*1e-12\n",
    "\n",
    "shot = (2*q*I_D)\n",
    "amp = (e_na/Rf)**2\n",
    "therm =  4*k*T/Rf\n",
    "cap = (e_na *2*np.pi*f*Cin)**2\n",
    "\n",
    "\n",
    "total_output = shot + amp + therm + cap\n",
    "input_source = shot\n",
    "\n",
    "NF = 10* np.log10(total_output/input_source)\n",
    "print(f'Noise Figure = {round(NF,2)}')"
   ]
  },
  {
   "cell_type": "code",
   "execution_count": 12,
   "metadata": {},
   "outputs": [],
   "source": [
    "filepath = 'data/HW02_noise2.txt'\n",
    "df = pd.read_csv(filepath)\n",
    "freq = df['frequency']\n",
    "onoise = df['V(onoise)']\n",
    "inoise = df['inoise']"
   ]
  },
  {
   "cell_type": "code",
   "execution_count": 13,
   "metadata": {},
   "outputs": [
    {
     "data": {
      "image/png": "[encoded data removed]",
      "text/plain": [
       "<Figure size 720x360 with 1 Axes>"
      ]
     },
     "metadata": {
      "needs_background": "light"
     },
     "output_type": "display_data"
    }
   ],
   "source": [
    "fig, ax = plt.subplots(1,figsize=(10,5))\n",
    "\n",
    "x1 = np.where(freq<=1000)[0][-1]\n",
    "label1 = r\"1000 Hz, {:.2f}\".format(10*np.log10(onoise[x1]/inoise[x1]))\n",
    "\n",
    "ax.semilogx(freq, 10*np.log10(onoise/inoise), color='tab:blue',label='TIA Noise Figure')\n",
    "ax.scatter(freq[x1],10*np.log10(onoise[x1]/inoise[x1]),label=label1,color='tab:blue')\n",
    "ax.grid(True,which='both')\n",
    "ax.set_xlabel('Frequency [Hz]')\n",
    "ax.set_ylabel(r'Noise Figure')\n",
    "ax.set_title(r'SPICE Noise Figure: 10*log(onoise/inoise)')\n",
    "#ax.ticklabel_format(style='sci', axis='y', scilimits=(-9,-9))\n",
    "#ax.set_ylim(10e-9,50e-9)\n",
    "\n",
    "# manipulate x-axis ticks and labels\n",
    "ax.xaxis.set_major_locator(LogLocator(numticks=15)) #(1)\n",
    "ax.xaxis.set_minor_locator(LogLocator(numticks=15,subs=np.arange(2,10))) #(2)\n",
    "for label in ax.xaxis.get_ticklabels()[::2]:\n",
    "    label.set_visible(False) #(3)\n",
    "\n",
    "ax.legend()\n",
    "plt.show();"
   ]
  },
  {
   "cell_type": "markdown",
   "metadata": {},
   "source": [
    "### Refence Page"
   ]
  },
  {
   "cell_type": "markdown",
   "metadata": {},
   "source": [
    "Resources:\n",
    "\n",
    "\n",
    "https://www.analog.com/en/analog-dialogue/articles/compensating-current-feedback-amplifiers.html\n",
    "\n",
    "https://www.analog.com/en/technical-articles/transimpedance-amplifier-noise-considerations.html\n",
    "\n",
    "https://e2e.ti.com/support/amplifiers/f/amplifiers-forum/379953/open-loop-gain-vs-closed-loop-gain-in-tia\n",
    "\n",
    "https://www.allaboutcircuits.com/technical-articles/negative-feedback-part-8-analyzing-transimpedance-amplifier-stability/\n",
    "\n",
    "https://www.embeddedcomputing.com/technology/analog-and-power/batteries-power-supplies/tia-fundamentals-the-noise-transfer-function-part-4\n",
    "\n",
    "https://www.tij.co.jp/jp/lit/an/snoa942a/snoa942a.pdf?ts=1618760264451&ref_url=https%253A%252F%252Fwww.google.com%252F\n",
    "\n",
    "https://e2e.ti.com/support/amplifiers/f/amplifiers-forum/504360/how-to-maintain-stability-of-a-tia-when-exceeding-the-open-loop-gain\n",
    "\n",
    "https://people.engr.tamu.edu/spalermo/ecen689_oi/lecture5_ee689_tias.pdf\n",
    "\n",
    "https://2n3904blog.com/trans-impedance-amplifier-transfer-function/\n",
    "\n",
    "http://www.seas.ucla.edu/brweb/papers/Journals/BR_SSCM_1_2019.pdf\n",
    "\n",
    "https://www.ti.com/lit/an/sboa122/sboa122.pdf?ts=1618932133586\n",
    "\n",
    "https://www.ti.com/lit/an/snoa515a/snoa515a.pdf?ts=1618912072084&ref_url=https%253A%252F%252Fwww.google.com%252F"
   ]
  },
  {
   "cell_type": "markdown",
   "metadata": {},
   "source": [
    "$\\begin{eqnarray}\n",
    "&& \\frac{V_{out}}{i_{in}} &=& \\frac{Z_f A_{OL}(f)}{1 + \\frac{Z_f}{Z_{C_{in}}} + A_{OL}(f)} \\\\[0.5em]\n",
    "&&  &=& Z_f \\frac{A_{OL}(f)}{1 + A_{OL}(f) + \\frac{Z_f}{Z_{C_{in}}}} \\\\[0.5em]\n",
    "&&  &=& Z_f \\frac{1}{1 + \\frac{1 + \\frac{Z_f}{Z_{C_{in}}}}{A_{OL}(f)}} \\\\[0.5em]\n",
    "&&  &=& Z_f \\frac{1}{1 + \\frac{1}{\\beta A_{OL}(f)}} &\n",
    "\\text{where } \\frac{1}{\\beta} =  1 + \\frac{Z_f}{Z_{C_{in}}} =1 + \\frac{(1+sR_f C_f)sC_{in}}{R_f} = \\frac{C_f C_{in} s^2}{R_f} + \\frac{C_{in} s}{R_f} + 1\\\\[0.5em]\n",
    "\\end{eqnarray}$"
   ]
  },
  {
   "cell_type": "code",
   "execution_count": null,
   "metadata": {},
   "outputs": [],
   "source": []
  }
 ],
 "metadata": {
  "kernelspec": {
   "display_name": "Python 3",
   "language": "python",
   "name": "python3"
  },
  "language_info": {
   "codemirror_mode": {
    "name": "ipython",
    "version": 3
   },
   "file_extension": ".py",
   "mimetype": "text/x-python",
   "name": "python",
   "nbconvert_exporter": "python",
   "pygments_lexer": "ipython3",
   "version": "3.7.9"
  },
  "varInspector": {
   "cols": {
    "lenName": 16,
    "lenType": 16,
    "lenVar": 40
   },
   "kernels_config": {
    "python": {
     "delete_cmd_postfix": "",
     "delete_cmd_prefix": "del ",
     "library": "var_list.py",
     "varRefreshCmd": "print(var_dic_list())"
    },
    "r": {
     "delete_cmd_postfix": ") ",
     "delete_cmd_prefix": "rm(",
     "library": "var_list.r",
     "varRefreshCmd": "cat(var_dic_list()) "
    }
   },
   "types_to_exclude": [
    "module",
    "function",
    "builtin_function_or_method",
    "instance",
    "_Feature"
   ],
   "window_display": false
  }
 },
 "nbformat": 4,
 "nbformat_minor": 4
}
