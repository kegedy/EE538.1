{
 "cells": [
  {
   "cell_type": "code",
   "execution_count": 1,
   "id": "emotional-northern",
   "metadata": {},
   "outputs": [],
   "source": [
    "# Imports\n",
    "import os\n",
    "import sys\n",
    "import cmath\n",
    "import math\n",
    "import matplotlib.pyplot as plt\n",
    "import matplotlib\n",
    "import numpy as np\n",
    "import pandas as pd\n",
    "import ltspice\n",
    "import sympy as sp\n",
    "from sympy.utilities.lambdify import lambdify\n",
    "from scipy import signal\n",
    "%matplotlib inline\n",
    "from IPython.core.interactiveshell import InteractiveShell\n",
    "InteractiveShell.ast_node_interactivity = \"all\"\n",
    "from matplotlib.ticker import LogLocator"
   ]
  },
  {
   "cell_type": "markdown",
   "id": "entitled-flush",
   "metadata": {},
   "source": [
    " - For completely independent noise sources, $C_c = 0$ and we combine the mean-square quantities directly:\n",
    " \n",
    "\\begin{equation}\n",
    "e_n^2 = e_{n1}^2 + e_{n2}^2\n",
    "\\end{equation}\n",
    "\n",
    "<hr>"
   ]
  },
  {
   "cell_type": "markdown",
   "id": "contained-sustainability",
   "metadata": {},
   "source": [
    "$\\begin{eqnarray}\n",
    "1.&& \\\\[0.25em]\n",
    "&& Z_f &=& R_f \\parallel C_f \\\\[0.5em]\n",
    "&& &=& \\frac{1}{R_f}+  sC_f \\\\[0.5em]\n",
    "&& &=& \\frac{1+sR_f C_f}{R_f} \\\\[0.5em]\n",
    "&& Z_c &=& \\frac{1}{sC_{in}}\n",
    "\\end{eqnarray}$\n",
    "\n",
    "\n",
    "$\\begin{eqnarray}\n",
    "2.&& \\\\[0.25em]\n",
    "&& V_{out} &=& (V^+-V^-) \\cdot A_{OL}(f)\\Bigg|_{V^+=0} = -V^- \\cdot A_{OL}(f)  \\\\[0em]\n",
    "& &&  \\text{and} \\\\[0.5em]\n",
    "&& V_{out} &=& V^- - i_{Z_F} Z_f \\\\[0.5em]\n",
    "& &&  \\text{then} \\\\[0.5em]\n",
    "&& V_{out} &=& -\\frac{V_{out}}{A_{OL}(f)}-i_{Z_F} Z_f \\\\[0.5em]\n",
    "\\end{eqnarray}$\n",
    "\n",
    "$\\begin{eqnarray}\n",
    "3.&& \\\\[0.25em]\n",
    "&& i_{Z_F} &=& i_{in} - \\frac{V^-}{Z_{C_{in}}}  \\\\[0.5em]\n",
    "&& &=& i_{in} + \\frac{V_{out}}{A_{OL}(f)\\cdot Z_{C_{in}}}\n",
    "\\end{eqnarray}$\n",
    "\n",
    "\n",
    "$\\begin{eqnarray}\n",
    "4.&& \\\\[0.25em]\n",
    "&& -V_{out} &=& \\frac{V_{out}}{A_{OL}(f)} + Z_f(i_{in} + \\frac{V_{out}}{A_{OL}(f)\\cdot Z_{C_{in}}}) \\\\[0.5em]\n",
    "&& Z_f i_{in} &=& \\frac{V_{out}}{A_{OL}(f)} + Z_f(\\frac{V_{out}}{A_{OL}(f)\\cdot Z_{C_{in}}}) + V_{out}\\\\[0.5em]\n",
    "&& Z_f i_{in} &=& V_{out}(\\frac{1}{A_{OL}(f)} + \\frac{Z_f}{A_{OL}(f)\\cdot Z_{C_{in}}} + 1)\\\\[0.5em]\n",
    "&& \\frac{V_{out}}{i_{in}} &=& \\frac{Z_f}{\\frac{1}{A_{OL}(f)} + \\frac{Z_f}{A_{OL}(f)\\cdot Z_{C_{in}}} + 1} \\\\[0.5em]\n",
    "&&  &=& \\frac{Z_f A_{OL}(f)}{1 + \\frac{Z_f}{Z_{C_{in}}} + A_{OL}(f)} \\\\[0.5em]\n",
    "&&  &=& Z_f \\frac{A_{OL}(f)}{1 + A_{OL}(f) + \\frac{Z_f}{Z_{C_{in}}}} \\\\[0.5em]\n",
    "&&  &=& \\frac{1+sR_f C_f}{R_f} \\frac{A_{OL}(f)}{1 + A_{OL}(f) + \\frac{\\frac{1+sR_f C_f}{R_f}}{\\frac{1}{sC_{in}}}} \\\\[0.5em]\n",
    "&&  &=& \\frac{1+sR_f C_f}{R_f} \\frac{A_{OL}(f)}{1 + A_{OL}(f) +\\frac{(1+sR_f C_f)sC_{in}}{R_f}} \\\\[0.5em]\n",
    "\\end{eqnarray}$\n",
    "\n",
    "$\\begin{eqnarray}\n",
    "\\text{Check}.&& \\\\[0.25em]\n",
    "&& \\frac{V_{out}}{i_{in}} &=& Z_f \\frac{A_{OL}(f)}{1 + A_{OL}(f) + \\frac{Z_f}{Z_{C_{in}}}} \\Bigg|_{C_f=0} \\\\[0.5em]\n",
    "&& &=& R_f\\cdot \\frac{A_{OL}(f)}{1+A_{OL}(f)+\\frac{R_f}{Z_{C_{in}}}} \\\\[0.5em]\n",
    "&& &=& R_f\\cdot \\frac{A_{OL}(f)}{1+A_{OL}(f)+sC_{in}R_f} \\\\[0.5em]\n",
    "\\end{eqnarray}$\n",
    "\n",
    "<hr>"
   ]
  },
  {
   "cell_type": "markdown",
   "id": "suffering-words",
   "metadata": {},
   "source": [
    "$\\begin{eqnarray}\n",
    "1.&& \\\\[0.25em]\n",
    "&& Z_f &=& R_f \\parallel C_f \\\\[0.5em]\n",
    "&& &=& (\\frac{1}{R_f}+  sC_f)^{-1} \\\\[0.5em]\n",
    "&& &=& \\frac{R_f}{1+sR_f C_f} \\\\[0.5em]\n",
    "&& Z_c &=& \\frac{1}{sC_{in}}\n",
    "\\end{eqnarray}$\n",
    "\n",
    "\n",
    "$\\begin{eqnarray}\n",
    "2.&& \\\\[0.25em]\n",
    "&& V_{out} &=& (V^+-V^-) \\cdot A_{OL}(f)\\Bigg|_{V^+=0} = -V^- \\cdot A_{OL}(f)  \\\\[0em]\n",
    "& &&  \\text{and} \\\\[0.5em]\n",
    "&& V_{out} &=& V^- - i_{Z_F} Z_f \\\\[0.5em]\n",
    "& &&  \\text{then} \\\\[0.5em]\n",
    "&& V_{out} &=& -\\frac{V_{out}}{A_{OL}(f)}-i_{Z_F} Z_f \\\\[0.5em]\n",
    "\\end{eqnarray}$\n",
    "\n",
    "$\\begin{eqnarray}\n",
    "3.&& \\\\[0.25em]\n",
    "&& i_{Z_F} &=& i_{in} - \\frac{V^-}{Z_{C_{in}}}  \\\\[0.5em]\n",
    "&& &=& i_{in} + \\frac{V_{out}}{A_{OL}(f)\\cdot Z_{C_{in}}}\n",
    "\\end{eqnarray}$\n",
    "\n",
    "\n",
    "$\\begin{eqnarray}\n",
    "4.&& \\\\[0.25em]\n",
    "&& -V_{out} &=& \\frac{V_{out}}{A_{OL}(f)} + Z_f(i_{in} + \\frac{V_{out}}{A_{OL}(f)\\cdot Z_{C_{in}}}) \\\\[0.5em]\n",
    "&& Z_f i_{in} &=& \\frac{V_{out}}{A_{OL}(f)} + Z_f(\\frac{V_{out}}{A_{OL}(f)\\cdot Z_{C_{in}}}) + V_{out}\\\\[0.5em]\n",
    "&& Z_f i_{in} &=& V_{out}(\\frac{1}{A_{OL}(f)} + \\frac{Z_f}{A_{OL}(f)\\cdot Z_{C_{in}}} + 1)\\\\[0.5em]\n",
    "&& \\frac{V_{out}}{i_{in}} &=& \\frac{Z_f}{\\frac{1}{A_{OL}(f)} + \\frac{Z_f}{A_{OL}(f)\\cdot Z_{C_{in}}} + 1} \\\\[0.5em]\n",
    "&&  &=& \\frac{Z_f A_{OL}(f)}{1 + \\frac{Z_f}{Z_{C_{in}}} + A_{OL}(f)} \\\\[0.5em]\n",
    "&&  &=& Z_f \\frac{A_{OL}(f)}{1 + A_{OL}(f) + \\frac{Z_f}{Z_{C_{in}}}} \\\\[0.5em]\n",
    "&&  &=& Z_f \\frac{1}{1 + \\frac{1 + \\frac{Z_f}{Z_{C_{in}}}}{A_{OL}(f)}} \\\\[0.5em]\n",
    "&&  &=& Z_f \\frac{1}{1 + \\frac{1}{\\beta A_{OL}(f)}} &\n",
    "\\text{where } \\frac{1}{\\beta} =  1 + \\frac{Z_f}{Z_{C_{in}}} =1 + \\frac{(1+sR_f C_f)sC_{in}}{R_f} = \\frac{C_f C_{in} s^2}{R_f} + \\frac{C_{in} s}{R_f} + 1\\\\[0.5em]\n",
    "\\end{eqnarray}$\n",
    "\n",
    "$\\begin{eqnarray}\n",
    "\\text{Check}.&& \\\\[0.25em]\n",
    "&& \\frac{V_{out}}{i_{in}} &=& Z_f \\frac{A_{OL}(f)}{1 + A_{OL}(f) + \\frac{Z_f}{Z_{C_{in}}}} \\Bigg|_{C_f=0} \\\\[0.5em]\n",
    "&& &=& R_f\\cdot \\frac{A_{OL}(f)}{1+A_{OL}(f)+\\frac{R_f}{Z_{C_{in}}}} \\\\[0.5em]\n",
    "&& &=& R_f\\cdot \\frac{A_{OL}(f)}{1+A_{OL}(f)+sC_{in}R_f} \\\\[0.5em]\n",
    "\\end{eqnarray}$\n",
    "\n",
    "<hr>"
   ]
  },
  {
   "cell_type": "markdown",
   "id": "million-democrat",
   "metadata": {},
   "source": [
    "$\\begin{eqnarray}\n",
    "&& A_{OL}(f) &=& \\frac{A_0}{1+\\frac{s}{s_p}} & \\text{where } A_0 = R_f \\\\[0.5em]\n",
    "&& |s_p| &=& \\omega_p = w_0 \\\\[0.5em] \n",
    "&& \\omega_u &=& A_0 \\omega_p \\\\[0.5em]\n",
    "&& A_{CL} &=& Z_f \\frac{A_{OL}(f)}{1 + A_{OL}(f) + \\frac{Z_f}{Z_{C_{in}}}} \\\\[0.5em]\n",
    "&& &=& Z_f \\frac{\\frac{A_0}{1+\\frac{s}{s_p}}}{1 +\\frac{A_0}{1+\\frac{s}{s_p}} + \\frac{Z_f}{Z_{C_{in}}}} \\\\[0.5em]\n",
    "&& &=& Z_f \\cdot \\frac{A_0}{1+\\frac{s}{s_p}} \\cdot \\frac{1}{1 +\\frac{A_0}{1+\\frac{s}{s_p}} + \\frac{Z_f}{Z_{C_{in}}}} \\\\[0.5em]\n",
    "&& &=& Z_f \\cdot \\frac{A_0}{1+\\frac{s}{s_p}} \\cdot \\frac{1+\\frac{s}{s_p}}{1+\\frac{s}{s_p} + A_0 + \\frac{Z_f}{Z_{C_{in}}}(1+\\frac{s}{s_p})} \\\\[0.5em]\n",
    "&& &=& Z_f \\cdot A_0 \\cdot \\frac{1}{1+\\frac{s}{s_p} + A_0 + \\frac{Z_f}{Z_{C_{in}}}(1+\\frac{s}{s_p})} \\\\[0.5em]\n",
    "&& &=& Z_f \\cdot A_0 \\cdot \\frac{1}{1+ (A_0 + \\frac{Z_f}{Z_{C_{in}}})+ \\frac{s}{s_p} (1+\\frac{Z_f}{Z_{C_{in}}})} \\\\[0.5em]\n",
    "&& &=& Z_f \\cdot A_0 \\cdot \\frac{Z_{C_{in}}}{Z_{C_{in}}+ A_0 Z_{C_{in}} + Z_f + \\frac{s}{s_p} (Z_{C_{in}}+Z_f)} \\\\[0.5em]\n",
    "&& &=& Z_f \\cdot A_0 \\cdot \\frac{Z_{C_{in}}}{Z_{C_{in}}+ A_0 Z_{C_{in}} + Z_f + \\frac{s}{s_p} (Z_{C_{in}}+Z_f)} \\\\[0.5em]\n",
    "\\end{eqnarray}$\n",
    "\n",
    "<hr>"
   ]
  },
  {
   "cell_type": "markdown",
   "id": "apparent-price",
   "metadata": {},
   "source": [
    "<center><img src=\"img/TIA_Cin.png\" width=600 /></center>"
   ]
  },
  {
   "cell_type": "markdown",
   "id": "fantastic-roots",
   "metadata": {},
   "source": [
    " - With the opamp's noise voltage modeled as $e_n$ in series with the non-inverting terminal, feedback forces $e_n$ to appear at the inverting terminal\n",
    " \n",
    " - The resulting noise current density through $C_{in}$ is $i_{nC} = e_n\\cdot 2\\pi f C_{in}$\n",
    " \n",
    " - That is, the amplifier's voltage noise creates a noise current proportional to $C_{in}$ that increases with frequency\n",
    " \n",
    " - For example, at $1\\text{ MHz}$, a noise voltage of $10\\text{nV}/\\sqrt{\\text{Hz}}$ and an input capacitance of $5\\text{pF}$ amount to a noise current density of $0.4\\text{pA}/\\sqrt{\\text{Hz}}$\n",
    " \n",
    " <hr>"
   ]
  },
  {
   "cell_type": "markdown",
   "id": "impossible-flush",
   "metadata": {},
   "source": [
    "The transfer function of a second-order low-pass filter can be written as\n",
    "\n",
    "\\begin{equation}\n",
    "H(s)={\\frac {\\omega _{0}^{2}}{s^{2}+2\\zeta \\omega _{0}\\cdot s+\\omega _{0}^{2}}}\n",
    "\\end{equation}\n",
    "\n",
    "where $\\omega_0$ is the resonant frequency and $\\zeta$ is the damping factor."
   ]
  },
  {
   "cell_type": "code",
   "execution_count": 2,
   "id": "academic-dating",
   "metadata": {},
   "outputs": [],
   "source": [
    "s,s_p,A_0,A_f,Z_f,beta,R_f,C_f,Z_Cf,C_in,Z_Cin = sp.symbols('s,s_p,A_0,A_f,Z_f,beta,R_f,C_f,Z_Cf,C_in,Z_Cin')"
   ]
  },
  {
   "cell_type": "code",
   "execution_count": 3,
   "id": "demonstrated-fleet",
   "metadata": {},
   "outputs": [
    {
     "ename": "NameError",
     "evalue": "name 'parallel' is not defined",
     "output_type": "error",
     "traceback": [
      "\u001b[0;31m---------------------------------------------------------------------------\u001b[0m",
      "\u001b[0;31mNameError\u001b[0m                                 Traceback (most recent call last)",
      "\u001b[0;32m<ipython-input-3-2737ab3dc79c>\u001b[0m in \u001b[0;36m<module>\u001b[0;34m\u001b[0m\n\u001b[1;32m      1\u001b[0m \u001b[0mZ_Cin\u001b[0m \u001b[0;34m=\u001b[0m \u001b[0;36m1\u001b[0m\u001b[0;34m/\u001b[0m\u001b[0;34m(\u001b[0m\u001b[0ms\u001b[0m\u001b[0;34m*\u001b[0m\u001b[0mC_in\u001b[0m\u001b[0;34m)\u001b[0m\u001b[0;34m\u001b[0m\u001b[0;34m\u001b[0m\u001b[0m\n\u001b[1;32m      2\u001b[0m \u001b[0mZ_Cf\u001b[0m \u001b[0;34m=\u001b[0m \u001b[0;36m1\u001b[0m\u001b[0;34m/\u001b[0m\u001b[0;34m(\u001b[0m\u001b[0ms\u001b[0m\u001b[0;34m*\u001b[0m\u001b[0mC_f\u001b[0m\u001b[0;34m)\u001b[0m\u001b[0;34m\u001b[0m\u001b[0;34m\u001b[0m\u001b[0m\n\u001b[0;32m----> 3\u001b[0;31m \u001b[0mZ_f\u001b[0m \u001b[0;34m=\u001b[0m \u001b[0mparallel\u001b[0m\u001b[0;34m(\u001b[0m\u001b[0mR_f\u001b[0m\u001b[0;34m,\u001b[0m\u001b[0mZ_Cin\u001b[0m\u001b[0;34m)\u001b[0m\u001b[0;34m\u001b[0m\u001b[0;34m\u001b[0m\u001b[0m\n\u001b[0m\u001b[1;32m      4\u001b[0m \u001b[0mbeta\u001b[0m \u001b[0;34m=\u001b[0m \u001b[0;36m1\u001b[0m\u001b[0;34m/\u001b[0m\u001b[0;34m(\u001b[0m\u001b[0;36m1\u001b[0m\u001b[0;34m+\u001b[0m \u001b[0mZ_f\u001b[0m\u001b[0;34m/\u001b[0m\u001b[0;34m(\u001b[0m\u001b[0mZ_Cin\u001b[0m\u001b[0;34m)\u001b[0m\u001b[0;34m)\u001b[0m\u001b[0;34m\u001b[0m\u001b[0;34m\u001b[0m\u001b[0m\n\u001b[1;32m      5\u001b[0m \u001b[0mA_f\u001b[0m \u001b[0;34m=\u001b[0m \u001b[0mA_0\u001b[0m\u001b[0;34m/\u001b[0m\u001b[0;34m(\u001b[0m\u001b[0;36m1\u001b[0m\u001b[0;34m+\u001b[0m\u001b[0ms\u001b[0m\u001b[0;34m/\u001b[0m\u001b[0ms_p\u001b[0m\u001b[0;34m)\u001b[0m\u001b[0;34m\u001b[0m\u001b[0;34m\u001b[0m\u001b[0m\n",
      "\u001b[0;31mNameError\u001b[0m: name 'parallel' is not defined"
     ]
    }
   ],
   "source": [
    "Z_Cin = 1/(s*C_in)\n",
    "Z_Cf = 1/(s*C_f)\n",
    "Z_f = parallel(R_f,Z_Cin)\n",
    "beta = 1/(1+ Z_f/(Z_Cin))\n",
    "A_f = A_0/(1+s/s_p)\n",
    "#sp.simplify(Z_f * A_0 * Z_Cin/(Z_Cin + A_0*Z_Cin + Z_f + (s/s_p)*(Z_Cin+Z_f)))\n",
    "#sp.simplify(Z_f/(1 + 1/(beta*A_f)))\n",
    "#sp.simplify(A_f*R_f/(1+s*R_f*(C_in+C_f)+A_f*(1+s*R_f*C_f)))"
   ]
  }
 ],
 "metadata": {
  "kernelspec": {
   "display_name": "Python 3",
   "language": "python",
   "name": "python3"
  },
  "language_info": {
   "codemirror_mode": {
    "name": "ipython",
    "version": 3
   },
   "file_extension": ".py",
   "mimetype": "text/x-python",
   "name": "python",
   "nbconvert_exporter": "python",
   "pygments_lexer": "ipython3",
   "version": "3.7.9"
  }
 },
 "nbformat": 4,
 "nbformat_minor": 5
}
