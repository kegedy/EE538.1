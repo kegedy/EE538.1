{
 "cells": [
  {
   "cell_type": "code",
   "execution_count": 1,
   "id": "sharing-reward",
   "metadata": {},
   "outputs": [],
   "source": [
    "# Imports\n",
    "import os\n",
    "import sys\n",
    "import cmath\n",
    "import math\n",
    "import matplotlib.pyplot as plt\n",
    "import matplotlib\n",
    "import numpy as np\n",
    "import pandas as pd\n",
    "import ltspice\n",
    "import sympy as sp\n",
    "from sympy.utilities.lambdify import lambdify\n",
    "from scipy import signal\n",
    "%matplotlib inline\n",
    "from IPython.core.interactiveshell import InteractiveShell\n",
    "InteractiveShell.ast_node_interactivity = \"all\"\n",
    "from matplotlib.ticker import LogLocator"
   ]
  },
  {
   "cell_type": "markdown",
   "id": "alleged-alexander",
   "metadata": {},
   "source": [
    "https://training.ti.com/how-design-transimpedance-amplifier-circuits\n",
    "\n",
    "https://www.tij.co.jp/jp/lit/an/snoa942a/snoa942a.pdf?ts=1622056332116&ref_url=https%253A%252F%252Fwww.google.com%252F\n",
    "\n",
    "https://www2.eecs.berkeley.edu/Pubs/TechRpts/2020/EECS-2020-146.pdf\n",
    "\n",
    "<hr>"
   ]
  },
  {
   "cell_type": "markdown",
   "id": "norwegian-improvement",
   "metadata": {},
   "source": [
    "**IEEE**\n",
    "\n",
    "https://people.engr.tamu.edu/spalermo/ecen689_oi/2004_rgc_tia_park_jssc.pdf\n",
    "\n",
    "<hr>"
   ]
  },
  {
   "cell_type": "markdown",
   "id": "molecular-portuguese",
   "metadata": {},
   "source": [
    "Review of Modern CMOS Transistor\n",
    "\n",
    "https://www.mdpi.com/2079-9292/8/10/1073/pdf"
   ]
  },
  {
   "cell_type": "markdown",
   "id": "typical-insured",
   "metadata": {},
   "source": [
    "**Hobbs and AoE**\n",
    "\n",
    "https://electrooptical.net/static/oldsite/talks/GettingPDRight11.pdf\n",
    "\n",
    "https://x.artofelectronics.net/wp-content/uploads/2019/11/4xp3_TIA.pdf\n",
    "\n",
    "<hr>"
   ]
  },
  {
   "cell_type": "markdown",
   "id": "running-faculty",
   "metadata": {},
   "source": [
    "**Cascode frequency response**\n",
    "\n",
    "- The photodiode signal current also sees an input impedance of $1/g_{m}$ (at low frequencies) due to the cascode device\n",
    "- At high frequencies, the diode capacitance $C_d$ shunts the signal current, reducing the current going into the TIA\n",
    "- The transfer function seen by the photodiode current is\n",
    "$$\n",
    "\\begin{equation}\n",
    "i_{in} = \\dfrac{1}{1 + sC_d/g_{m}}i_d \n",
    "\\end{equation}\n",
    "$$"
   ]
  },
  {
   "cell_type": "markdown",
   "id": "downtown-encoding",
   "metadata": {},
   "source": [
    "**Biased cascode noise**\n",
    "\n",
    "- The bias current of the cascode stage is developed based on the value of $R_E$ and the supply voltage, and is approximately given by $I_{C} = (V_{EE} - 0.6V)/R_E$\n",
    " \n",
    "- For a bias current of, say, $200\\mu A$ and a supply voltage of $\\pm 15V$, this gives $R_E \\approx 72k\\Omega$ ($R_C$ will be a similar value)\n",
    " \n",
    "- Still trying to limit the PSD of the thermal noise to $10\\%$ of the shot noise limit sets a lower bound on the signal current:\n",
    " \n",
    "\\begin{equation}\n",
    "i_d \\geq 10\\cdot\\dfrac{4kT}{2q\\cdot(R_E + R_C)} \\approx 3.6\\mu A\n",
    "\\end{equation}\n",
    "\n",
    " - The output noise contributed by $Q_1$ is minimized by $R_E$, and given by\n",
    " \n",
    "\\begin{equation}\n",
    "i_{nc1,out}^2 = \\dfrac{2qI_C}{(1+g_{m1}R_E)^2}\n",
    "\\end{equation}"
   ]
  },
  {
   "cell_type": "markdown",
   "id": "brilliant-costa",
   "metadata": {},
   "source": [
    "**Regulated cascode**\n",
    "\n",
    "- We can achieve both low noise and low input impedance by applying feedback and decreasing $Q_1$'s collector current to reduce both its shot noise and the thermal noise from $R_E$ and $R_{C1}$\n",
    " \n",
    "- The regulated (or, gain-boosted) cascode works by amplifying $Q_1$'s emitter voltage and feeding it back to its base, effectively multiplying the transconductance of $Q_1$ by the voltage gain of the common-emitter amplifer formed by $Q_2$, $R_{C2}$\n",
    " \n",
    "- The input impedance of the regulated cascode is given by\n",
    " \n",
    "\\begin{equation}\n",
    "R_{in} = \\dfrac{1}{g_{m1}(1+g_{m2}R_{C2})}\n",
    "\\end{equation}\n",
    "\n",
    "- The result is an increase in the input pole frequency by the factor $g_{m2}R_{C2}$ *without* a substantial increase in $Q_1$'s collector current (or the resulting base current shot noise)\n",
    " \n",
    "- $Q_1$'s shot noise is reduced even further by the $g_m$-boosting action of the $Q_2$ common-emitter stage, and is given approximately by\n",
    "\n",
    "\\begin{equation}\n",
    "i_{nc1,out}^2 \\approx \\dfrac{2qI_{C1}}{(1+g_{m2}R_{C2}g_{m1}R_E)^2}\n",
    "\\end{equation}\n",
    " \n",
    "- $Q_2$'s shot noise sees a gain of\n",
    " \n",
    "\\begin{align}\n",
    "i_{nc2,out} &= \\dfrac{g_{m1}R_{C2}}{1+g_{m1}R_E}i_{nc2}\\\\\n",
    "\\end{align}\n",
    "\n",
    "<hr>"
   ]
  },
  {
   "cell_type": "markdown",
   "id": "quick-beach",
   "metadata": {},
   "source": [
    "| Parameter                                             | Specification |\n",
    "|:------------------------------------------------------|:--------------|\n",
    "| Transimpedance gain (full signal path)                | $1$ $V/\\mu A$ |\n",
    "| Transimpedance bandwidth ($f_{3dB}$)                  | $1$ $MHz$     |\n",
    "| Minimum photodiode current ($i_d$)                    | $2$ $\\mu A$   |\n",
    "| Photodiode capacitance ($C_d$)                        | $150$ $pF$    |\n",
    "| Closed-loop gain magnitude peaking                    | $0$  $dB$     |\n",
    "| $rms$ noise figure ($F = 1 + i_n^2/i_{ns}^2$)         | $\\leq 0.5$ $dB$ |\n",
    "| Power dissipation ($I_{DD} \\cdot (V_{CC} + V_{EE}) $) | Optimize $mW$ |\n",
    "| Cost-per-unit (1000 units)                            | Optimize $\\$$ |\n",
    "\n",
    "<hr>"
   ]
  },
  {
   "cell_type": "markdown",
   "id": "signal-teaching",
   "metadata": {},
   "source": [
    "**TIA by itself** \n",
    "\n",
    "$C_{in}$ is fixed to photodiode (150 pF) + TIA (3-20 pF)\n",
    "\n",
    "$R_f$ is determined by gain (1e6)\n",
    "\n",
    "$C_f \\approx \\sqrt{\\dfrac{2\\cdot C_{in}}{R_f\\omega_t}}$\n",
    "\n",
    "Since $R_f$ and is $C_{in}$ fixed, $C_f$ is a function of $\\omega_t$\n",
    "\n",
    "$\\omega_{3dB} = \\sqrt{\\frac{\\omega_t}{R_f  C_{in}}} = \\sqrt{65K \\cdot \\omega_t}$\n",
    "\n",
    "And $\\omega_{3dB}$ is a function of $\\omega_t$. \n",
    "<hr>"
   ]
  },
  {
   "cell_type": "code",
   "execution_count": 2,
   "id": "asian-banking",
   "metadata": {},
   "outputs": [],
   "source": [
    "k = 1.38e-23\n",
    "T = 300\n",
    "q = 1.602e-19\n",
    "V_T = k*T/q\n",
    "\n",
    "# Photodiode\n",
    "Cd = 150*1e-12\n",
    "Id = 2*1e-6\n",
    "\n",
    "# TIA LF356\n",
    "A0 = 200*1e3\n",
    "C_TIA = 3*1e-12\n",
    "ft = 4*1e6\n",
    "# Vp = 7\n",
    "# Vn = -4\n",
    "\n",
    "# Parameters\n",
    "Cin = Cd + C_TIA\n",
    "wt = 2*np.pi*ft\n",
    "Rf = 100*1e3"
   ]
  },
  {
   "cell_type": "markdown",
   "id": "literary-incidence",
   "metadata": {},
   "source": [
    "The closed-loop transfer function of the TIA is second order, and can be expressed as\n",
    "\n",
    "$\\begin{eqnarray}\n",
    "&& H(s)  &=& {\\frac {\\omega _{0}^{2}}{s^{2}+2\\zeta \\omega _{0}\\cdot s+\\omega _{0}^{2}}} \\\\[0.5em]\n",
    "&&       &=& {\\frac {\\omega _{0}^{2}}{s^{2}+\\frac{s\\cdot\\omega_0}{Q}+\\omega _{0}^{2}}} \\\\[0.5em]\n",
    "&&       &=& {\\frac {1}{\\frac{s^{2}}{\\omega_0^2}+\\frac{s\\cdot\\omega_0}{Q}+1}}  \\\\[0.5em]\n",
    "&& \\frac{V_{out}}{i_{in}} &\\approx& -R_f \\frac{1}{1 + s R_f C_f + \\frac{s^2}{\\omega_u}R_f  C_{in}} \\\\[0.5em]\n",
    "&& \\frac{1}{\\omega_0^2} &=& \\frac{R_f  C_{in}}{\\omega_u} \\\\[0.5em]\n",
    "&& \\omega_0^2 &=& \\frac{\\omega_u}{R_f  C_{in}} \\\\[0.5em]\n",
    "&& \\omega_0 &=& \\sqrt{\\frac{\\omega_u}{R_f  C_{in}}} \\\\[0.5em]\n",
    "&& \\omega_u &\\approx& \\omega_t\n",
    "\\end{eqnarray}$\n",
    "\n",
    "<hr>"
   ]
  },
  {
   "cell_type": "markdown",
   "id": "acoustic-stuart",
   "metadata": {},
   "source": [
    "$\\begin{eqnarray}\n",
    "& \\omega_{3dB_{CL}} & &=& \\omega_0 \\\\[0.5em]\n",
    "& \\omega_{3dB_{CL}}& &=& \\sqrt{\\frac{\\omega_u}{R_f  C_{in}}} \\\\[0.5em]\n",
    "&& &=& \\sqrt{\\frac{\\omega_t}{R_f  C_{in}}} \\\\[0.5em]\n",
    "\\end{eqnarray}$\n",
    "\n",
    "<hr>"
   ]
  },
  {
   "cell_type": "markdown",
   "id": "assumed-nomination",
   "metadata": {},
   "source": [
    "That is, in order to achieve a \"well-behaved response\" we must set $\\omega_z = \\sqrt{\\omega_{p,cl}\\omega_t}$\n",
    "\n",
    "$$\n",
    "\\begin{eqnarray}\n",
    "\\omega_z &=& \\frac{1}{R_fC_f} \\\\\n",
    "\\omega_t && && \\text{ [transit frequency]} \\\\\n",
    "\\omega_{p,cl} &=& \\frac{1}{R_f(C_f+C_{in})} && \\text{ [parasitic pole]}\\\\\n",
    "\\end{eqnarray}\n",
    "$$"
   ]
  },
  {
   "cell_type": "markdown",
   "id": "invalid-bibliography",
   "metadata": {},
   "source": [
    "\"The transimpedance rolls off somewhat\n",
    "earlier than this, since it depends on the\n",
    "magnitudes of the impedances of the feed-\n",
    "back elements, and not merely on their ratio.\n",
    "Without getting into lots of algebra, we\n",
    "lose a factor of between √2 and 2 in band-\n",
    "width, depending on the details of the \n",
    "frequency compensation scheme\""
   ]
  },
  {
   "cell_type": "markdown",
   "id": "peripheral-flesh",
   "metadata": {},
   "source": [
    "$\\begin{eqnarray}\n",
    "&& f_{-3dB} &=& \\frac{\\sqrt{f_{RC}f_T}}{2}\n",
    "\\end{eqnarray}$\n",
    "\n",
    "<hr>"
   ]
  },
  {
   "cell_type": "code",
   "execution_count": 12,
   "id": "enclosed-relief",
   "metadata": {},
   "outputs": [
    {
     "name": "stdout",
     "output_type": "stream",
     "text": [
      "Worst case f3db = 254000 Hz\n"
     ]
    }
   ],
   "source": [
    "f_RC = 1/(Rf*Cin)\n",
    "f3db = np.sqrt(f_RC * ft)/2\n",
    "print(f'Worst case f3db = {round(f3db)} Hz')"
   ]
  },
  {
   "cell_type": "markdown",
   "id": "potential-brave",
   "metadata": {},
   "source": [
    "<hr>\n",
    "\n",
    "For a damping factor of $\\zeta = 1/\\sqrt{2}$ (or equivalently, $Q=1/\\sqrt{2}$, a maximally flat response), and assuming $C_{in}>>C_f$, the required value of $C_f$ is approximately\n",
    "$$ \n",
    "\\begin{equation}\n",
    "C_f \\approx \\sqrt{\\dfrac{2\\cdot C_{in}}{R_f\\omega_t}} = \\dfrac{1}{R_f}\\sqrt{\\dfrac{2\\cdot R_f C_{in}}{\\omega_t}}\n",
    "\\end{equation}\n",
    "$$"
   ]
  },
  {
   "cell_type": "code",
   "execution_count": 4,
   "id": "stainless-malpractice",
   "metadata": {},
   "outputs": [
    {
     "name": "stdout",
     "output_type": "stream",
     "text": [
      "Cf = 1.0925e-11\n"
     ]
    }
   ],
   "source": [
    "Cf = np.sqrt(2*Cin/(Rf*wt))\n",
    "print(f'Cf = {round(Cf*1e12,3)/(1e12)}')"
   ]
  },
  {
   "cell_type": "markdown",
   "id": "removable-participant",
   "metadata": {},
   "source": [
    "<hr>\n",
    "\n",
    "Assuming an ideal (infinite-bandwidth) opamp, the noise transfer function is the input/output relationship for the amplifier voltage noise\n",
    "$$\n",
    "\\begin{eqnarray}\n",
    "\\dfrac{e_{na,out}}{e_{na}} &=& \\left(1+\\dfrac{Z_f}{Z_{in}}\\right)\\\\ \n",
    "\\\\\n",
    "&=& \\dfrac{1+s(C_{in}+C_f)R_f}{1+sC_fR_f}\n",
    "\\end{eqnarray}\n",
    "$$\n",
    "\n",
    "\n",
    " - This expression has a zero at $1/R_f(C_{in}+C_f) \\approx 1/R_fC_{in}$, which results in \"peaking\" of the output noise due to $e_{na}$ and significantly degrades the noise performance of the TIA\n",
    " \n",
    " - The noise due to $e_{na}$ rises with frequency, as the impedance of $C_{in}$ decreases"
   ]
  },
  {
   "cell_type": "markdown",
   "id": "reasonable-bunny",
   "metadata": {},
   "source": [
    "0 dB Closed-loop gain magnitude peaking results in \n",
    "\n",
    "$\\begin{eqnarray}\n",
    "&& 1+s(C_{in}+C_f)R_f &=& 1+sC_fR_f\n",
    "\\end{eqnarray}$\n",
    "\n",
    "Such that $C_{in} \\geq 100 C_f$\n",
    "\n",
    "$C_f \\leq 1.5$ pF \n",
    "\n",
    "<hr>"
   ]
  },
  {
   "cell_type": "markdown",
   "id": "mathematical-stuff",
   "metadata": {},
   "source": [
    "**Noise Figure**\n",
    "\n",
    "$$\\begin{eqnarray}\n",
    "&& F = 1 + i_n^2/i_{ns}^2\n",
    "\\end{eqnarray}$$\n",
    "\n",
    "The photodiode produces a shot noise current with power spectral density given by \n",
    "$$\n",
    "\\begin{equation}\n",
    "i_{ns}^2 = 2qi_d\n",
    "\\end{equation}\n",
    "$$"
   ]
  },
  {
   "cell_type": "markdown",
   "id": "aware-cartridge",
   "metadata": {},
   "source": [
    "$\\begin{eqnarray}\n",
    "&& i_n^2 &=& \\left[\\frac{\\text{op amp noise}}{G}\\right]^2 + \\left[\\frac{\\text{thermal noise}(R_f)}{G}\\right]^2 \\\\[0.5em]\n",
    "&& i_n^2 &=& \\left[\\frac{e_{na,out}}{G} \\right]^2 + \\left[ \\frac{\\sqrt{4 kT R_f}}{G}\\right]^2 \\\\[0.5em]\n",
    "&& G &=& R_f \\\\[0.5em]\n",
    "&& i_n^2 &=& \\left[\\frac{e_{na,out}}{R_f} \\right]^2 + \\left[ \\frac{\\sqrt{4 kT R_f}}{R_f}\\right]^2 \\\\[0.5em]\n",
    "&& i_n^2 &=& \\left[\\frac{1}{R_f} \\cdot \\dfrac{1+s(C_{in}+C_f)R_f}{1+sC_fR_f} e_{na} \\right]^2 + \\left[ \\frac{\\sqrt{4 kT R_f}}{R_f}\\right]^2 \\\\[0.5em]\n",
    "&& i_n^2 &\\approx& \\left[\\dfrac{sC_{in}}{1+sC_fR_f} e_{na} \\right]^2 + \\left[ \\sqrt{\\frac{4 kT}{R_f}} \\right]^2 \\\\[0.5em]\n",
    "\\end{eqnarray}$\n",
    "\n",
    "<hr>"
   ]
  },
  {
   "cell_type": "markdown",
   "id": "genuine-disposition",
   "metadata": {},
   "source": [
    "Guide to Regulated Cascode \n",
    "https://www.researchgate.net/publication/312288934_A_Design_Methodology_to_Extend_Bandwidth_for_Regulated_Cascode_Transimpedance_Amplifier"
   ]
  },
  {
   "cell_type": "markdown",
   "id": "printable-crawford",
   "metadata": {},
   "source": [
    "Transistor Queries\n",
    "\n",
    "https://www.onsemi.com/search-results/?bz-search=Low%20low%20noise%20transistors&key=y7kv6g0vp5&bz-page=1&is_redirect=true&bz-results-per-page=10&bz-pc=1\n",
    "\n",
    "https://www.ti.com/amplifier-circuit/special-function/transconductance/products.html"
   ]
  },
  {
   "cell_type": "markdown",
   "id": "protecting-blame",
   "metadata": {},
   "source": [
    "## Filter design (OPA657)\n",
    "\n",
    "\n",
    "| Paramete   | Specification |\n",
    "|:-----------|:--------------|\n",
    "| Closed-loop gain magnitude peaking  | $0$  $dB$     |\n",
    "| Transimpedance bandwidth ($f_{3dB}$) | $1$ $MHz$     |\n",
    "\n",
    "\n",
    "<hr>\n",
    "\n",
    "Butterworth design for 0 dB peaking such that $2\\zeta = \\dfrac{1}{Q} = 1/\\sqrt{2}$. \n",
    "\n",
    "Find resulting $C_f$ and $f_{3dB}$. \n",
    "\n",
    "$\\begin{eqnarray}\n",
    "&& \\omega_t &=& 2 \\pi \\text{ (1600 MHz)}  \\\\[0.5em]\n",
    "&& C_{in} &=& (150 \\text { pF}) + 5.2 \\text { pF}) = 155.2 \\text { pF} \\\\[0.5em]\n",
    "&& C_f &=& \\sqrt{\\dfrac{2\\cdot C_{in}}{R_f\\omega_t}} = 0.56 \\text { pF} \\\\[0.5em]\n",
    "&& \\omega_{3dB} = \\omega_0 &=& \\sqrt{\\dfrac{\\omega_t}{R_f(C_{in} + C_f)}} \\\\[0.5em]\n",
    "&& f_{3dB} &=& \\omega_{3dB}/(2\\pi) = 4 \\text{ MHz} \\\\[0.5em]\n",
    "\\end{eqnarray}$"
   ]
  },
  {
   "cell_type": "markdown",
   "id": "impossible-preview",
   "metadata": {},
   "source": [
    "## Noise Design (OPA846)\n",
    "\n",
    "| Parameter                 | Specification |\n",
    "|:--------------------------|:--------------|\n",
    "| Minimum photodiode current ($i_d$) | $2$ $\\mu A$ |\n",
    "\n",
    "<hr>\n",
    "\n",
    "Input Photodiode Current Noise Density\n",
    "\n",
    "$\\begin{eqnarray}\n",
    "&& i_{ns}^2 &=& 2qi_d \\\\[0.5em]\n",
    "&& i_{ns} &=& \\sqrt{2qi_d} = 0.8 \\text{ pA}/ \\sqrt{Hz} \\\\[0.5em]\n",
    "\\end{eqnarray}$\n",
    "\n",
    "<hr>\n",
    "\n",
    "Input-Referred Thermal Noise Density\n",
    "\n",
    "$\\begin{eqnarray}\n",
    "&&  i_{n,R_f} &=& \\frac{\\sqrt{4kT R_f}}{R_f} = \\sqrt{\\frac{4kT}{R_f}} = 0.41 \\text{ pA}/\\sqrt{\\text{Hz}} \\\\[0.5em]\n",
    "\\end{eqnarray}$\n",
    "\n",
    "<hr>\n",
    "\n",
    "Input-Referred Op Amp Noise\n",
    "\n",
    "$\\begin{eqnarray}\n",
    "&&  i_{n,R_f} &=& \\frac{e_n}{R_f} = \\frac{1.2 nV}{100K} = 12 \\text{ fA}/\\sqrt{\\text{Hz}} \\\\[0.5em]\n",
    "\\end{eqnarray}$"
   ]
  },
  {
   "cell_type": "markdown",
   "id": "continental-battery",
   "metadata": {},
   "source": [
    "## Noise Density (OPA846)\n",
    "\n",
    "| Parameter  | Specification |\n",
    "|:-----------|:--------------|\n",
    "| $i_{n,out}$ | 0.28 pV /$\\sqrt{\\text{Hz}}$ |\n",
    "\n",
    "<hr>\n",
    "\n",
    "Input-Referred Current Noise Density \n",
    "- Exclude shot noise\n",
    "- Exclude TIA Transfer Function\n",
    "\n",
    "$\\begin{eqnarray}\n",
    "&& i_{n,in} &=& \\sqrt{{i_{na}}^2 + \\frac{4kT}{R_f} + \\left(\\frac{e_n}{R_f}\\right)^2} \\\\[0.5em]\n",
    "&& i_{n,in} &=& \\sqrt{{(2.8 pA)}^2 + \\frac{4kT}{100K} + \\left(\\frac{1.2 nV}{100K}\\right)^2} \\\\[0.5em]\n",
    "&&  i_{n,in} &=&  2.83 \\text{ pA}/\\sqrt{\\text{Hz}} \\\\[0.5em]\n",
    "\\end{eqnarray}$\n",
    "\n",
    "Note, the input referred is 10x larger than the threshold! "
   ]
  },
  {
   "cell_type": "code",
   "execution_count": null,
   "id": "successful-separation",
   "metadata": {},
   "outputs": [],
   "source": []
  }
 ],
 "metadata": {
  "celltoolbar": "Slideshow",
  "kernelspec": {
   "display_name": "Python 3",
   "language": "python",
   "name": "python3"
  },
  "language_info": {
   "codemirror_mode": {
    "name": "ipython",
    "version": 3
   },
   "file_extension": ".py",
   "mimetype": "text/x-python",
   "name": "python",
   "nbconvert_exporter": "python",
   "pygments_lexer": "ipython3",
   "version": "3.7.9"
  },
  "varInspector": {
   "cols": {
    "lenName": 16,
    "lenType": 16,
    "lenVar": 40
   },
   "kernels_config": {
    "python": {
     "delete_cmd_postfix": "",
     "delete_cmd_prefix": "del ",
     "library": "var_list.py",
     "varRefreshCmd": "print(var_dic_list())"
    },
    "r": {
     "delete_cmd_postfix": ") ",
     "delete_cmd_prefix": "rm(",
     "library": "var_list.r",
     "varRefreshCmd": "cat(var_dic_list()) "
    }
   },
   "types_to_exclude": [
    "module",
    "function",
    "builtin_function_or_method",
    "instance",
    "_Feature"
   ],
   "window_display": false
  }
 },
 "nbformat": 4,
 "nbformat_minor": 5
}
