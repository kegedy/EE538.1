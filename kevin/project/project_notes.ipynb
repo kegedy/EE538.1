{
 "cells": [
  {
   "cell_type": "code",
   "execution_count": 1,
   "id": "desperate-turner",
   "metadata": {},
   "outputs": [],
   "source": [
    "# Imports\n",
    "import os\n",
    "import sys\n",
    "import cmath\n",
    "import math\n",
    "import matplotlib.pyplot as plt\n",
    "import matplotlib\n",
    "import numpy as np\n",
    "import pandas as pd\n",
    "import ltspice\n",
    "import sympy as sp\n",
    "from sympy.utilities.lambdify import lambdify\n",
    "from scipy import signal\n",
    "%matplotlib inline\n",
    "from IPython.core.interactiveshell import InteractiveShell\n",
    "InteractiveShell.ast_node_interactivity = \"all\"\n",
    "from matplotlib.ticker import LogLocator"
   ]
  },
  {
   "cell_type": "markdown",
   "id": "outdoor-tonight",
   "metadata": {},
   "source": [
    "https://training.ti.com/how-design-transimpedance-amplifier-circuits\n",
    "\n",
    "https://www.tij.co.jp/jp/lit/an/snoa942a/snoa942a.pdf?ts=1622056332116&ref_url=https%253A%252F%252Fwww.google.com%252F\n",
    "\n",
    "https://www2.eecs.berkeley.edu/Pubs/TechRpts/2020/EECS-2020-146.pdf\n",
    "\n",
    "<hr>"
   ]
  },
  {
   "cell_type": "markdown",
   "id": "vocal-sucking",
   "metadata": {},
   "source": [
    "**IEEE**\n",
    "\n",
    "https://people.engr.tamu.edu/spalermo/ecen689_oi/2004_rgc_tia_park_jssc.pdf\n",
    "\n",
    "<hr>"
   ]
  },
  {
   "cell_type": "markdown",
   "id": "capital-collective",
   "metadata": {},
   "source": [
    "Review of Modern CMOS Transistor\n",
    "\n",
    "https://www.mdpi.com/2079-9292/8/10/1073/pdf"
   ]
  },
  {
   "cell_type": "markdown",
   "id": "finished-spirituality",
   "metadata": {},
   "source": [
    "**Hobbs and AoE**\n",
    "\n",
    "https://electrooptical.net/static/oldsite/talks/GettingPDRight11.pdf\n",
    "\n",
    "https://x.artofelectronics.net/wp-content/uploads/2019/11/4xp3_TIA.pdf\n",
    "\n",
    "<hr>"
   ]
  },
  {
   "cell_type": "markdown",
   "id": "clinical-afternoon",
   "metadata": {},
   "source": [
    "**Cascode frequency response**\n",
    "\n",
    "- The photodiode signal current also sees an input impedance of $1/g_{m}$ (at low frequencies) due to the cascode device\n",
    "- At high frequencies, the diode capacitance $C_d$ shunts the signal current, reducing the current going into the TIA\n",
    "- The transfer function seen by the photodiode current is\n",
    "$$\n",
    "\\begin{equation}\n",
    "i_{in} = \\dfrac{1}{1 + sC_d/g_{m}}i_d \n",
    "\\end{equation}\n",
    "$$"
   ]
  },
  {
   "cell_type": "markdown",
   "id": "known-peripheral",
   "metadata": {},
   "source": [
    "**Biased cascode noise**\n",
    "\n",
    "- The bias current of the cascode stage is developed based on the value of $R_E$ and the supply voltage, and is approximately given by $I_{C} = (V_{EE} - 0.6V)/R_E$\n",
    " \n",
    "- For a bias current of, say, $200\\mu A$ and a supply voltage of $\\pm 15V$, this gives $R_E \\approx 72k\\Omega$ ($R_C$ will be a similar value)\n",
    " \n",
    "- Still trying to limit the PSD of the thermal noise to $10\\%$ of the shot noise limit sets a lower bound on the signal current:\n",
    " \n",
    "\\begin{equation}\n",
    "i_d \\geq 10\\cdot\\dfrac{4kT}{2q\\cdot(R_E + R_C)} \\approx 3.6\\mu A\n",
    "\\end{equation}\n",
    "\n",
    " - The output noise contributed by $Q_1$ is minimized by $R_E$, and given by\n",
    " \n",
    "\\begin{equation}\n",
    "i_{nc1,out}^2 = \\dfrac{2qI_C}{(1+g_{m1}R_E)^2}\n",
    "\\end{equation}"
   ]
  },
  {
   "cell_type": "markdown",
   "id": "centered-listening",
   "metadata": {},
   "source": [
    "**Regulated cascode**\n",
    "\n",
    "- We can achieve both low noise and low input impedance by applying feedback and decreasing $Q_1$'s collector current to reduce both its shot noise and the thermal noise from $R_E$ and $R_{C1}$\n",
    " \n",
    "- The regulated (or, gain-boosted) cascode works by amplifying $Q_1$'s emitter voltage and feeding it back to its base, effectively multiplying the transconductance of $Q_1$ by the voltage gain of the common-emitter amplifer formed by $Q_2$, $R_{C2}$\n",
    " \n",
    "- The input impedance of the regulated cascode is given by\n",
    " \n",
    "\\begin{equation}\n",
    "R_{in} = \\dfrac{1}{g_{m1}(1+g_{m2}R_{C2})}\n",
    "\\end{equation}\n",
    "\n",
    "- The result is an increase in the input pole frequency by the factor $g_{m2}R_{C2}$ *without* a substantial increase in $Q_1$'s collector current (or the resulting base current shot noise)\n",
    " \n",
    "- $Q_1$'s shot noise is reduced even further by the $g_m$-boosting action of the $Q_2$ common-emitter stage, and is given approximately by\n",
    "\n",
    "\\begin{equation}\n",
    "i_{nc1,out}^2 \\approx \\dfrac{2qI_{C1}}{(1+g_{m2}R_{C2}g_{m1}R_E)^2}\n",
    "\\end{equation}\n",
    " \n",
    "- $Q_2$'s shot noise sees a gain of\n",
    " \n",
    "\\begin{align}\n",
    "i_{nc2,out} &= \\dfrac{g_{m1}R_{C2}}{1+g_{m1}R_E}i_{nc2}\\\\\n",
    "\\end{align}\n",
    "\n",
    "<hr>"
   ]
  },
  {
   "cell_type": "markdown",
   "id": "fantastic-tourist",
   "metadata": {},
   "source": [
    "| Parameter                                             | Specification |\n",
    "|:------------------------------------------------------|:--------------|\n",
    "| Transimpedance gain (full signal path)                | $1$ $V/\\mu A$ |\n",
    "| Transimpedance bandwidth ($f_{3dB}$)                  | $1$ $MHz$     |\n",
    "| Minimum photodiode current ($i_d$)                    | $2$ $\\mu A$   |\n",
    "| Photodiode capacitance ($C_d$)                        | $150$ $pF$    |\n",
    "| Closed-loop gain magnitude peaking                    | $0$  $dB$     |\n",
    "| $rms$ noise figure ($F = 1 + i_n^2/i_{ns}^2$)         | $\\leq 0.5$ $dB$ |\n",
    "| Power dissipation ($I_{DD} \\cdot (V_{CC} + V_{EE}) $) | Optimize $mW$ |\n",
    "| Cost-per-unit (1000 units)                            | Optimize $\\$$ |\n",
    "\n",
    "<hr>"
   ]
  },
  {
   "cell_type": "markdown",
   "id": "chicken-coverage",
   "metadata": {},
   "source": [
    "**TIA by itself** \n",
    "\n",
    "$C_{in}$ is fixed to photodiode (150 pF) + TIA (3-20 pF)\n",
    "\n",
    "$R_f$ is determined by gain (1e6)\n",
    "\n",
    "$C_f \\approx \\sqrt{\\dfrac{2\\cdot C_{in}}{R_f\\omega_t}}$\n",
    "\n",
    "Since $R_f$ and is $C_{in}$ fixed, $C_f$ is a function of $\\omega_t$\n",
    "\n",
    "$\\omega_{3dB} = \\sqrt{\\frac{\\omega_t}{R_f  C_{in}}} = \\sqrt{65K \\cdot \\omega_t}$\n",
    "\n",
    "And $\\omega_{3dB}$ is a function of $\\omega_t$. \n",
    "<hr>"
   ]
  },
  {
   "cell_type": "code",
   "execution_count": 2,
   "id": "ceramic-price",
   "metadata": {},
   "outputs": [],
   "source": [
    "k = 1.38e-23\n",
    "T = 300\n",
    "q = 1.602e-19\n",
    "V_T = k*T/q\n",
    "\n",
    "# Photodiode\n",
    "Cd = 150*1e-12\n",
    "Id = 2*1e-6\n",
    "\n",
    "# TIA LF356\n",
    "A0 = 200*1e3\n",
    "C_TIA = 3*1e-12\n",
    "ft = 4*1e6\n",
    "# Vp = 7\n",
    "# Vn = -4\n",
    "\n",
    "# Parameters\n",
    "Cin = Cd + C_TIA\n",
    "wt = 2*np.pi*ft\n",
    "Rf = 100*1e3"
   ]
  },
  {
   "cell_type": "markdown",
   "id": "miniature-sending",
   "metadata": {},
   "source": [
    "The closed-loop transfer function of the TIA is second order, and can be expressed as\n",
    "\n",
    "$\\begin{eqnarray}\n",
    "&& H(s)  &=& {\\frac {\\omega _{0}^{2}}{s^{2}+2\\zeta \\omega _{0}\\cdot s+\\omega _{0}^{2}}} \\\\[0.5em]\n",
    "&&       &=& {\\frac {\\omega _{0}^{2}}{s^{2}+\\frac{s\\cdot\\omega_0}{Q}+\\omega _{0}^{2}}} \\\\[0.5em]\n",
    "&&       &=& {\\frac {1}{\\frac{s^{2}}{\\omega_0^2}+\\frac{s\\cdot\\omega_0}{Q}+1}}  \\\\[0.5em]\n",
    "&& \\frac{V_{out}}{i_{in}} &\\approx& -R_f \\frac{1}{1 + s R_f C_f + \\frac{s^2}{\\omega_u}R_f  C_{in}} \\\\[0.5em]\n",
    "&& \\frac{1}{\\omega_0^2} &=& \\frac{R_f  C_{in}}{\\omega_u} \\\\[0.5em]\n",
    "&& \\omega_0^2 &=& \\frac{\\omega_u}{R_f  C_{in}} \\\\[0.5em]\n",
    "&& \\omega_0 &=& \\sqrt{\\frac{\\omega_u}{R_f  C_{in}}} \\\\[0.5em]\n",
    "&& \\omega_u &\\approx& \\omega_t\n",
    "\\end{eqnarray}$\n",
    "\n",
    "<hr>"
   ]
  },
  {
   "cell_type": "markdown",
   "id": "fifth-bleeding",
   "metadata": {},
   "source": [
    "$\\begin{eqnarray}\n",
    "& \\omega_{3dB_{CL}} & &=& \\omega_0 \\\\[0.5em]\n",
    "& \\omega_{3dB_{CL}}& &=& \\sqrt{\\frac{\\omega_u}{R_f  C_{in}}} \\\\[0.5em]\n",
    "&& &=& \\sqrt{\\frac{\\omega_t}{R_f  C_{in}}} \\\\[0.5em]\n",
    "\\end{eqnarray}$\n",
    "\n",
    "<hr>"
   ]
  },
  {
   "cell_type": "markdown",
   "id": "personalized-booth",
   "metadata": {},
   "source": [
    "That is, in order to achieve a \"well-behaved response\" we must set $\\omega_z = \\sqrt{\\omega_{p,cl}\\omega_t}$\n",
    "\n",
    "$$\n",
    "\\begin{eqnarray}\n",
    "\\omega_z &=& \\frac{1}{R_fC_f} \\\\\n",
    "\\omega_t && && \\text{ [transit frequency]} \\\\\n",
    "\\omega_{p,cl} &=& \\frac{1}{R_f(C_f+C_{in})} && \\text{ [parasitic pole]}\\\\\n",
    "\\end{eqnarray}\n",
    "$$"
   ]
  },
  {
   "cell_type": "markdown",
   "id": "voluntary-courtesy",
   "metadata": {},
   "source": [
    "\"The transimpedance rolls off somewhat\n",
    "earlier than this, since it depends on the\n",
    "magnitudes of the impedances of the feed-\n",
    "back elements, and not merely on their ratio.\n",
    "Without getting into lots of algebra, we\n",
    "lose a factor of between √2 and 2 in band-\n",
    "width, depending on the details of the \n",
    "frequency compensation scheme\""
   ]
  },
  {
   "cell_type": "markdown",
   "id": "important-special",
   "metadata": {},
   "source": [
    "$\\begin{eqnarray}\n",
    "&& f_{-3dB} &=& \\frac{\\sqrt{f_{RC}f_T}}{2}\n",
    "\\end{eqnarray}$\n",
    "\n",
    "<hr>"
   ]
  },
  {
   "cell_type": "code",
   "execution_count": 3,
   "id": "still-netherlands",
   "metadata": {},
   "outputs": [
    {
     "name": "stdout",
     "output_type": "stream",
     "text": [
      "Worst case f3db = 255655 Hz\n"
     ]
    }
   ],
   "source": [
    "f_RC = 1/(Rf*Cin)\n",
    "f3db = np.sqrt(f_RC * ft)/2\n",
    "print(f'Worst case f3db = {round(f3db)} Hz')"
   ]
  },
  {
   "cell_type": "markdown",
   "id": "commercial-second",
   "metadata": {},
   "source": [
    "<hr>\n",
    "\n",
    "For a damping factor of $\\zeta = 1/\\sqrt{2}$ (or equivalently, $Q=1/\\sqrt{2}$, a maximally flat response), and assuming $C_{in}>>C_f$, the required value of $C_f$ is approximately\n",
    "$$ \n",
    "\\begin{equation}\n",
    "C_f \\approx \\sqrt{\\dfrac{2\\cdot C_{in}}{R_f\\omega_t}} = \\dfrac{1}{R_f}\\sqrt{\\dfrac{2\\cdot R_f C_{in}}{\\omega_t}}\n",
    "\\end{equation}\n",
    "$$"
   ]
  },
  {
   "cell_type": "code",
   "execution_count": 4,
   "id": "emotional-monroe",
   "metadata": {},
   "outputs": [
    {
     "name": "stdout",
     "output_type": "stream",
     "text": [
      "Cf = 1.1034e-11\n"
     ]
    }
   ],
   "source": [
    "Cf = np.sqrt(2*Cin/(Rf*wt))\n",
    "print(f'Cf = {round(Cf*1e12,3)/(1e12)}')"
   ]
  },
  {
   "cell_type": "markdown",
   "id": "clear-waste",
   "metadata": {},
   "source": [
    "<hr>\n",
    "\n",
    "Assuming an ideal (infinite-bandwidth) opamp, the noise transfer function is the input/output relationship for the amplifier voltage noise\n",
    "$$\n",
    "\\begin{eqnarray}\n",
    "\\dfrac{e_{na,out}}{e_{na}} &=& \\left(1+\\dfrac{Z_f}{Z_{in}}\\right)\\\\ \n",
    "\\\\\n",
    "&=& \\dfrac{1+s(C_{in}+C_f)R_f}{1+sC_fR_f}\n",
    "\\end{eqnarray}\n",
    "$$\n",
    "\n",
    "\n",
    " - This expression has a zero at $1/R_f(C_{in}+C_f) \\approx 1/R_fC_{in}$, which results in \"peaking\" of the output noise due to $e_{na}$ and significantly degrades the noise performance of the TIA\n",
    " \n",
    " - The noise due to $e_{na}$ rises with frequency, as the impedance of $C_{in}$ decreases"
   ]
  },
  {
   "cell_type": "markdown",
   "id": "apart-glance",
   "metadata": {},
   "source": [
    "0 dB Closed-loop gain magnitude peaking results in \n",
    "\n",
    "$\\begin{eqnarray}\n",
    "&& 1+s(C_{in}+C_f)R_f &=& 1+sC_fR_f\n",
    "\\end{eqnarray}$\n",
    "\n",
    "Such that $C_{in} \\geq 100 C_f$\n",
    "\n",
    "$C_f \\leq 1.5$ pF \n",
    "\n",
    "<hr>"
   ]
  },
  {
   "cell_type": "markdown",
   "id": "white-analyst",
   "metadata": {},
   "source": [
    "**Noise Figure**\n",
    "\n",
    "$$\\begin{eqnarray}\n",
    "&& F = 1 + i_n^2/i_{ns}^2\n",
    "\\end{eqnarray}$$\n",
    "\n",
    "The photodiode produces a shot noise current with power spectral density given by \n",
    "$$\n",
    "\\begin{equation}\n",
    "i_{ns}^2 = 2qi_d\n",
    "\\end{equation}\n",
    "$$"
   ]
  },
  {
   "cell_type": "markdown",
   "id": "sought-suspect",
   "metadata": {},
   "source": [
    "$\\begin{eqnarray}\n",
    "&& i_n^2 &=& \\left[\\frac{\\text{op amp noise}}{G}\\right]^2 + \\left[\\frac{\\text{thermal noise}(R_f)}{G}\\right]^2 \\\\[0.5em]\n",
    "&& i_n^2 &=& \\left[\\frac{e_{na,out}}{G} \\right]^2 + \\left[ \\frac{\\sqrt{4 kT R_f}}{G}\\right]^2 \\\\[0.5em]\n",
    "&& G &=& R_f \\\\[0.5em]\n",
    "&& i_n^2 &=& \\left[\\frac{e_{na,out}}{R_f} \\right]^2 + \\left[ \\frac{\\sqrt{4 kT R_f}}{R_f}\\right]^2 \\\\[0.5em]\n",
    "&& i_n^2 &=& \\left[\\frac{1}{R_f} \\cdot \\dfrac{1+s(C_{in}+C_f)R_f}{1+sC_fR_f} e_{na} \\right]^2 + \\left[ \\frac{\\sqrt{4 kT R_f}}{R_f}\\right]^2 \\\\[0.5em]\n",
    "&& i_n^2 &\\approx& \\left[\\dfrac{sC_{in}}{1+sC_fR_f} e_{na} \\right]^2 + \\left[ \\sqrt{\\frac{4 kT}{R_f}} \\right]^2 \\\\[0.5em]\n",
    "\\end{eqnarray}$\n",
    "\n",
    "<hr>"
   ]
  },
  {
   "cell_type": "markdown",
   "id": "palestinian-bookmark",
   "metadata": {},
   "source": [
    "Guide to Regulated Cascode \n",
    "https://www.researchgate.net/publication/312288934_A_Design_Methodology_to_Extend_Bandwidth_for_Regulated_Cascode_Transimpedance_Amplifier"
   ]
  },
  {
   "cell_type": "markdown",
   "id": "adequate-memphis",
   "metadata": {},
   "source": [
    "Transistor Queries\n",
    "\n",
    "https://www.onsemi.com/search-results/?bz-search=Low%20low%20noise%20transistors&key=y7kv6g0vp5&bz-page=1&is_redirect=true&bz-results-per-page=10&bz-pc=1\n",
    "\n",
    "https://www.ti.com/amplifier-circuit/special-function/transconductance/products.html"
   ]
  },
  {
   "cell_type": "markdown",
   "id": "accredited-grove",
   "metadata": {},
   "source": [
    "## Filter design (OPA657)\n",
    "\n",
    "\n",
    "| Paramete   | Specification |\n",
    "|:-----------|:--------------|\n",
    "| Closed-loop gain magnitude peaking  | $0$  $dB$     |\n",
    "| Transimpedance bandwidth ($f_{3dB}$) | $1$ $MHz$     |\n",
    "\n",
    "\n",
    "<hr>\n",
    "\n",
    "Butterworth design for 0 dB peaking such that $2\\zeta = \\dfrac{1}{Q} = 1/\\sqrt{2}$. \n",
    "\n",
    "Find resulting $C_f$ and $f_{3dB}$. \n",
    "\n",
    "$\\begin{eqnarray}\n",
    "&& \\omega_t &=& 2 \\pi \\text{ (1600 MHz)}  \\\\[0.5em]\n",
    "&& C_{in} &=& (150 \\text { pF}) + 5.2 \\text { pF}) = 155.2 \\text { pF} \\\\[0.5em]\n",
    "&& C_f &=& \\sqrt{\\dfrac{2\\cdot C_{in}}{R_f\\omega_t}} = 0.56 \\text { pF} \\\\[0.5em]\n",
    "&& \\omega_{3dB} = \\omega_0 &=& \\sqrt{\\dfrac{\\omega_t}{R_f(C_{in} + C_f)}} \\\\[0.5em]\n",
    "&& f_{3dB} &=& \\omega_{3dB}/(2\\pi) = 4 \\text{ MHz} \\\\[0.5em]\n",
    "\\end{eqnarray}$"
   ]
  },
  {
   "cell_type": "markdown",
   "id": "administrative-diversity",
   "metadata": {},
   "source": [
    "## Noise Design (OPA846)\n",
    "\n",
    "| Parameter                 | Specification |\n",
    "|:--------------------------|:--------------|\n",
    "| Minimum photodiode current ($i_d$) | $2$ $\\mu A$ |\n",
    "\n",
    "<hr>\n",
    "\n",
    "Input Photodiode Current Noise Density\n",
    "\n",
    "$\\begin{eqnarray}\n",
    "&& i_{ns}^2 &=& 2qi_d \\\\[0.5em]\n",
    "&& i_{ns} &=& \\sqrt{2qi_d} = 0.8 \\text{ pA}/ \\sqrt{Hz} \\\\[0.5em]\n",
    "\\end{eqnarray}$\n",
    "\n",
    "<hr>\n",
    "\n",
    "Input-Referred Thermal Noise Density\n",
    "\n",
    "$\\begin{eqnarray}\n",
    "&&  i_{n,R_f} &=& \\frac{\\sqrt{4kT R_f}}{R_f} = \\sqrt{\\frac{4kT}{R_f}} = 0.41 \\text{ pA}/\\sqrt{\\text{Hz}} \\\\[0.5em]\n",
    "\\end{eqnarray}$\n",
    "\n",
    "<hr>\n",
    "\n",
    "Input-Referred Op Amp Noise\n",
    "\n",
    "$\\begin{eqnarray}\n",
    "&&  i_{n,R_f} &=& \\frac{e_n}{R_f} = \\frac{1.2 nV}{100K} = 12 \\text{ fA}/\\sqrt{\\text{Hz}} \\\\[0.5em]\n",
    "\\end{eqnarray}$"
   ]
  },
  {
   "cell_type": "markdown",
   "id": "developmental-yahoo",
   "metadata": {},
   "source": [
    "## Noise Density (OPA846)\n",
    "\n",
    "| Parameter  | Specification |\n",
    "|:-----------|:--------------|\n",
    "| $i_{n,out}$ | 0.28 pV /$\\sqrt{\\text{Hz}}$ |\n",
    "\n",
    "<hr>\n",
    "\n",
    "Input-Referred Current Noise Density \n",
    "- Exclude shot noise\n",
    "- Exclude TIA Transfer Function\n",
    "\n",
    "$\\begin{eqnarray}\n",
    "&& i_{n,in} &=& \\sqrt{{i_{na}}^2 + \\frac{4kT}{R_f} + \\left(\\frac{e_n}{R_f}\\right)^2} \\\\[0.5em]\n",
    "&& i_{n,in} &=& \\sqrt{{(2.8 pA)}^2 + \\frac{4kT}{100K} + \\left(\\frac{1.2 nV}{100K}\\right)^2} \\\\[0.5em]\n",
    "&&  i_{n,in} &=&  2.83 \\text{ pA}/\\sqrt{\\text{Hz}} \\\\[0.5em]\n",
    "\\end{eqnarray}$\n",
    "\n",
    "Note, the input referred is 10x larger than the threshold! "
   ]
  },
  {
   "cell_type": "markdown",
   "id": "invalid-second",
   "metadata": {},
   "source": [
    "## Noise Density (OPA657)\n",
    "\n",
    "| Parameter  | Specification |\n",
    "|:-----------|:--------------|\n",
    "| $rms$ noise figure | $\\leq 0.5$ $dB$ |\n",
    "| $i_{n,out}$ | 0.28 pA /$\\sqrt{\\text{Hz}}$ |\n",
    "\n",
    "<hr>\n",
    "\n",
    "Input-Referred Current Noise Density \n",
    "- Exclude shot noise\n",
    "- Exclude TIA Transfer Function\n",
    "\n",
    "$\\begin{eqnarray}\n",
    "&& i_{n,in} &=& \\sqrt{{i_{na}}^2 + \\frac{4kT}{R_f} + \\left(\\frac{e_n}{R_f}\\right)^2} \\\\[0.5em]\n",
    "&& i_{n,in} &=& \\sqrt{{(1.3 fA)}^2 + \\frac{4kT}{100K} + \\left(\\frac{4.8 nV}{100K}\\right)^2} \\\\[0.5em]\n",
    "&&  i_{n,in} &=&  0.41 \\text{ pA}/\\sqrt{\\text{Hz}} \\\\[0.5em]\n",
    "\\end{eqnarray}$"
   ]
  },
  {
   "cell_type": "markdown",
   "id": "charming-absorption",
   "metadata": {},
   "source": [
    "## Continued: Find Voltage Noise Threshold\n",
    "\n",
    "Input-Referred Thermal Noise Density:\n",
    "\n",
    "$\\begin{eqnarray}\n",
    "&&  i_{n,R_f} &=& \\frac{\\sqrt{4kT R_f}}{R_f} = \\sqrt{\\frac{4kT}{R_f}} = 0.41 \\text{ pA} \\\\[0.5em]\n",
    "\\end{eqnarray}$\n",
    "\n",
    "<hr>\n",
    "\n",
    "Current Noise Density excluding shot:\n",
    "\n",
    "$\\begin{eqnarray}\n",
    "&& i_{n,in} &=& \\sqrt{{i_n}^2 + \\frac{4kT}{R_f} + \\left(\\frac{e_n}{R_f}\\right)^2} \\\\[0.5em]\n",
    "&& i_{n,in}^2 &\\approx& \\sqrt{\\frac{4kT}{R_f} + \\left(\\frac{e_n}{R_f}\\right)^2} \\\\[0.5em]\n",
    "&& \\left(\\frac{e_n}{R_f}\\right)^2  &=& i_{n,in}^2  - \\frac{4kT}{R_f} \\\\[0.5em]\n",
    "&& e_{n,in}  &=&  R_f \\sqrt{i_{n,in}^2   - \\frac{4kT}{R_f}} & \\text{ not solvable; thermal noise is larger} \\\\[0.5em]\n",
    "\\end{eqnarray}$"
   ]
  },
  {
   "cell_type": "markdown",
   "id": "banner-denial",
   "metadata": {},
   "source": [
    "## Filter design (OPA846)\n",
    "\n",
    "\n",
    "| Paramete   | Specification |\n",
    "|:-----------|:--------------|\n",
    "| Closed-loop gain magnitude peaking  | $0$  $dB$     |\n",
    "| Transimpedance bandwidth ($f_{3dB}$) | $1$ $MHz$     |\n",
    "\n",
    "\n",
    "<hr>\n",
    "\n",
    "Butterworth design for 0 dB peaking such that $2\\zeta = \\dfrac{1}{Q} = 1/\\sqrt{2}$. \n",
    "\n",
    "Find resulting $C_f$ and $f_{3dB}$. \n",
    "\n",
    "$\\begin{eqnarray}\n",
    "&& \\omega_t &=& 2 \\pi \\text{ (1750 MHz)}  \\\\[0.5em]\n",
    "&& C_{in} &=& (150 \\text { pF}) + (\\sim 5 \\text { pF}) = 155 \\text { pF} \\\\[0.5em]\n",
    "&& C_f &=& \\sqrt{\\dfrac{2\\cdot C_{in}}{R_f\\omega_t}} = 0.53 \\text { pF} \\\\[0.5em]\n",
    "&& \\omega_{3dB} = \\omega_0 &=& \\sqrt{\\dfrac{\\omega_t}{R_f(C_{in} + C_f)}} \\\\[0.5em]\n",
    "&& f_{3dB} &=& \\omega_{3dB}/(2\\pi) = 4.2 \\text{ MHz} \\\\[0.5em]\n",
    "\\end{eqnarray}$"
   ]
  },
  {
   "cell_type": "markdown",
   "id": "local-darwin",
   "metadata": {},
   "source": [
    "## Continued: Assume Noiseless Rf\n",
    "\n",
    "Input-Referred Voltage Noise Density:\n",
    "\n",
    "$\\begin{eqnarray}\n",
    "&& i_{n,in}^2 &\\approx& \\left[\\text{op amp noise}\\right]^2 \\\\[0.5em]\n",
    "&& \\left(\\frac{e_n}{R_f}\\right)^2  &=& i_{n,in}^2  \\\\[0.5em]\n",
    "&& e_{n,in} &=&  i_{n,in} R_f \\\\[0.5em]\n",
    "&& &=& \\frac{i_{n,out}}{R_f} R_f \\\\[0.5em]\n",
    "&& &=& 0.28 \\text{ pV}/ \\sqrt{Hz} \\\\[0.5em]\n",
    "\\end{eqnarray}$\n",
    "\n",
    "Voltage noise density must be less than $\\sqrt{0.122} \\cdot i_{ns}$\n",
    "\n",
    "Choose $R_f$ to be such that $R_f = 100 \\Omega$ so that achievable performance can be met.\n",
    "\n",
    "Need additional stages. Best TIA's have performance on the order of $\\sim 1 \\text{ nV}/ \\sqrt{Hz}$."
   ]
  },
  {
   "cell_type": "markdown",
   "id": "permanent-glasgow",
   "metadata": {},
   "source": [
    "## AC Response\n",
    "\n",
    "| Paramete   | Specification |\n",
    "|:-----------|:--------------|\n",
    "| Closed-loop gain magnitude peaking  | $0$  $dB$     |\n",
    "| Transimpedance bandwidth ($f_{3dB}$) | $1$ $MHz$     |"
   ]
  },
  {
   "cell_type": "code",
   "execution_count": 5,
   "id": "mineral-gregory",
   "metadata": {},
   "outputs": [],
   "source": [
    "# Plot Input-Referred Current Noise Density\n",
    "s,e_na,i_na,C_TIA = sp.symbols('s,e_na,i_na,C_TIA')\n",
    "f = np.logspace(0, 7, 10000)\n",
    "w = 2*np.pi*f\n",
    "\n",
    "# OPA657\n",
    "components1 = {\n",
    "    e_na : 4.8*1e-9,\n",
    "    i_na : 1.3*1e-15,\n",
    "    C_TIA : 5.2*1e-12\n",
    "}\n",
    "# OPA846\n",
    "components2 = {\n",
    "    e_na : 1.2*1e-9,\n",
    "    i_na : 2.8*1e-12,\n",
    "    C_TIA : 3.8*1e-12\n",
    "}\n",
    "\n",
    "i_ns = 2*q*Id\n",
    "GBW = 1600*1e6\n",
    "wt = 2*sp.pi*GBW\n",
    "Rf = 100*1e3\n",
    "Cin = Cd + C_TIA\n",
    "Cf = sp.sqrt(2*Cin/(2*sp.pi*GBW*Rf))\n",
    "en = e_na*((Cin+Cf)*Rf*s + 1)/(Cf*Rf*s + 1)\n",
    "noise_sq = i_na**2 + 4*k*T/Rf + (en/Rf)**2 # + (1/3)*(en*2*sp.pi*fenb*Cin)**2\n",
    "noise = sp.sqrt(noise_sq)"
   ]
  },
  {
   "cell_type": "code",
   "execution_count": 6,
   "id": "industrial-frequency",
   "metadata": {},
   "outputs": [],
   "source": [
    "H = sp.Matrix([noise])\n",
    "H1 = H.subs(components1)\n",
    "H2 = H.subs(components2)\n",
    "H1 = lambdify(s,H1,modules='numpy')\n",
    "H1 = H1(1j*w)\n",
    "H1 = H1[0][0]\n",
    "H2 = lambdify(s,H2,modules='numpy')\n",
    "H2 = H2(1j*w)\n",
    "H2 = H2[0][0]"
   ]
  },
  {
   "cell_type": "code",
   "execution_count": 7,
   "id": "guided-wrong",
   "metadata": {},
   "outputs": [
    {
     "data": {
      "image/png": "[encoded data removed]",
      "text/plain": [
       "<Figure size 864x432 with 1 Axes>"
      ]
     },
     "metadata": {
      "needs_background": "light"
     },
     "output_type": "display_data"
    }
   ],
   "source": [
    "fig, ax = plt.subplots(figsize=(12,6))\n",
    "ax.set_title('Input-Referred Current Noise Density')\n",
    "ax.semilogx(f, abs(H1),label=r'OPA657')\n",
    "ax.semilogx(f, abs(H2),label=r'OPA846')\n",
    "ax.set_ylabel(r'Current Noise [$nA/\\sqrt{Hz}$]')\n",
    "ax.set_xlabel('Frequency [Hz]')\n",
    "ax.ticklabel_format(style='sci',axis='y',scilimits=(-12,-12))\n",
    "ax.grid(which='both', axis='both')\n",
    "ax.legend()\n",
    "plt.show();"
   ]
  },
  {
   "cell_type": "code",
   "execution_count": 8,
   "id": "sublime-trunk",
   "metadata": {},
   "outputs": [],
   "source": [
    "f = np.logspace(0, 5, 10000)\n",
    "w = 2*np.pi*f\n",
    "\n",
    "H = sp.Matrix([10*sp.log(1+noise_sq/i_ns,10)])\n",
    "H1 = H.subs(components1)\n",
    "H2 = H.subs(components2)\n",
    "H1 = lambdify(s,H1,modules='numpy')\n",
    "H1 = H1(1j*w)\n",
    "H1 = H1[0][0]\n",
    "H2 = lambdify(s,H2,modules='numpy')\n",
    "H2 = H2(1j*w)\n",
    "H2 = H2[0][0]"
   ]
  },
  {
   "cell_type": "code",
   "execution_count": 9,
   "id": "duplicate-roots",
   "metadata": {},
   "outputs": [
    {
     "data": {
      "image/png": "[encoded data removed]",
      "text/plain": [
       "<Figure size 864x360 with 1 Axes>"
      ]
     },
     "metadata": {
      "needs_background": "light"
     },
     "output_type": "display_data"
    }
   ],
   "source": [
    "fig, ax = plt.subplots(figsize=(12,5))\n",
    "ax.set_title('Noise Figure')\n",
    "ax.semilogx(f, abs(H1),label=r'OPA657')\n",
    "#ax.semilogx(f, abs(H2),label=r'OPA846')\n",
    "ax.set_ylabel(r'Output Noise [$dB$]')\n",
    "ax.set_xlabel('Frequency [Hz]')\n",
    "ax.grid(which='both', axis='both')\n",
    "ax.legend()\n",
    "plt.show();"
   ]
  },
  {
   "cell_type": "code",
   "execution_count": 10,
   "id": "sharing-visibility",
   "metadata": {},
   "outputs": [],
   "source": [
    "f3db = sp.sqrt(GBW/(2*sp.pi*Rf*Cin))\n",
    "# fenb = 1.11*f3dB\n",
    "w0 = sp.sqrt(wt/(Cin+Cf)/Rf)\n",
    "zeta = Rf*Cf*w0/2\n",
    "TIA = (Rf*w0**2)/(s**2 + 2*s*zeta*w0 + w0**2)"
   ]
  },
  {
   "cell_type": "code",
   "execution_count": 11,
   "id": "surgical-statistics",
   "metadata": {},
   "outputs": [],
   "source": [
    "H = sp.Matrix([TIA])\n",
    "H1 = H.subs(components1)\n",
    "H2 = H.subs(components2)\n",
    "H1 = lambdify(s,H1,modules='numpy')\n",
    "H1 = H1(1j*w)\n",
    "H1 = H1[0][0]\n",
    "H2 = lambdify(s,H2,modules='numpy')\n",
    "H2 = H2(1j*w)\n",
    "H2 = H2[0][0]"
   ]
  },
  {
   "cell_type": "code",
   "execution_count": 12,
   "id": "indian-duncan",
   "metadata": {},
   "outputs": [
    {
     "data": {
      "image/png": "[encoded data removed]",
      "text/plain": [
       "<Figure size 864x360 with 1 Axes>"
      ]
     },
     "metadata": {
      "needs_background": "light"
     },
     "output_type": "display_data"
    }
   ],
   "source": [
    "fig, ax = plt.subplots(figsize=(12,5))\n",
    "ax.set_title('Noise Figure')\n",
    "ax.semilogx(f, abs(H1),label=r'OPA657')\n",
    "#ax.semilogx(f, abs(H2),label=r'OPA846')\n",
    "ax.set_ylabel(r'Output Noise [$dB$]')\n",
    "ax.set_xlabel('Frequency [Hz]')\n",
    "ax.grid(which='both', axis='both')\n",
    "ax.legend()\n",
    "plt.show();"
   ]
  },
  {
   "cell_type": "code",
   "execution_count": 14,
   "id": "civilian-magazine",
   "metadata": {},
   "outputs": [],
   "source": [
    "def f(Rf,GBW,C_TIA,e_n,i_n,Cd,Id):\n",
    "    x = sp.symbols('x')\n",
    "    d = {}\n",
    "    wt = 2*np.pi*GBW\n",
    "    Cin = C_TIA+Cd\n",
    "    Cf = np.sqrt(2*Cin/(Rf*wt))\n",
    "    f_RC = 1/(Rf*Cin)\n",
    "    f3db = np.sqrt(GBW/(2*np.pi*Rf*Cin))\n",
    "    i_ns = np.sqrt(2*q*Id)\n",
    "    thermal_input = np.sqrt(4*k*T/Rf)\n",
    "    i_input_ref = np.sqrt(0.122)\n",
    "    e_input_ref = np.sqrt( (i_n**2)*(Rf)**2)\n",
    "    d['Rf'] = Rf\n",
    "    d['Cf'] = Cf\n",
    "    d['f_RC'] = f_RC\n",
    "    d['f3db']= f3db\n",
    "    d['i_ns'] = i_ns\n",
    "    d['thermal_input'] = thermal_input\n",
    "    d['i_input_ref'] = i_input_ref\n",
    "    d['e_input_ref'] = e_input_ref\n",
    "    return d"
   ]
  },
  {
   "cell_type": "code",
   "execution_count": 15,
   "id": "unique-humanitarian",
   "metadata": {},
   "outputs": [
    {
     "data": {
      "text/plain": [
       "{'Rf': 100000.0,\n",
       " 'Cf': 5.556622981616415e-13,\n",
       " 'f_RC': 64432.989690721646,\n",
       " 'f3db': 4050645.1451525567,\n",
       " 'i_ns': 8.004998438475799e-13,\n",
       " 'thermal_input': 4.069397989875161e-13,\n",
       " 'i_input_ref': 0.3492849839314596,\n",
       " 'e_input_ref': 3e-10}"
      ]
     },
     "execution_count": 15,
     "metadata": {},
     "output_type": "execute_result"
    }
   ],
   "source": [
    "Rf = 100*1e3\n",
    "GBW = 1600*1e6\n",
    "C_TIA = 5.2*1e-12\n",
    "e_n = 2.2*1e-9\n",
    "i_n = 3*1e-15\n",
    "\n",
    "f(Rf,GBW,C_TIA,e_n,i_n,Cd,Id)"
   ]
  },
  {
   "cell_type": "code",
   "execution_count": null,
   "id": "light-extent",
   "metadata": {},
   "outputs": [],
   "source": []
  }
 ],
 "metadata": {
  "celltoolbar": "Slideshow",
  "kernelspec": {
   "display_name": "Python 3",
   "language": "python",
   "name": "python3"
  },
  "language_info": {
   "codemirror_mode": {
    "name": "ipython",
    "version": 3
   },
   "file_extension": ".py",
   "mimetype": "text/x-python",
   "name": "python",
   "nbconvert_exporter": "python",
   "pygments_lexer": "ipython3",
   "version": "3.7.9"
  },
  "varInspector": {
   "cols": {
    "lenName": 16,
    "lenType": 16,
    "lenVar": 40
   },
   "kernels_config": {
    "python": {
     "delete_cmd_postfix": "",
     "delete_cmd_prefix": "del ",
     "library": "var_list.py",
     "varRefreshCmd": "print(var_dic_list())"
    },
    "r": {
     "delete_cmd_postfix": ") ",
     "delete_cmd_prefix": "rm(",
     "library": "var_list.r",
     "varRefreshCmd": "cat(var_dic_list()) "
    }
   },
   "types_to_exclude": [
    "module",
    "function",
    "builtin_function_or_method",
    "instance",
    "_Feature"
   ],
   "window_display": false
  }
 },
 "nbformat": 4,
 "nbformat_minor": 5
}
