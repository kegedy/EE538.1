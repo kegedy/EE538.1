{
 "cells": [
  {
   "cell_type": "code",
   "execution_count": 1,
   "id": "parliamentary-suggestion",
   "metadata": {
    "slideshow": {
     "slide_type": "skip"
    }
   },
   "outputs": [],
   "source": [
    "# Imports\n",
    "import os\n",
    "import sys\n",
    "import cmath\n",
    "import math\n",
    "import matplotlib.pyplot as plt\n",
    "import matplotlib\n",
    "import numpy as np\n",
    "import pandas as pd\n",
    "import ltspice\n",
    "import sympy as sp\n",
    "from sympy.utilities.lambdify import lambdify\n",
    "from scipy import signal\n",
    "#%matplotlib inline\n",
    "from IPython.core.interactiveshell import InteractiveShell\n",
    "InteractiveShell.ast_node_interactivity = \"all\"\n",
    "from matplotlib.ticker import LogLocator"
   ]
  },
  {
   "cell_type": "code",
   "execution_count": 2,
   "id": "material-terror",
   "metadata": {
    "slideshow": {
     "slide_type": "skip"
    }
   },
   "outputs": [],
   "source": [
    "k = 1.38e-23\n",
    "T = 300\n",
    "q = 1.602e-19\n",
    "V_T = k*T/q\n",
    "f_enb = 1e6\n",
    "\n",
    "# Photodiode\n",
    "Cd = 150*1e-12\n",
    "Id = 2*1e-6"
   ]
  },
  {
   "cell_type": "code",
   "execution_count": 77,
   "id": "amber-agent",
   "metadata": {},
   "outputs": [],
   "source": [
    "def f1(Rf,ft,C_TIA,Cd,Id):\n",
    "    x = sp.symbols('x')\n",
    "    d = {}\n",
    "    wt = 2*np.pi*ft\n",
    "    Cin = C_TIA+Cd\n",
    "    Cf = np.sqrt(2*Cin/(Rf*wt))\n",
    "    f_RC = 1/(Rf*Cin)\n",
    "    w3db = np.sqrt(f_RC * wt)\n",
    "    f3db = w3db/(2*np.pi)\n",
    "    i_ns = np.sqrt(2*q*Id)\n",
    "    thermal_input = np.sqrt(4*k*T/Rf)\n",
    "    i_input_ref = np.sqrt(0.122)*i_ns/Rf\n",
    "    e_input_ref = np.sqrt( (i_input_ref**2)*(Rf)**2)\n",
    "    d['Rf'] = Rf\n",
    "    d['Cf'] = Cf\n",
    "    d['f_RC'] = f_RC\n",
    "    d['w3db'] = w3db\n",
    "    d['f3db']= f3db\n",
    "    d['i_ns'] = i_ns\n",
    "    d['thermal_input'] = thermal_input\n",
    "    d['i_input_ref'] = i_input_ref\n",
    "    d['e_input_ref'] = e_input_ref\n",
    "    return d"
   ]
  },
  {
   "cell_type": "code",
   "execution_count": 83,
   "id": "liberal-discussion",
   "metadata": {},
   "outputs": [
    {
     "data": {
      "text/plain": [
       "{'Rf': 100,\n",
       " 'Cf': 4.966791336390506e-10,\n",
       " 'f_RC': 64516129.03225806,\n",
       " 'w3db': 28473383.852699567,\n",
       " 'f3db': 4531679.786710091,\n",
       " 'i_ns': 8.004998438475799e-13,\n",
       " 'thermal_input': 1.2868566353716331e-11,\n",
       " 'i_input_ref': 2.796025750954379e-15,\n",
       " 'e_input_ref': 2.796025750954379e-13}"
      ]
     },
     "execution_count": 83,
     "metadata": {},
     "output_type": "execute_result"
    }
   ],
   "source": [
    "Rf = 100\n",
    "ft = 2*1e6\n",
    "C_TIA = 5*1e-12\n",
    "Cd = 150*1e-12\n",
    "Id = 2*1e-6\n",
    "f1(Rf,ft,C_TIA,Cd,Id)"
   ]
  },
  {
   "cell_type": "markdown",
   "id": "hungry-niger",
   "metadata": {
    "slideshow": {
     "slide_type": "slide"
    }
   },
   "source": [
    "## Design Project: Low-Noise Wideband Transimpedance Amplifier Design\n",
    "#### Kevin Egedy\n",
    "#### June 2, 2021\n",
    "\n",
    "show picture of architecture"
   ]
  },
  {
   "cell_type": "markdown",
   "id": "portable-growing",
   "metadata": {
    "slideshow": {
     "slide_type": "slide"
    }
   },
   "source": [
    "## Spec\n",
    "\n",
    "| Parameter                                             | Specification |\n",
    "|:------------------------------------------------------|:--------------|\n",
    "| Transimpedance gain (full signal path)                | $1$ $V/\\mu A$ |\n",
    "| Transimpedance bandwidth ($f_{3dB}$)                  | $1$ $MHz$     |\n",
    "| Minimum photodiode current ($i_d$)                    | $2$ $\\mu A$   |\n",
    "| Photodiode capacitance ($C_d$)                        | $150$ $pF$    |\n",
    "| Closed-loop gain magnitude peaking                    | $0$  $dB$     |\n",
    "| $rms$ noise figure ($F = 1 + i_n^2/i_{ns}^2$)         | $\\leq 0.5$ $dB$ |\n",
    "| Power dissipation ($I_{DD} \\cdot (V_{CC} + V_{EE}) $) | Optimize $mW$ |\n",
    "| Cost-per-unit (1000 units)                            | Optimize $\\$$ |"
   ]
  },
  {
   "cell_type": "markdown",
   "id": "enabling-senior",
   "metadata": {
    "slideshow": {
     "slide_type": "slide"
    }
   },
   "source": [
    "## Getting Started\n",
    "\n",
    "[TI-design-transimpedance-amplifier-circuits](https://training.ti.com/how-design-transimpedance-amplifier-circuits)\n",
    "- [Explore TI Transconductance Amplifiers](http://www.ti.com/lsds/ti/amplifiers/special-function-amplifiers/transconductance-amplifiers-products.page)\n",
    "- [Transimpedance Considerations for High-Speed Amplifiers](http://www.ti.com/litv/pdf/sboa122)\n",
    "\n",
    "<div font-size=\"8px\">\n",
    "<center><img src='img/noise-analysis-circuit.png'></center> \n",
    "\n",
    "\n",
    "$\\begin{eqnarray}\n",
    "&& i_{n,in} &=& \\sqrt{{i_n}^2 + \\frac{4kT}{R_f} + \\left(\\frac{e_n}{R_f}\\right)^2 + \\frac{(e_n \\cdot 2\\pi f_{enb} C_{in})^2}{3}} \\\\[0.75em]\n",
    "&& R_f &=& \\sqrt{\\frac{e_{n_{(FET)}}^2 - e_{n_{(BJT)}}^2}{{i_n}^2_{(BJT)}- {i_n}^2_{(FET)} + \\frac{2\\pi f_{enb}}{3} (C_{in_{(BJT)}} e_{n_{(BJT)}}^2 - C_{in_{(FET)}} e_{n_{(FET)}}^2) }}\n",
    "\\end{eqnarray}$\n",
    "</div>\n"
   ]
  },
  {
   "cell_type": "markdown",
   "id": "exclusive-triple",
   "metadata": {
    "slideshow": {
     "slide_type": "slide"
    }
   },
   "source": [
    "## TI: Continued\n",
    "<div line-height=\"50%\">\n",
    "<center><img src='img/Bandwidth-vs-Gain.png'></center> \n",
    "\n",
    "\n",
    "\"Using Equation 13 and comparing two amplifiers with very similar GBP—the OPA846 and the\n",
    "OPA657—we can then **determine an appropriate transimpedance gain threshold**. Below this threshold, it\n",
    "is preferable to use bipolar technology to achieve lower noise, while above the threshold it is better to use\n",
    "FET technology ...\n",
    "\n",
    "the total input-referred noise\n",
    "generated by the OPA657 FET amplifier will be lower than that of the OPA846 bipolar amplifier for any\n",
    "transimpedance gain greater than **2kΩ**.\n",
    "\n",
    "FET-input operational amplifiers, such as the OPA657, are capable of higher transimpedance, where\n",
    "decompensated bipolar operational amplifiers are capable of much higher bandwidth but are limited in\n",
    "gain range.\"\n",
    "</div>"
   ]
  },
  {
   "cell_type": "markdown",
   "id": "extreme-manchester",
   "metadata": {
    "slideshow": {
     "slide_type": "slide"
    }
   },
   "source": [
    "## TI Continued: DC-Parameters Consideration\n",
    "\n",
    "<center><img src='img/310kOhm_example.png'></center>\n",
    "\n",
    "\n",
    "\"The input bias current of the OPA846, 19μA, generates an output offset voltage with the feedback resistor\n",
    "of 310kΩ of **5.89V**. Because the OPA846 is operating on a ±5V power supply, this offset voltage sends\n",
    "the output into **saturation**. Adding a 310kΩ resistor on the noninverting input allows bias current\n",
    "cancellation but now puts 5.89V common-mode voltage on the input, exceeding the common-mode input\n",
    "range of the OPA846.\""
   ]
  },
  {
   "cell_type": "markdown",
   "id": "found-louisiana",
   "metadata": {
    "slideshow": {
     "slide_type": "slide"
    }
   },
   "source": [
    "## Compare OPA657 and OPA846\n",
    "\n",
    "| Name | GBW | $e_n$ | $i_n$ | $C_{in}$  |\n",
    "|:-----|:---:|:---:|:---:|:----:|\n",
    "|[OPA657](http://focus.ti.com/docs/prod/folders/print/opa657.html)| 2 MHz | 4.8 nV/$\\sqrt{\\text{Hz}}$| 1.3 fA/$\\sqrt{\\text{Hz}}$|150pF + 5.2pF = 155.2pF|\n",
    "|[OPA846](http://focus.ti.com/docs/prod/folders/print/opa846.html)| 2.1 MHz | 1.2 nV/$\\sqrt{\\text{Hz}}$| 2.8 pA/$\\sqrt{\\text{Hz}}$|150pF + 3.8pF = 153.8pF|"
   ]
  },
  {
   "cell_type": "markdown",
   "id": "dental-input",
   "metadata": {
    "slideshow": {
     "slide_type": "slide"
    }
   },
   "source": [
    "## Choose TIA Gain\n",
    "\n",
    "| Paramete   | Specification |\n",
    "|:-----------|:--------------|\n",
    "| Transimpedance gain (full signal path) | $1$ $V/\\mu A$ |\n",
    "\n",
    "<hr>\n",
    "\n",
    "Based on TI figure, choose TIA gain to be 100K $\\Omega$. Will need additional 10 V/V gain stage.\n",
    "\n",
    "$\\begin{eqnarray}\n",
    "&& \\frac{v_o}{i_d} &=& R_f\\dfrac{\\omega_0^2}{s^2 + 2\\zeta\\omega_0 + \\omega_0^2} \\\\[0.5em]\n",
    "&& A_{v,CL} &=& R_f = 100K  \\\\[0.5em]\n",
    "\\end{eqnarray}$"
   ]
  },
  {
   "cell_type": "code",
   "execution_count": 55,
   "id": "convenient-macro",
   "metadata": {
    "slideshow": {
     "slide_type": "skip"
    }
   },
   "outputs": [
    {
     "data": {
      "text/plain": [
       "97.3893722612836"
      ]
     },
     "execution_count": 55,
     "metadata": {},
     "output_type": "execute_result"
    }
   ],
   "source": [
    "# Find GBW\n",
    "x = sp.symbols('x')\n",
    "system = sp.Matrix([\n",
    " 2*sp.pi*1e6 - sp.sqrt(f_RC * x)\n",
    "])\n",
    "eq = sp.solve(system)\n",
    "n = float(eq[0][x])\n",
    "n/(2*np.pi)/1e6"
   ]
  },
  {
   "cell_type": "markdown",
   "id": "western-karaoke",
   "metadata": {
    "slideshow": {
     "slide_type": "slide"
    }
   },
   "source": [
    "## Choose filter design\n",
    "\n",
    "\n",
    "| Paramete   | Specification |\n",
    "|:-----------|:--------------|\n",
    "| Closed-loop gain magnitude peaking  | $0$  $dB$     |\n",
    "| Transimpedance bandwidth ($f_{3dB}$) | $1$ $MHz$     |\n",
    "\n",
    "\n",
    "<hr>\n",
    "\n",
    "Butterworth design for 0 dB peaking such that $2\\zeta = \\dfrac{1}{Q} = 1/\\sqrt{2}$. \n",
    "\n",
    "Find resulting $C_f$ and $f_{3dB}$. \n",
    "\n",
    "$\\begin{eqnarray}\n",
    "&& \\omega_t &=& 2 \\pi \\text{ (2 MHz)}  \\\\[0.5em]\n",
    "&& C_{in} &=& (150 \\text { pF}) + (\\sim 5 \\text { pF}) = 155 \\text { pF} \\\\[0.5em]\n",
    "&& C_f &=& \\sqrt{\\dfrac{2\\cdot C_{in}}{R_f\\omega_t}} = 15.7 \\text { pF} \\\\[0.5em]\n",
    "&& \\omega_{3dB} = \\omega_0 &=& \\sqrt{\\dfrac{\\omega_t}{R_f(C_{in} + C_f)}} = 900 \\text{ kHz} \\\\[0.5em]\n",
    "\\end{eqnarray}$\n",
    "\n",
    "Note, if we want to keep this gain and no additional bandwidth stages, then would need GBW of 100 MHz to meet $f_{3dB}$ spec. This is possible!"
   ]
  },
  {
   "cell_type": "markdown",
   "id": "exact-vessel",
   "metadata": {
    "slideshow": {
     "slide_type": "slide"
    }
   },
   "source": [
    "## Noise Design\n",
    "\n",
    "| Parameter                 | Specification |\n",
    "|:--------------------------|:--------------|\n",
    "| $rms$ noise figure        | $\\leq 0.5$ $dB$ |\n",
    "| Minimum photodiode current ($i_d$) | $2$ $\\mu A$ |\n",
    "\n",
    "<hr>\n",
    "\n",
    "Setup noise calculations.\n",
    "\n",
    "$\\begin{eqnarray}\n",
    "&& F &=& 1 + i_{n,out}^2/i_{ns}^2 \\\\[0.5em]\n",
    "&& \\dfrac{e_{na,out}}{e_{na}} &=& \\left(1+\\dfrac{Z_f}{Z_{in}}\\right) = \\dfrac{1+s(C_{in}+C_f)R_f}{1+sC_fR_f} \\\\[0.5em]\n",
    "\\end{eqnarray}$\n",
    "\n",
    "Photodiode current noise density\n",
    "\n",
    "$\\begin{eqnarray}\n",
    "&& i_{ns}^2 &=& 2qi_d \\\\[0.5em]\n",
    "&& i_{ns} &=& \\sqrt{2qi_d} = 0.8 \\text{ pA}/ \\sqrt{Hz} \\\\[0.5em]\n",
    "\\end{eqnarray}$"
   ]
  },
  {
   "cell_type": "code",
   "execution_count": 8,
   "id": "august-mambo",
   "metadata": {
    "slideshow": {
     "slide_type": "skip"
    }
   },
   "outputs": [
    {
     "data": {
      "text/plain": [
       "1.1220184543019633"
      ]
     },
     "execution_count": 8,
     "metadata": {},
     "output_type": "execute_result"
    }
   ],
   "source": [
    "# Noise Figure\n",
    "x = sp.symbols('x')\n",
    "system = sp.Matrix([\n",
    " 0.5 - 10*sp.log(x,10)\n",
    "])\n",
    "eq = sp.solve(system)\n",
    "n = float(eq[x])\n",
    "n"
   ]
  },
  {
   "cell_type": "markdown",
   "id": "native-diagnosis",
   "metadata": {
    "slideshow": {
     "slide_type": "slide"
    }
   },
   "source": [
    "## Find Voltage Noise Threshold\n",
    "\n",
    "Current Noise Density based on spec: 0.5dB\n",
    "\n",
    "$\\begin{eqnarray}\n",
    "&& 0.5 &=& 10\\log_{10}{\\left(1 + i_{n,out}^2/i_{ns}^2\\right)} \\\\[0.5em]\n",
    "&& 1.122 &=& 1 + i_{n,out}^2/i_{ns}^2 \\\\[0.5em]\n",
    "&& 0.122 &=& i_{n,out}^2/i_{ns}^2 \\\\[0.5em]\n",
    "&& i_{n,out} &=& \\sqrt{0.122 \\cdot i_{ns}^2}\\\\[0.5em]\n",
    "&& i_{n,out} &=& 0.35 \\cdot i_{ns} \\\\[0.5em]\n",
    "&& i_{n,out} &=& 0.28 pA \\\\[0.5em]\n",
    "&& i_{n,in} &=& \\frac{0.28 pA}{A_{v,CL}} = \\frac{0.28 pA}{100K} = 2.8\\cdot 10^{-18} A\n",
    "\\end{eqnarray}$"
   ]
  },
  {
   "cell_type": "markdown",
   "id": "hollywood-rates",
   "metadata": {
    "slideshow": {
     "slide_type": "slide"
    }
   },
   "source": [
    "## Continued: Find Voltage Noise Threshold\n",
    "\n",
    "Input-Referred Thermal Noise Density:\n",
    "\n",
    "$\\begin{eqnarray}\n",
    "&&  e_{n,R_f} &=& \\frac{\\sqrt{4kT R_f}}{R_f}  = 0.41 \\text{ pA} \\\\[0.5em]\n",
    "\\end{eqnarray}$\n",
    "\n",
    "<hr>\n",
    "\n",
    "Input-Referred Voltage Noise Density:\n",
    "\n",
    "$\\begin{eqnarray}\n",
    "&& i_{n,in} &=& \\sqrt{{i_n}^2 + \\left(\\frac{\\sqrt{4kT R_f}}{R_f}\\right)^2 + \\left(\\frac{e_n}{R_f}\\right)^2 + \\frac{(e_n \\cdot 2\\pi f_{enb} C_{in})^2}{3}} \\\\[0.5em]\n",
    "&& i_{n,in}^2 &\\approx& \\left[\\text{thermal noise}\\right]^2 + \\left[\\text{op amp noise}\\right]^2 \\\\[0.5em]\n",
    "&& \\left(\\frac{e_n}{R_f}\\right)^2  &=& i_{n,in}^2  - \\frac{4kT}{R_f} \\\\[0.5em]\n",
    "&& e_{n,in}  &=&  \\sqrt{i_{n,in}^2 R_f^2  - 4kTR_f} & \\text{ not solvable; thermal noise is larger} \\\\[0.5em]\n",
    "\\end{eqnarray}$"
   ]
  },
  {
   "cell_type": "markdown",
   "id": "missing-election",
   "metadata": {
    "slideshow": {
     "slide_type": "slide"
    }
   },
   "source": [
    "## Continued: Assume Noiseless Rf\n",
    "\n",
    "Input-Referred Voltage Noise Density:\n",
    "\n",
    "$\\begin{eqnarray}\n",
    "&& i_{n,in}^2 &\\approx& \\left[\\text{op amp noise}\\right]^2 \\\\[0.5em]\n",
    "&& \\left(\\frac{e_n}{R_f}\\right)^2  &=& i_{n,in}^2  \\\\[0.5em]\n",
    "&& e_{n,in} &=&  i_{n,in} R_f \\\\[0.5em]\n",
    "&& &=& \\frac{i_{n,out}}{R_f} R_f \\\\[0.5em]\n",
    "&& &=& 0.28 \\text{ pV}/ \\sqrt{Hz} \\\\[0.5em]\n",
    "\\end{eqnarray}$\n",
    "\n",
    "Voltage noise density must be less than $\\sqrt{0.122} \\cdot i_{ns}$\n",
    "\n",
    "Choose $R_f$ to be such that $R_f = 100 \\Omega$ so that achievable performance can be met.\n",
    "\n",
    "Need additional stages. Best TIA's have performance on the order of $\\sim 1 \\text{ nV}/ \\sqrt{Hz}$."
   ]
  },
  {
   "cell_type": "markdown",
   "id": "secret-solution",
   "metadata": {
    "slideshow": {
     "slide_type": "slide"
    }
   },
   "source": [
    "## Searching for the best TIA\n",
    "\n",
    "| Name | $E_n$ | $I_n$ | $C_s$  |\n",
    "|:-----|:---|:---|:----|\n",
    "|||||"
   ]
  },
  {
   "cell_type": "markdown",
   "id": "saved-meeting",
   "metadata": {
    "slideshow": {
     "slide_type": "slide"
    }
   },
   "source": [
    "## Gain Stages\n",
    "\n",
    "| Parameter   | Specification |\n",
    "|:-----------|:--------------|\n",
    "| Transimpedance gain (full signal path) | $1$ $V/\\mu A$ |\n",
    "\n",
    "<hr>\n",
    "\n",
    "TIA: "
   ]
  },
  {
   "cell_type": "code",
   "execution_count": 17,
   "id": "present-cedar",
   "metadata": {
    "slideshow": {
     "slide_type": "slide"
    }
   },
   "outputs": [],
   "source": [
    "# Plot Input-Referred Current Noise Density\n",
    "\n",
    "s,e_na,i_na,C_TIA = sp.symbols('s,e_na,i_na,C_TIA')\n",
    "f = np.logspace(1, 7, 10000)\n",
    "w = 2*np.pi*f\n",
    "\n",
    "# OPA657\n",
    "components1 = {\n",
    "    e_na : 4.8*1e-9,\n",
    "    i_na : 1.3*1e-15,\n",
    "    C_TIA : 5.2*1e-12\n",
    "}\n",
    "# OPA846\n",
    "components2 = {\n",
    "    e_na : 1.2*1e-9,\n",
    "    i_na : 2.8*1e-12,\n",
    "    C_TIA : 3.8*1e-12\n",
    "}\n",
    "\n",
    "GBW = 2*1e6\n",
    "fenb = 1*1e6\n",
    "Rf = 100*1e3\n",
    "Cin = Cd + C_TIA\n",
    "Cf = sp.sqrt(2*Cin/(2*sp.pi*GBW*Rf))\n",
    "\n",
    "i_ns = 2*q*Id\n",
    "en = e_na*((Cin+Cf)*Rf*s + 1)/(Cf*Rf*s + 1)\n",
    "noise_sq = i_na**2 + 4*k*T/Rf + (en/Rf)**2 + (1/3)*(en*2*sp.pi*fenb*Cin)**2\n",
    "noise = sp.sqrt(noise_sq)"
   ]
  },
  {
   "cell_type": "code",
   "execution_count": 18,
   "id": "miniature-devices",
   "metadata": {
    "slideshow": {
     "slide_type": "slide"
    }
   },
   "outputs": [
    {
     "data": {
      "image/png": "[encoded data removed]",
      "text/plain": [
       "<Figure size 864x432 with 1 Axes>"
      ]
     },
     "metadata": {
      "needs_background": "light"
     },
     "output_type": "display_data"
    }
   ],
   "source": [
    "fig, ax = plt.subplots(figsize=(12,6))\n",
    "ax.set_title('Input-Referred Current Noise Density')\n",
    "ax.semilogx(f, abs(H1),label=r'OPA657')\n",
    "#ax.semilogx(f, abs(H2),label=r'OPA846')\n",
    "ax.set_ylabel(r'Current Noise [$nA/\\sqrt{Hz}$]')\n",
    "ax.set_xlabel('Frequency [Hz]')\n",
    "#ax.ticklabel_format(style='sci',axis='y',scilimits=(-12,-12))\n",
    "ax.grid(which='both', axis='both')\n",
    "ax.legend()\n",
    "plt.show();"
   ]
  },
  {
   "cell_type": "code",
   "execution_count": 4,
   "id": "adopted-defeat",
   "metadata": {
    "slideshow": {
     "slide_type": "-"
    }
   },
   "outputs": [],
   "source": [
    "H = sp.Matrix([noise])\n",
    "H1 = H.subs(components1)\n",
    "H2 = H.subs(components2)\n",
    "H1 = lambdify(s,H1,modules='numpy')\n",
    "H1 = H1(1j*w)\n",
    "H1 = H1[0][0]\n",
    "H2 = lambdify(s,H2,modules='numpy')\n",
    "H2 = H2(1j*w)\n",
    "H2 = H2[0][0]"
   ]
  },
  {
   "cell_type": "code",
   "execution_count": 6,
   "id": "hearing-danger",
   "metadata": {
    "slideshow": {
     "slide_type": "-"
    }
   },
   "outputs": [],
   "source": [
    "H = sp.Matrix([10*sp.log(1+noise_sq/i_ns,10)])\n",
    "H1 = H.subs(components1)\n",
    "H2 = H.subs(components2)\n",
    "H1 = lambdify(s,H1,modules='numpy')\n",
    "H1 = H1(1j*w)\n",
    "H1 = H1[0][0]\n",
    "H2 = lambdify(s,H2,modules='numpy')\n",
    "H2 = H2(1j*w)\n",
    "H2 = H2[0][0]"
   ]
  },
  {
   "cell_type": "code",
   "execution_count": 19,
   "id": "promotional-royalty",
   "metadata": {
    "slideshow": {
     "slide_type": "slide"
    }
   },
   "outputs": [
    {
     "data": {
      "image/png": "[encoded data removed]",
      "text/plain": [
       "<Figure size 864x432 with 1 Axes>"
      ]
     },
     "metadata": {
      "needs_background": "light"
     },
     "output_type": "display_data"
    }
   ],
   "source": [
    "fig, ax = plt.subplots(figsize=(12,6))\n",
    "ax.set_title('Noise Figure')\n",
    "ax.semilogx(f, abs(H1),label=r'OPA657')\n",
    "ax.semilogx(f, abs(H2),label=r'OPA846')\n",
    "ax.set_ylabel(r'Output Noise [$dB$]')\n",
    "ax.set_xlabel('Frequency [Hz]')\n",
    "ax.grid(which='both', axis='both')\n",
    "ax.legend()\n",
    "plt.show();"
   ]
  },
  {
   "cell_type": "code",
   "execution_count": null,
   "id": "present-motion",
   "metadata": {},
   "outputs": [],
   "source": []
  }
 ],
 "metadata": {
  "celltoolbar": "Slideshow",
  "kernelspec": {
   "display_name": "Python 3",
   "language": "python",
   "name": "python3"
  },
  "language_info": {
   "codemirror_mode": {
    "name": "ipython",
    "version": 3
   },
   "file_extension": ".py",
   "mimetype": "text/x-python",
   "name": "python",
   "nbconvert_exporter": "python",
   "pygments_lexer": "ipython3",
   "version": "3.7.9"
  },
  "varInspector": {
   "cols": {
    "lenName": 16,
    "lenType": 16,
    "lenVar": 40
   },
   "kernels_config": {
    "python": {
     "delete_cmd_postfix": "",
     "delete_cmd_prefix": "del ",
     "library": "var_list.py",
     "varRefreshCmd": "print(var_dic_list())"
    },
    "r": {
     "delete_cmd_postfix": ") ",
     "delete_cmd_prefix": "rm(",
     "library": "var_list.r",
     "varRefreshCmd": "cat(var_dic_list()) "
    }
   },
   "position": {
    "height": "106px",
    "left": "1574px",
    "right": "20px",
    "top": "120px",
    "width": "278px"
   },
   "types_to_exclude": [
    "module",
    "function",
    "builtin_function_or_method",
    "instance",
    "_Feature"
   ],
   "window_display": false
  }
 },
 "nbformat": 4,
 "nbformat_minor": 5
}
