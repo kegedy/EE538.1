{
 "cells": [
  {
   "cell_type": "markdown",
   "metadata": {},
   "source": [
    "<center><b>EE 538 Spring 2021<br>\n",
    "Low-Noise Analog Circuit Design<br>\n",
    "University of Washington Electrical & Computer Engineering</b></center>\n"
   ]
  },
  {
   "cell_type": "markdown",
   "metadata": {},
   "source": [
    "<b>Instructor: Jason Silver<br>\n",
    "Assignment #4 (10 points)<br>\n",
    "Due Sunday, May 2 (Submit on Canvas as a Jupyter Notebook)</b> "
   ]
  },
  {
   "cell_type": "markdown",
   "metadata": {},
   "source": [
    "*Please show your work*"
   ]
  },
  {
   "cell_type": "code",
   "execution_count": 1,
   "metadata": {},
   "outputs": [],
   "source": [
    "# Imports\n",
    "import os\n",
    "import sys\n",
    "import cmath\n",
    "import math\n",
    "import matplotlib.pyplot as plt\n",
    "import matplotlib\n",
    "import numpy as np\n",
    "import pandas as pd\n",
    "import ltspice\n",
    "import sympy as sp\n",
    "from sympy.utilities.lambdify import lambdify\n",
    "from scipy import signal\n",
    "%matplotlib inline\n",
    "from IPython.core.interactiveshell import InteractiveShell\n",
    "InteractiveShell.ast_node_interactivity = \"all\"\n",
    "from matplotlib.ticker import LogLocator"
   ]
  },
  {
   "cell_type": "code",
   "execution_count": 2,
   "metadata": {},
   "outputs": [],
   "source": [
    "def read_ltspice(file_name,ftype='trans',units='db'):\n",
    "    cols = []\n",
    "    arrs = []\n",
    "    with open(file_name, 'r',encoding='utf-8') as data:\n",
    "        for i,line in enumerate(data):\n",
    "            if i==0:\n",
    "                cols = line.split()\n",
    "                arrs = [[] for _ in cols]\n",
    "                continue\n",
    "            parts = line.split()\n",
    "            for j,part in enumerate(parts):\n",
    "                arrs[j].append(part)\n",
    "    df = pd.DataFrame(arrs,dtype='float64')\n",
    "    df = df.T\n",
    "    df.columns = cols\n",
    "    if ftype=='trans':\n",
    "        return df\n",
    "    elif ftype=='ac':\n",
    "        if units=='db':\n",
    "            for col in cols:\n",
    "                if df[col].str.contains(',').all():\n",
    "                    df[f'Mag_{col}'] = df[col].apply(lambda x: x.split(',')[0])\n",
    "                    df[f'Mag_{col}'] = df[f'Mag_{col}'].apply(lambda x: x[1:-2])\n",
    "                    df[f'Mag_{col}'] = df[f'Mag_{col}'].astype('float64')\n",
    "                    df[f'Phase_{col}'] = df[col].apply(lambda x: x.split(',')[1])\n",
    "                    df[f'Phase_{col}'] = df[f'Phase_{col}'].apply(lambda x: x[0:-2])\n",
    "                    df[f'Phase_{col}'] = df[f'Phase_{col}'].astype('float64')\n",
    "        if units=='cartesian':\n",
    "            for col in cols:\n",
    "                if df[col].str.contains(',').all():\n",
    "                    df[f'Re_{col}'] = df[col].apply(lambda x: x.split(',')[0])\n",
    "                    df[f'Re_{col}'] = df[f'Re_{col}'].astype('float64')\n",
    "                    df[f'Im_{col}'] = df[col].apply(lambda x: x.split(',')[1])\n",
    "                    df[f'Im_{col}'] = df[f'Im_{col}'].astype('float64')\n",
    "        df['Freq.'] = df['Freq.'].astype('float64')\n",
    "        return df\n",
    "    else:\n",
    "        print('invalid ftype')"
   ]
  },
  {
   "cell_type": "markdown",
   "metadata": {},
   "source": [
    "<b>Problem 1: Common-source JFET amplifier"
   ]
  },
  {
   "attachments": {},
   "cell_type": "markdown",
   "metadata": {},
   "source": [
    "<img src=\"img/CS_JFET.png\" width=300 />\n",
    "\n",
    "<br>\n",
    "<center><b>Figure 1. Common-source amplifier </center>"
   ]
  },
  {
   "cell_type": "markdown",
   "metadata": {},
   "source": [
    "The drain current of an $n$-channel JFET can be described as a function of $V_{gs}$ by\n",
    "\n",
    "\\begin{equation}\n",
    "I_d = \\beta(V_{gs} - V_{th})^2\n",
    "\\end{equation}\n",
    "\n",
    "where $\\beta = I_{DSS}/V_{th}^2$ (unrelated to the current gain parameter for BJTs). $I_{DSS}$ represents the maximum drain current that is reached when $V_{gs} = 0$. Using this expression, the transconductance can be expressed as\n",
    "\n",
    "\\begin{equation}\n",
    "g_m = 2\\cdot\\sqrt{\\beta I_D}\n",
    "\\end{equation}\n",
    "\n",
    "\n",
    "For the following, use $\\beta = 24 mA/V^2$ and $V_{gs} - V_{th} = 0.29V$"
   ]
  },
  {
   "cell_type": "markdown",
   "metadata": {},
   "source": [
    "<u>*Analysis*</u>"
   ]
  },
  {
   "cell_type": "markdown",
   "metadata": {},
   "source": [
    "__a)__ Assuming $I_{D} = 2mA$, $I_G = 2pA$, and $R_D = 4k\\Omega$, determine noise density values for $i_n$ and $e_n$ of the common-source amplifier in Figure 1, ignoring $1/f$ noise."
   ]
  },
  {
   "cell_type": "markdown",
   "metadata": {},
   "source": []
  },
  {
   "cell_type": "markdown",
   "metadata": {},
   "source": [
    "__b)__ The $1/f$ drain current noise of a JFET can be expressed as\n",
    "\n",
    "\\begin{equation}\n",
    "i_{nf}^2 = \\dfrac{K_f\\cdot I_D}{f}\n",
    "\\end{equation}\n",
    "\n",
    "If $f_c$ is defined as the frequency at which the thermal and flicker noise densities are equal, determine $f_c$ if $K_f = 0.0021 fA$. "
   ]
  },
  {
   "cell_type": "markdown",
   "metadata": {},
   "source": [
    "__c)__ Assuming $R_s$ = $100k\\Omega$, what are the signal gain and noise figure of the amplifier at $100Hz$?"
   ]
  },
  {
   "cell_type": "markdown",
   "metadata": {},
   "source": [
    "<u>*Verification*</u>"
   ]
  },
  {
   "cell_type": "markdown",
   "metadata": {},
   "source": [
    "__d)__ Verify your answers to a-c in Ltspice using the SPICE model of the LSK389 JFET transistor from Linear Systems. Set the DC value of $V_s$ to $-0.1V$. \n",
    "\n",
    "What happens to the noise figure if the temperature rises to $150C$? (this part only needs to be verified in SPICE, no calculation)"
   ]
  }
 ],
 "metadata": {
  "kernelspec": {
   "display_name": "Python 3",
   "language": "python",
   "name": "python3"
  },
  "language_info": {
   "codemirror_mode": {
    "name": "ipython",
    "version": 3
   },
   "file_extension": ".py",
   "mimetype": "text/x-python",
   "name": "python",
   "nbconvert_exporter": "python",
   "pygments_lexer": "ipython3",
   "version": "3.7.9"
  }
 },
 "nbformat": 4,
 "nbformat_minor": 4
}
