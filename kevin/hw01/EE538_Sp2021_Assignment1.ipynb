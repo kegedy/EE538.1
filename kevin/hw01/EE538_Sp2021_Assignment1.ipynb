{
 "cells": [
  {
   "cell_type": "markdown",
   "metadata": {},
   "source": [
    "<center><b>EE 538 Spring 2021<br>\n",
    "Low-Noise Analog Circuit Design<br>\n",
    "University of Washington Electrical & Computer Engineering</b></center>\n"
   ]
  },
  {
   "cell_type": "markdown",
   "metadata": {},
   "source": [
    "<b>Instructor: Jason Silver<br>\n",
    "Assignment #1 (10 points)<br>\n",
    "Due Sunday, April 11 (Submit on Canvas as a Jupyter Notebook)</b> "
   ]
  },
  {
   "cell_type": "markdown",
   "metadata": {},
   "source": [
    "*Please show your work*"
   ]
  },
  {
   "cell_type": "markdown",
   "metadata": {},
   "source": [
    "Resources: \n",
    "\n",
    "https://analog.intgckts.com/equivalent-noise-bandwidth/#:~:text=Equivalent%20Noise%20Bandwidth%201%20comment&text=Equivalent%20noise%20bandwidth(ENBW)%20is,bandwidth%20or%20effective%20noise%20bandwidth.&text=or%20magnitude%20of%20brickwall%20filter%20in%20passband\n",
    "\n",
    "http://www.onmyphd.com/?p=enbw.equivalent.noise.bandwidth\n",
    "\n",
    "https://www.k-state.edu/edl/docs/pubs/technical-resources/Technote1.pdf\n",
    "\n",
    "http://web.engr.oregonstate.edu/~webbky/ENGR202_files/SECTION%203%20Second%20Order%20Filters.pdf\n",
    "\n",
    "https://www.ti.com/lit/an/sloa049b/sloa049b.pdf?ts=1617717745044&ref_url=https%253A%252F%252Fwww.google.com%252F"
   ]
  },
  {
   "cell_type": "code",
   "execution_count": 1,
   "metadata": {},
   "outputs": [],
   "source": [
    "# Imports\n",
    "import os\n",
    "import sys\n",
    "import cmath\n",
    "import math\n",
    "import matplotlib.pyplot as plt\n",
    "import matplotlib\n",
    "import numpy as np\n",
    "import pandas as pd\n",
    "import ltspice\n",
    "import sympy as sp\n",
    "from sympy.utilities.lambdify import lambdify\n",
    "from scipy import signal\n",
    "%matplotlib inline\n",
    "from IPython.core.interactiveshell import InteractiveShell\n",
    "InteractiveShell.ast_node_interactivity = \"all\"\n",
    "from matplotlib.ticker import LogLocator"
   ]
  },
  {
   "cell_type": "code",
   "execution_count": 2,
   "metadata": {},
   "outputs": [],
   "source": [
    "def read_ltspice(file_name,ftype='trans',units='db'):\n",
    "    cols = []\n",
    "    arrs = []\n",
    "    with open(file_name, 'r',encoding='utf-8') as data:\n",
    "        for i,line in enumerate(data):\n",
    "            if i==0:\n",
    "                cols = line.split()\n",
    "                arrs = [[] for _ in cols]\n",
    "                continue\n",
    "            parts = line.split()\n",
    "            for j,part in enumerate(parts):\n",
    "                arrs[j].append(part)\n",
    "    df = pd.DataFrame(arrs,dtype='float64')\n",
    "    df = df.T\n",
    "    df.columns = cols\n",
    "    if ftype=='trans':\n",
    "        return df\n",
    "    elif ftype=='ac':\n",
    "        if units=='db':\n",
    "            for col in cols:\n",
    "                if df[col].str.contains(',').all():\n",
    "                    df[f'Mag_{col}'] = df[col].apply(lambda x: x.split(',')[0])\n",
    "                    df[f'Mag_{col}'] = df[f'Mag_{col}'].apply(lambda x: x[1:-2])\n",
    "                    df[f'Mag_{col}'] = df[f'Mag_{col}'].astype('float64')\n",
    "                    df[f'Phase_{col}'] = df[col].apply(lambda x: x.split(',')[1])\n",
    "                    df[f'Phase_{col}'] = df[f'Phase_{col}'].apply(lambda x: x[0:-2])\n",
    "                    df[f'Phase_{col}'] = df[f'Phase_{col}'].astype('float64')\n",
    "        if units=='cartesian':\n",
    "            for col in cols:\n",
    "                if df[col].str.contains(',').all():\n",
    "                    df[f'Re_{col}'] = df[col].apply(lambda x: x.split(',')[0])\n",
    "                    df[f'Re_{col}'] = df[f'Re_{col}'].astype('float64')\n",
    "                    df[f'Im_{col}'] = df[col].apply(lambda x: x.split(',')[1])\n",
    "                    df[f'Im_{col}'] = df[f'Im_{col}'].astype('float64')\n",
    "        df['Freq.'] = df['Freq.'].astype('float64')\n",
    "        return df\n",
    "    else:\n",
    "        print('invalid ftype')"
   ]
  },
  {
   "cell_type": "markdown",
   "metadata": {},
   "source": [
    "<b>Problem 1: Noise bandwidth"
   ]
  },
  {
   "cell_type": "markdown",
   "metadata": {},
   "source": [
    "The transfer function of a second-order low-pass filter can be written as\n",
    "\n",
    "\\begin{equation}\n",
    "H(s)={\\frac {\\omega _{0}^{2}}{s^{2}+2\\zeta \\omega _{0}\\cdot s+\\omega _{0}^{2}}}\n",
    "\\end{equation}\n",
    "\n",
    "where $\\omega_0$ is the resonant frequency and $\\zeta$ is the damping factor."
   ]
  },
  {
   "cell_type": "markdown",
   "metadata": {},
   "source": [
    "<u>*Analysis*</u>"
   ]
  },
  {
   "cell_type": "markdown",
   "metadata": {},
   "source": [
    "<hr>\n",
    "\n",
    "__a)__ Derive a general expression for the noise bandwidth of a second-order low-pass filter.\n",
    "\n",
    "<hr>"
   ]
  },
  {
   "cell_type": "markdown",
   "metadata": {},
   "source": [
    "$\\begin{eqnarray}\n",
    "H(s)  &=& {\\frac {\\omega _{0}^{2}}{s^{2}+2\\zeta \\omega _{0}\\cdot s+\\omega _{0}^{2}}} \\\\[2pt]\n",
    "      &=& {\\frac {\\omega _{0}^{2}}{s^{2}+\\frac{s\\cdot\\omega_0}{Q}+\\omega _{0}^{2}}} \\\\[2pt]\n",
    "      &=& {\\frac {1}{\\frac{s^{2}}{\\omega_0^2}+\\frac{s}{Q\\omega_0}+1}} \\\\[2pt]\n",
    "      &=& {\\frac {1}{\\frac{(j\\omega)^{2}}{\\omega_0^2}+\\frac{(j\\omega)}{Q\\omega_0}+1}} \\\\[2pt]\n",
    "      &=& {\\frac {1}{\\frac{-\\omega^2}{\\omega_0^2}+\\frac{j\\omega}{Q\\omega_0}+1}} \\\\[3pt]\n",
    "|H(s)|&=& {\\frac {1}{\\sqrt{(1+\\frac{-\\omega^2}{\\omega_0^2})^2+(\\frac{\\omega}{Q\\omega_0})^2}}} &\\text{and Butterworth }& Q=\\frac{1}{\\sqrt2} \\\\[2pt]\n",
    "      &=& {\\frac {1}{\\sqrt{1-\\frac{2\\omega^2}{\\omega_0^2}+\\frac{\\omega^4}{\\omega_0^4}+\\frac{\\omega^2}{Q^2\\omega_0^2}}}} \\\\[2pt]\n",
    "      &=& {\\frac {1}{\\sqrt{1-\\frac{2\\omega^2}{\\omega_0^2}+\\frac{\\omega^4}{\\omega_0^4}+\\frac{2\\omega^2}{\\omega_0^2}}}} \\\\[2pt]\n",
    "      &=& {\\frac {1}{\\sqrt{1+\\frac{\\omega^4}{\\omega_0^4}}}} \\\\[2pt]\n",
    "      &=& {\\frac {1}{\\sqrt{1+(\\frac{\\omega}{\\omega_0})^4}}} &\\text{and Butterworth }& \\omega_0 = \\omega_c \\\\[2pt]\n",
    "      &=& {\\frac {1}{\\sqrt{1+(\\frac{\\omega}{\\omega_c})^4}}} \\\\[3pt]\n",
    "\\omega_{enb} &=& \\int_{0}^\\infty \\displaystyle\\left\\lvert{H(s)}\\right\\rvert^2\\ d\\omega \\\\[2pt]\n",
    "  &=& \\int_{0}^\\infty \\frac{1}{1+(\\frac{\\omega}{\\omega_c})^4}\\ d\\omega \\\\[3pt]\n",
    "f_{enb} &=& \\frac{1}{2\\pi} \\int_{0}^\\infty \\frac{1}{1+(\\frac{\\omega}{\\omega_c})^4}\\ d\\omega\n",
    "\\end{eqnarray}$"
   ]
  },
  {
   "cell_type": "markdown",
   "metadata": {},
   "source": [
    "<hr>\n",
    "\n",
    "__b)__ Using your expression from part __a__, determine the relationship between the noise bandwidth and the $-3\\text{dB}$ bandwidth of a second-order Butterworth filter.\n",
    "\n",
    "<hr>"
   ]
  },
  {
   "cell_type": "markdown",
   "metadata": {},
   "source": [
    "$\\begin{eqnarray}\n",
    "f_{enb} &=& \\frac{1}{2\\pi} \\int_{0}^\\infty \\frac{1}{1+(\\frac{\\omega}{\\omega_{c}})^4}\\ d\\omega \\\\[3pt]\n",
    "        && \\text{let } x=\\frac{\\omega^4}{{\\omega_c}^4} \\\\[3pt]\n",
    "        &=& \\frac{1}{2\\pi} \\int_{0}^\\infty \\frac{1}{1+x^4} dx \\cdot \\omega_c  \\\\[3pt]\n",
    "        &=& \\frac{\\omega_c}{2\\pi} \\cdot \\frac{\\pi}{2\\sqrt{2}} \\\\[3pt]\n",
    "        &=& \\frac{2\\pi f_c}{2\\pi} \\cdot \\frac{\\pi}{2\\sqrt{2}} \\\\[3pt]\n",
    "        &=& \\frac{\\pi}{2\\sqrt{2}} f_c \\\\[3pt]\n",
    "        &\\approx& 1.11 f_c\n",
    "\\end{eqnarray}$"
   ]
  },
  {
   "cell_type": "markdown",
   "metadata": {},
   "source": [
    "<u>*Design*</u>"
   ]
  },
  {
   "attachments": {
    "HW1_SallenKey.png": {
     "image/png": "[encoded data removed]"
    }
   },
   "cell_type": "markdown",
   "metadata": {},
   "source": [
    "![HW1_SallenKey.png](attachment:HW1_SallenKey.png)"
   ]
  },
  {
   "cell_type": "markdown",
   "metadata": {},
   "source": [
    "<hr>\n",
    "\n",
    "__c)__ Using the Sallen-Key structure shown above, design an active second-order Butterworth filter (i.e. determine $R$ and $C$ values) to limit the noise bandwidth of a resistive sensor with equivalent resistance $R_s = 1\\text{k}\\Omega$. Design the filter to achieve an input-referred $rms$ noise of $40\\text{nV}$. Assume that the opamp and filter resistors are noiseless.\n",
    "\n",
    "<hr>"
   ]
  },
  {
   "cell_type": "markdown",
   "metadata": {},
   "source": [
    "$\\begin{eqnarray}\n",
    "T &=& 25C = 298 K \\\\\n",
    "k &=& 1.381 \\cdot 10^{−23} \\\\\n",
    "R_s &=& 1000\n",
    "\\end{eqnarray}$\n",
    "\n",
    "$\\begin{eqnarray}\n",
    "v_{n,out(\\text{rms})} &=& \\sqrt{e_{n}^2 \\cdot f_{enb}} \\\\[0.5em]\n",
    "v_{n,in(\\text{rms})} &=& \\frac{v_{n,out(\\text{rms})}}{A_{v,CL}} \\text{ where } A_{v,CL}=1 \\\\[0.5em]\n",
    "v_{n,in(\\text{rms})} &=& v_{n,out(\\text{rms})} \\\\[0.5em]\n",
    "40 \\text{nV}  &\\geq& \\sqrt{e_n^2 \\cdot f_{enb}}  \\\\[0.5em]\n",
    "e_n^2 \\text{ } &=& {4kTR_{s}} \\\\[0.5em]\n",
    " &=& 1.6458 \\cdot 10^{-17} \\frac{V^2}{\\text{Hz}} \\\\[0.5em]\n",
    "40 \\text{nV}  &\\geq& \\sqrt{1.6458 \\cdot 10^{-17} \\cdot f_{enb}}  \\\\[0.5em]\n",
    "f_{enb} &\\leq& \\frac{(40 \\text{nV})^2}{1.6458 \\cdot 10^{-17}} \\\\[0.5em]\n",
    "1.11 f_{c} &\\leq& \\frac{(40 \\text{nV})^2}{1.6458 \\cdot 10^{-17}} \\\\[0.5em]\n",
    "f_{c} &\\leq& \\frac{(40 \\text{nV})^2}{1.6458 \\cdot 10^{-17} \\cdot 1.11} \\\\[0.5em]\n",
    "f_c &\\leq& 87.6 \\text{Hz}\n",
    "\\end{eqnarray}$"
   ]
  },
  {
   "cell_type": "code",
   "execution_count": 3,
   "metadata": {},
   "outputs": [
    {
     "name": "stdout",
     "output_type": "stream",
     "text": [
      "fc: 87.5643, and f_enb: 97.1964\n"
     ]
    }
   ],
   "source": [
    "T = 298\n",
    "k = 1.381 * 1e-23\n",
    "Rs= 1000\n",
    "target = 40*1e-9\n",
    "Vrms = np.sqrt(4*k*T*Rs)\n",
    "fenb = target**2/Vrms**2\n",
    "fc = fenb/1.11\n",
    "print(f'fc: {round(fc,4)}, and f_enb: {round(fenb,4)}')"
   ]
  },
  {
   "cell_type": "code",
   "execution_count": 4,
   "metadata": {},
   "outputs": [],
   "source": [
    "s,m,n,C1,C2,R1,R2,Q,tau,W0,Wc,Cn,K = sp.symbols('s,m,n,C1,C2,R1,R2,Q,tau,omega0,Wc,Cn,K')"
   ]
  },
  {
   "cell_type": "code",
   "execution_count": 5,
   "metadata": {
    "scrolled": true
   },
   "outputs": [
    {
     "data": {
      "text/plain": [
       "({C1: 2.00000000000000e-8,\n",
       "  R1: 129355.792551308,\n",
       "  R2: 129355.792551308,\n",
       "  n: 2.00000000000000,\n",
       "  tau: 0.00129355792551308,\n",
       "  Wc: 546.637121724624},\n",
       " {omega0: 546.637121724624, Cn: 1, Q: 0.7071067811865475, m: 1, C2: 1e-08})"
      ]
     },
     "execution_count": 5,
     "metadata": {},
     "output_type": "execute_result"
    }
   ],
   "source": [
    "# Low Pass Butterworth\n",
    "fc1 = 87\n",
    "systemLP = sp.Matrix([\n",
    "    [W0 - 1/(tau*sp.sqrt(m*n))],\n",
    "    [W0 - Cn*Wc],\n",
    "    [Q - sp.sqrt(m*n)/(1+m)],\n",
    "    [m - R1/R2],\n",
    "    [n - C1/C2],\n",
    "    [tau - R2*C2]\n",
    "])\n",
    "myVals = {\n",
    "    W0:2*np.pi*fc1,  # Cutoff Frequency in radians/second\n",
    "    Cn:1,            # Table \n",
    "    Q:1/np.sqrt(2),  # Table \n",
    "    m:1,             # Chosen Ratio\n",
    "    C2:10e-9         # Chosen Value \n",
    "}\n",
    "systemLP = systemLP.subs(myVals)\n",
    "eq = sp.solve(systemLP)\n",
    "eq, myVals"
   ]
  },
  {
   "cell_type": "code",
   "execution_count": 6,
   "metadata": {},
   "outputs": [],
   "source": [
    "f = np.logspace(-2, 4, 10000)\n",
    "w = 2*np.pi*f\n",
    "#s = 1j*w\n",
    "\n",
    "num = W0**2\n",
    "den = s**2 + s*W0/Q + W0**2\n",
    "\n",
    "components = {\n",
    "    #C1:20e-9,\n",
    "    #C2:10e-9,\n",
    "    #R1:129356,\n",
    "    #R2:129356,\n",
    "    W0:546,\n",
    "    Q :1/np.sqrt(2)    \n",
    "}\n",
    "H = sp.Matrix([num/den])\n",
    "H1 = H = H.subs(components)\n",
    "H = lambdify(s,H,modules='numpy')\n",
    "H = H(1j*w)\n",
    "H = H[0][0]"
   ]
  },
  {
   "cell_type": "code",
   "execution_count": 7,
   "metadata": {
    "scrolled": true
   },
   "outputs": [
    {
     "data": {
      "image/png": "[encoded data removed]",
      "text/plain": [
       "<Figure size 576x360 with 1 Axes>"
      ]
     },
     "metadata": {
      "needs_background": "light"
     },
     "output_type": "display_data"
    }
   ],
   "source": [
    "fig, ax = plt.subplots(figsize=(8,5))\n",
    "\n",
    "x1 = np.where(20*np.log10(abs(H))<=-3)[0][0]\n",
    "label1 = \"{:.2f}dB, {:.2f}Hz\".format(20*np.log10(abs(H[x1])),f[x1])\n",
    "\n",
    "ax.set_title('Analytical: Butterworth 2nd Order Response')\n",
    "ax.semilogx(f, 20*np.log10(abs(H)),label=r'$2^{nd}$ Order LP')\n",
    "ax.scatter(f[x1],20*np.log10(abs(H[x1])),label=label1,color='tab:blue')\n",
    "ax.set_ylabel('Magnitude [dB]')\n",
    "ax.grid(which='both', axis='both')\n",
    "ax.legend()\n",
    "plt.show();"
   ]
  },
  {
   "cell_type": "markdown",
   "metadata": {},
   "source": [
    "<hr>\n",
    "\n",
    "__d)__ Verify your design in Ltspice using the *UniversalOpamp2* model with a bandwidth of $10\\text{MHz}$. Demonstrate the frequency response and noise performance over a frequency range of $100\\text{MHz}$, and verify that the $rms$ noise meets the specification by integrating over the full $100\\text{MHz}$ range.\n",
    "\n",
    "<hr>"
   ]
  },
  {
   "cell_type": "markdown",
   "metadata": {},
   "source": [
    "<img src=\"images/butterworth_2nd_order_LP.PNG\" width=\"600\">"
   ]
  },
  {
   "cell_type": "code",
   "execution_count": 8,
   "metadata": {},
   "outputs": [],
   "source": [
    "filepath = 'data/butterworth_2nd_order_LP.txt'\n",
    "df = pd.read_csv(filepath)\n",
    "freq = df['frequency']\n",
    "mag = df['V(onoise)']"
   ]
  },
  {
   "cell_type": "code",
   "execution_count": 9,
   "metadata": {},
   "outputs": [
    {
     "name": "stderr",
     "output_type": "stream",
     "text": [
      "No handles with labels found to put in legend.\n"
     ]
    },
    {
     "data": {
      "image/png": "[encoded data removed]",
      "text/plain": [
       "<Figure size 720x360 with 1 Axes>"
      ]
     },
     "metadata": {
      "needs_background": "light"
     },
     "output_type": "display_data"
    }
   ],
   "source": [
    "fig, ax = plt.subplots(1,figsize=(10,5))\n",
    "\n",
    "ax.semilogx(freq, mag, color='tab:blue',label='')\n",
    "ax.grid(True,which='both')\n",
    "ax.set_xlabel('Frequency [Hz]')\n",
    "ax.set_ylabel('Magnitude [dB]')\n",
    "ax.set_title('SPICE: Output Noise Response')\n",
    "\n",
    "# manipulate x-axis ticks and labels\n",
    "ax.xaxis.set_major_locator(LogLocator(numticks=15)) #(1)\n",
    "ax.xaxis.set_minor_locator(LogLocator(numticks=15,subs=np.arange(2,10))) #(2)\n",
    "for label in ax.xaxis.get_ticklabels()[::2]:\n",
    "    label.set_visible(False) #(3)\n",
    "\n",
    "ax.legend()\n",
    "plt.show();"
   ]
  },
  {
   "cell_type": "markdown",
   "metadata": {},
   "source": [
    "<img src=\"images/V(onoise).PNG\" width=\"300\">"
   ]
  },
  {
   "cell_type": "markdown",
   "metadata": {},
   "source": [
    "Input noise can be determined from the output noise based on the amplifier gain. Refer to part C. In our case, the input-referred rms noise is equivalent to the output rms noise. The design of the LP Butterworth meets the spec of 40nV."
   ]
  },
  {
   "cell_type": "markdown",
   "metadata": {},
   "source": [
    "<hr>\n",
    "\n",
    "__e)__ If the sensor exhibits $1/f$ noise, the spectral density of the noise can be expressed as\n",
    "\n",
    "\\begin{equation}\n",
    "\\overline{e_n^2} = 4kTR_s\\cdot\\left(1+\\dfrac{f_c}{f}\\right)\\Delta f\n",
    "\\end{equation}\n",
    "\n",
    "where $f_c$ is the $1/f$ noise corner frequency. Determine the $rms$ noise (at the output of the filter) between $1\\text{Hz}$ and $1\\text{MHz}$ if $f_c = 1\\text{kHz}$.  Verify this in Ltspice. Explain why the concept of noise bandwidth doesn't apply to noise processes that aren't white.\n",
    "\n",
    "<hr>"
   ]
  },
  {
   "cell_type": "markdown",
   "metadata": {},
   "source": [
    " From notes:\n",
    " \n",
    " - The equivalent noise bandwidth ($f_{enb}$) of a circuit is the bandwidth of an ideal \"brick-wall\" filter that would result in the same $rms$ noise as the real filter\n",
    " \n",
    " - Because white noise has a flat (constant-value) spectrum, multiplication of $e_n$ by the noise bandwidth will conveniently yield the same $rms$ noise value as that obtained via integration of the filter magitude response"
   ]
  },
  {
   "cell_type": "markdown",
   "metadata": {},
   "source": [
    "My response:\n",
    "\n",
    "Since the spectral density function is no longer constant, due to 1/f noise, the noise bandwidth cannot simply be multiplied and must be calculated over the integral."
   ]
  },
  {
   "cell_type": "markdown",
   "metadata": {},
   "source": [
    "$\\begin{eqnarray}\n",
    "\\overline{e_n^2} &=& 4kTR_s\\cdot\\left(1+\\dfrac{f_c}{f}\\right)\\Delta f \\\\[0.5em]\n",
    "{v_{n,out(\\text{rms})}}^2 &=& \\int_{1}^{1MHz} |H(f)|^2 e_n^2\\ df \\\\[0.5em]\n",
    "{v_{n,out(\\text{rms})}} &=& \\sqrt{\\int_{1}^{1MHz} |H(f)|^2 e_n^2\\ df} \\\\[0.5em]\n",
    "  &=& \\sqrt{\\int_{1}^{1MHz} \\frac{1}{1+(\\frac{f}{f_{c_1}})^4}\\cdot 4kTR_s\\cdot\\left(1+\\dfrac{f_{c_2}}{f}\\right)\\ df} \\\\[0.5em]\n",
    "  &=& \\sqrt{\\int_{1}^{1MHz} \\frac{1}{1+(\\frac{f}{88})^4}\\cdot 4kT\\cdot 1000 \\cdot\\left(1+\\dfrac{1000}{f}\\right)\\ df} \\\\[0.5em]\n",
    "  &=& 274.4 \\text{ nV}\n",
    "\\end{eqnarray}$"
   ]
  },
  {
   "cell_type": "markdown",
   "metadata": {},
   "source": [
    "<img src=\"images/butterworth_and_1_over_f_noise.PNG\" width=\"600\">"
   ]
  },
  {
   "cell_type": "code",
   "execution_count": 10,
   "metadata": {},
   "outputs": [],
   "source": [
    "filepath = 'data/butterworth_and_1_over_f_noise.txt'\n",
    "df = pd.read_csv(filepath)\n",
    "freq = df['frequency']\n",
    "mag = df['V(onoise)']"
   ]
  },
  {
   "cell_type": "code",
   "execution_count": 11,
   "metadata": {},
   "outputs": [
    {
     "name": "stderr",
     "output_type": "stream",
     "text": [
      "No handles with labels found to put in legend.\n"
     ]
    },
    {
     "data": {
      "image/png": "[encoded data removed]",
      "text/plain": [
       "<Figure size 720x360 with 1 Axes>"
      ]
     },
     "metadata": {
      "needs_background": "light"
     },
     "output_type": "display_data"
    }
   ],
   "source": [
    "fig, ax = plt.subplots(1,figsize=(10,5))\n",
    "\n",
    "ax.semilogx(freq, mag, color='tab:blue',label='')\n",
    "ax.grid(True,which='both')\n",
    "ax.set_xlabel('Frequency [Hz]')\n",
    "ax.set_ylabel('Magnitude [dB]')\n",
    "ax.set_title('SPICE: Output Noise Response with 1/f Noise')\n",
    "\n",
    "# manipulate x-axis ticks and labels\n",
    "ax.xaxis.set_major_locator(LogLocator(numticks=15)) #(1)\n",
    "ax.xaxis.set_minor_locator(LogLocator(numticks=15,subs=np.arange(2,10))) #(2)\n",
    "for label in ax.xaxis.get_ticklabels()[::2]:\n",
    "    label.set_visible(False) #(3)\n",
    "\n",
    "ax.legend()\n",
    "plt.show();"
   ]
  },
  {
   "cell_type": "markdown",
   "metadata": {},
   "source": [
    "<img src=\"images/V(onoise)_1_over_f_noise.PNG\" width=\"300\">"
   ]
  },
  {
   "cell_type": "markdown",
   "metadata": {},
   "source": [
    "*Use the expression 'noiseless' after the resistance value in Ltspice to prevent specific resistors from generating noise during noise analysis.* \n",
    "\n",
    "*To avoid loading between the sensor and filter input, you can use the 'E' component in Ltspice (voltage-controlled voltage source).* "
   ]
  },
  {
   "cell_type": "code",
   "execution_count": null,
   "metadata": {},
   "outputs": [],
   "source": []
  }
 ],
 "metadata": {
  "kernelspec": {
   "display_name": "Python 3",
   "language": "python",
   "name": "python3"
  },
  "language_info": {
   "codemirror_mode": {
    "name": "ipython",
    "version": 3
   },
   "file_extension": ".py",
   "mimetype": "text/x-python",
   "name": "python",
   "nbconvert_exporter": "python",
   "pygments_lexer": "ipython3",
   "version": "3.7.9"
  },
  "varInspector": {
   "cols": {
    "lenName": 16,
    "lenType": 16,
    "lenVar": 40
   },
   "kernels_config": {
    "python": {
     "delete_cmd_postfix": "",
     "delete_cmd_prefix": "del ",
     "library": "var_list.py",
     "varRefreshCmd": "print(var_dic_list())"
    },
    "r": {
     "delete_cmd_postfix": ") ",
     "delete_cmd_prefix": "rm(",
     "library": "var_list.r",
     "varRefreshCmd": "cat(var_dic_list()) "
    }
   },
   "types_to_exclude": [
    "module",
    "function",
    "builtin_function_or_method",
    "instance",
    "_Feature"
   ],
   "window_display": false
  }
 },
 "nbformat": 4,
 "nbformat_minor": 4
}
