{
 "cells": [
  {
   "cell_type": "markdown",
   "id": "encouraging-dream",
   "metadata": {},
   "source": [
    "Resources: \n",
    "\n",
    "https://analog.intgckts.com/equivalent-noise-bandwidth/#:~:text=Equivalent%20Noise%20Bandwidth%201%20comment&text=Equivalent%20noise%20bandwidth(ENBW)%20is,bandwidth%20or%20effective%20noise%20bandwidth.&text=or%20magnitude%20of%20brickwall%20filter%20in%20passband\n",
    "\n",
    "http://www.onmyphd.com/?p=enbw.equivalent.noise.bandwidth\n",
    "\n",
    "https://www.k-state.edu/edl/docs/pubs/technical-resources/Technote1.pdf\n",
    "\n",
    "https://www.ti.com/lit/an/sloa049b/sloa049b.pdf?ts=1617717745044&ref_url=https%253A%252F%252Fwww.google.com%252F"
   ]
  },
  {
   "cell_type": "markdown",
   "id": "macro-syndication",
   "metadata": {},
   "source": [
    "<img src=\"img_hw01/filter_tf.png\" width=\"600\">\n",
    "\n",
    "<hr>"
   ]
  },
  {
   "cell_type": "markdown",
   "id": "precious-trainer",
   "metadata": {},
   "source": [
    "<img src=\"img_hw01/butterworth_filter_tf.png\" width=\"600\">\n",
    "\n",
    "<hr>"
   ]
  },
  {
   "cell_type": "markdown",
   "id": "increased-frontier",
   "metadata": {},
   "source": [
    "<img src=\"img_hw01/frequency_scaling.png\" width=\"600\">\n",
    "\n",
    "<hr>"
   ]
  },
  {
   "cell_type": "markdown",
   "id": "requested-bradford",
   "metadata": {},
   "source": [
    "<img src=\"img_hw01/butterworth_2order_design.png\" width=\"600\">\n",
    "\n",
    "<hr>"
   ]
  },
  {
   "cell_type": "markdown",
   "id": "false-fight",
   "metadata": {},
   "source": [
    "## Equivalent noise bandwidth"
   ]
  },
  {
   "cell_type": "markdown",
   "id": "legendary-attack",
   "metadata": {},
   "source": [
    " - The equivalent noise bandwidth ($f_{enb}$) of a circuit is the bandwidth of an ideal \"brick-wall\" filter that would result in the same $rms$ noise as the real filter\n",
    " \n",
    " - Because white noise has a flat (constant-value) spectrum, multiplication of $e_n$ by the noise bandwidth will conveniently yield the same $rms$ noise value as that obtained via integration of the filter magitude response\n",
    " \n",
    "\\begin{equation}\n",
    "v_{n,out(rms)} = \\sqrt{e_n^2\\cdot f_{enb}}\n",
    "\\end{equation}\n",
    "\n",
    " - For the first-order RC filter this is\n",
    " \n",
    "\n",
    "\\begin{equation}\n",
    "v_{n,out(rms)} = \\sqrt{\\dfrac{kT}{C}} =  \\sqrt{4kTR \\cdot f_{enb}}\n",
    "\\end{equation}\n",
    "\n",
    "\\begin{equation}\n",
    "\\boxed{f_{enb} = \\int_{0}^{\\infty}\\dfrac{1}{1+(2\\pi fRC)^2}df = \\dfrac{1}{4RC} = \\dfrac{\\pi}{2}f_{3dB} }\n",
    "\\end{equation}\n",
    "\n",
    " - Note that the concept of noise bandwidth *only applies to situations where white noise is the dominant type of noise*\n",
    " \n",
    " <hr>"
   ]
  },
  {
   "cell_type": "markdown",
   "id": "dressed-gazette",
   "metadata": {},
   "source": [
    "$\\begin{eqnarray}\n",
    "   T &=& 300 \\\\\n",
    "   R &=& 10e3 \\\\\n",
    "   f_c &=& 100 \\\\\n",
    "   {e_{n\\omega}}^2 &=& 4kTR \\\\\n",
    "   e_{n\\omega} &=& \\sqrt{{e_{n\\omega}}^2} \\\\\n",
    "   {e_{n,tot}}^2 &=& {e_{n\\omega}}^2 \\cdot (1+\\frac{f_c}{f}) \\\\\n",
    "   {v_n}^2 &=& \\int {e_{n,tot}}^2\\ df \\\\\n",
    "   v_{n,rms} &=& \\sqrt{{v_n}^2}\n",
    "\\end{eqnarray}$"
   ]
  },
  {
   "cell_type": "code",
   "execution_count": null,
   "id": "negative-intersection",
   "metadata": {},
   "outputs": [],
   "source": []
  }
 ],
 "metadata": {
  "kernelspec": {
   "display_name": "Python 3",
   "language": "python",
   "name": "python3"
  },
  "language_info": {
   "codemirror_mode": {
    "name": "ipython",
    "version": 3
   },
   "file_extension": ".py",
   "mimetype": "text/x-python",
   "name": "python",
   "nbconvert_exporter": "python",
   "pygments_lexer": "ipython3",
   "version": "3.7.9"
  }
 },
 "nbformat": 4,
 "nbformat_minor": 5
}
