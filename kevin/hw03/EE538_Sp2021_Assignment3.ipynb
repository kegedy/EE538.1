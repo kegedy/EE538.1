{
 "cells": [
  {
   "cell_type": "markdown",
   "metadata": {},
   "source": [
    "<center><b>EE 538 Spring 2021<br>\n",
    "Low-Noise Analog Circuit Design<br>\n",
    "University of Washington Electrical & Computer Engineering</b></center>\n"
   ]
  },
  {
   "cell_type": "markdown",
   "metadata": {},
   "source": [
    "<b>Instructor: Jason Silver<br>\n",
    "Assignment #3 (10 points)<br>\n",
    "Due Monday, April 26 (Submit on Canvas as a Jupyter Notebook)</b> "
   ]
  },
  {
   "cell_type": "markdown",
   "metadata": {},
   "source": [
    "*Please show your work*"
   ]
  },
  {
   "cell_type": "markdown",
   "metadata": {},
   "source": [
    "<b>Problem 1: Low-noise common-emitter amplifier design"
   ]
  },
  {
   "cell_type": "markdown",
   "metadata": {},
   "source": [
    "<center><img src=\"img/CE_EF_biasing.png\" width=400 /></center>\n",
    "<br>\n",
    "<center><b>Figure 1a. Common-emitter amplifier with bias </b></center>"
   ]
  },
  {
   "cell_type": "markdown",
   "metadata": {},
   "source": [
    "<center><img src=\"img/CE_EF_midband.png\" width=250 /></center>\n",
    "<br>\n",
    "<center><b>Figure 1b. Equivalent \"mid-band\" circuit </b></center>"
   ]
  },
  {
   "cell_type": "markdown",
   "metadata": {},
   "source": [
    "The common-emitter amplifier is often biased using the configuration shown in Figure 1a, where $R_{B1,2}$ are used to set the DC base voltage and $R_E$ is needed to stabilize the DC bias condition against variations in temperature and transistor parameters. $Q_2$ is added to form an emitter-follower for low output impedance. The DC emitter current of the common-emitter stage ($I_{E1}$ is determined by\n",
    "\n",
    "\\begin{equation}\n",
    "I_E = \\dfrac{V_B - V_{BE}}{R_E + \\frac{R_B}{\\beta_0+1}}\n",
    "\\end{equation}\n",
    "\n",
    "\n",
    "where $R_B$ is the parallel combination of $R_{B1}$ and $R_{B2}$ and component values satisfy the conditions $V_B >> V_{BE}$  and $R_E >> R_B/(\\beta_0 +1)$.\n",
    "\n",
    "$C_{AC}$ and $C_{AC2}$ are used to realize low impedances at signal frequencies at the base and emitter nodes, resulting in the equivalent \"mid-band\" circuit shown in Figure 1b. "
   ]
  },
  {
   "cell_type": "markdown",
   "metadata": {},
   "source": [
    "<u>*Analysis*</u>"
   ]
  },
  {
   "cell_type": "markdown",
   "metadata": {},
   "source": [
    "__a)__ Assuming $R_s = 0$ and ignoring transistor capacitances $C_\\pi$ and $C_\\mu$, use the small-signal equivalent circuit of the amplifier in Figure 1a to derive its transfer function in terms of $R$'s, $C$'s, and transistor parameters $g_m$, $r_o$, and $\\beta_0$."
   ]
  },
  {
   "cell_type": "markdown",
   "metadata": {},
   "source": [
    "$\\begin{eqnarray}\n",
    "&& R_B &=& R_{B_1} \\parallel R_{B_2} & \\text{ (short DC voltages in AC analysis)} \\\\[0.5em]\n",
    "&& Z_s &=& R_s + \\frac{1}{sC_{AC}}  \\\\[0.5em]\n",
    "&& Z_E &=& R_E \\parallel \\frac{1}{sC_{AC_2}} \\\\[0.5em]\n",
    "&& r_b &=& 0 & \\rightarrow v_{\\pi} = v_{be} \\\\[0.5em]\n",
    "&& r_{\\pi} &=& \\frac{v_{\\pi}}{i_b} \\approx \\frac{v_{be}}{(g_m v_{be}) / \\beta} = \\frac{\\beta_0}{g_m} \\\\[0.5em]\n",
    "\\end{eqnarray}$\n",
    "\n",
    "<hr>"
   ]
  },
  {
   "cell_type": "markdown",
   "metadata": {},
   "source": [
    "$\\begin{eqnarray}\n",
    "&& \\text{ Find } v_{in}^\\prime &&  \\text{voltage divider } (R_{in} \\parallel R_B) \\text{ and} R_s  \\\\[0.5em]\n",
    "&& v_{in}^\\prime &=& \\frac{(R_{in} \\parallel R_B)}{(R_{in} \\parallel R_B) + Z_s}V_s \\\\[0.5em]\n",
    "&& \\frac{v_{in}^\\prime}{V_s} &=& \\frac{(R_{in} \\parallel R_B)}{(R_{in} \\parallel R_B) + Z_s} \\\\[0.5em]\n",
    "\\end{eqnarray}$\n",
    "\n",
    "<hr>\n",
    "\n",
    "$\\begin{eqnarray}\n",
    "&& \\text{ Find } R_{in} &&  \\text{Common Emitter} \\\\[0.5em]\n",
    "&& i_t &=& \\frac{v_{be}}{r_{\\pi}} \\text{ (current from test voltage)} \\\\[0.5em]\n",
    "&& v_t &=& v_{be} + Z_E(\\frac{v_{be}}{r_{\\pi}} + g_m v_{be}) \\\\[0.5em]\n",
    "&& R_{in} &=& \\frac{v_t}{i_t} \\\\[0.5em]\n",
    "&&  &=& (v_{be} + Z_E(\\frac{v_{be}}{r_{\\pi}} + g_m v_{be})) \\frac{r_{\\pi}}{v_{be}} \\\\[0.5em]\n",
    "&&  &=&  r_{\\pi} + Z_E + Z_E g_m r_{\\pi} \\\\[0.5em]\n",
    "&& &\\approx&  r_{\\pi}(1 + g_m Z_E)  \\\\[0.5em]\n",
    "&&  \\lim_{s \\to \\infty} R_{in} &=& r_{\\pi} \\\\[0.5em]\n",
    "\\end{eqnarray}$\n",
    "\n",
    "<hr>"
   ]
  },
  {
   "cell_type": "markdown",
   "metadata": {},
   "source": [
    "$\\begin{eqnarray}\n",
    "&& \\text{ Find } R_{out_1} &&  \\text{Common Emitter} \\\\[0.5em]\n",
    "&& R_{out_1} &=& R_C \\parallel r_0 (1+g_m R_E) \\\\[0.5em]\n",
    "&& &\\approx& R_C \\\\[0.5em]\n",
    "\\end{eqnarray}$\n",
    "\n",
    "<hr>\n",
    "\n",
    "$\\begin{eqnarray}\n",
    "&& \\text{ Find } V_{out_1} &&  \\text{Common Emitter} \\\\[0.5em] \\\\[0.5em]\n",
    "&& v_{in}^\\prime &=& v_{be} + Z_E(g_m v_{be} + \\frac{v_{be}}{r_{\\pi}}) \\\\[0.5em]\n",
    "&& &=& v_{be}(1 + Z_E(g_m + \\frac{1}{r_{\\pi}})) \\\\[0.5em]\n",
    "&& &\\approx& v_{be}(1 + g_m Z_E ) \\\\[0.5em]\n",
    "&& V_{out_1} &=& -g_m v_{be} R_C \\\\[0.5em]\n",
    "&& \\frac{V_{out_1}}{v_{in}^\\prime} &=& \\frac{-g_m R_C}{1 + g_m Z_E} \\\\[0.5em]\n",
    "\\end{eqnarray}$\n",
    "\n",
    "<hr>"
   ]
  },
  {
   "cell_type": "markdown",
   "metadata": {},
   "source": [
    "$\\begin{eqnarray}\n",
    "&& \\text{ Find } v_{in_2}^\\prime &&   \\text{Emitter Follower}  \\\\[0.5em]\n",
    "&& v_{in_2}^\\prime &=& \\frac{R_{in_2}}{R_{in_2} + R_{out_1}} V_{out_1} \\\\[0.5em]\n",
    "&& \\frac{v_{in_2}^\\prime}{V_{out_1}} &=& \\frac{R_{in_2}}{R_{in_2} + R_{out_1}}  \\\\[0.5em]\n",
    "\\end{eqnarray}$\n",
    "\n",
    "<hr>\n",
    "\n",
    "$\\begin{eqnarray}\n",
    "&& \\text{ Find } R_{in_2} &&  \\text{Emitter Follower} \\\\[0.5em]\n",
    "&& R_{in_2} &=& r_{\\pi} (1 + g_m R_{E_2}) \\\\[0.5em]\n",
    "\\end{eqnarray}$\n",
    "\n",
    "<hr>\n",
    "\n",
    "$\\begin{eqnarray}\n",
    "&& \\text{ Find } V_{out_2} &&  \\text{Emitter Follower} \\\\[0.5em]\n",
    "&& \\frac{V_{out_2}}{v_{in_2}^\\prime} &=& \\frac{g_m R_{E_2}}{1+g_m R_{E_2}} \\\\[0.5em]\n",
    "\\end{eqnarray}$\n",
    "\n",
    "<hr>"
   ]
  },
  {
   "cell_type": "markdown",
   "metadata": {},
   "source": [
    "$\\begin{eqnarray}\n",
    "&& \\text{ Find } V_{out_2} &&  \\\\[0.5em]\n",
    "&& \\frac{V_{out_2}}{V_s} &=& \\frac{v_{in}^\\prime}{V_s} \\cdot \\frac{V_{out_1}}{v_{in}^\\prime} \\cdot \\frac{v_{in_2}^\\prime}{V_{out_1}}  \\cdot \\frac{V_{out_2}}{v_{in_2}^\\prime}\\\\[0.5em]\n",
    "&& \\frac{V_{out_1}}{V_s} &=& \\frac{(R_{in} \\parallel R_B)}{(R_{in} \\parallel R_B) + Z_s} \\cdot \\frac{-g_m R_C}{1 + g_m Z_E} \\cdot \\frac{R_{in_2}}{R_{in_2} + R_{out_1}} \\cdot \\frac{g_m R_{E_2}}{1+g_m R_{E_2}} \\\\[0.5em] \n",
    "&& &=& \\frac{(r_{\\pi}(1 + g_m Z_E) \\parallel R_B)}{(r_{\\pi}(1 + g_m Z_E) \\parallel R_B) + Z_s} \\cdot \\frac{-g_m R_C}{1 + g_m Z_E} \\cdot \\frac{r_{\\pi} (1 + g_m R_{E_2})}{r_{\\pi} (1 + g_m R_{E_2}) + R_C} \\cdot \\frac{g_m R_{E_2}}{1+g_m R_{E_2}} \\\\[0.5em]\n",
    "\\end{eqnarray}$\n",
    "\n",
    "<hr>"
   ]
  },
  {
   "cell_type": "markdown",
   "metadata": {},
   "source": [
    "__b)__ Determine expressions for the input-referred noise sources $e_n$ and $i_n$ of the amplifier in Figure 1b assuming only thermal and shot noise generators (no $1/f$ noise or $f_T$-dependent shot noise)."
   ]
  },
  {
   "cell_type": "markdown",
   "metadata": {},
   "source": [
    "$\\begin{eqnarray}\n",
    "&& r_e &=& \\frac{1}{g_m} = \\frac{V_T}{I_C} \\\\[0.5em]\n",
    "&& e_n^2 &=& 4kT\\left(r_{b} + \\dfrac{r_e}{2} + \\dfrac{r_e^2}{R_C}\\right) = 4kT\\left(r_{b} + \\dfrac{1}{2g_m} + \\dfrac{1}{g_m^2R_C}\\right) \\\\[0.5em]\n",
    "&& e_n &=& \\sqrt{4kT\\left(r_{b} + \\dfrac{r_e}{2} + \\dfrac{r_e^2}{R_C}\\right)} = \\sqrt{4kT\\left(r_{b} + \\dfrac{1}{2g_m} + \\dfrac{1}{g_m^2R_C}\\right)} \\\\[0.5em]\n",
    "&& i_n^2 &=& 2q\\dfrac{I_C}{\\beta_0} \\\\[0.5em]\n",
    "&& i_n &=& \\sqrt{2q\\dfrac{I_C}{\\beta_0}} \\\\[0.5em]\n",
    "&& NF &=& 1 + \\frac{e_n^2 + i_n^2 R_S^2}{4kTR_S}\n",
    "\\end{eqnarray}$\n",
    "\n",
    "<hr>"
   ]
  },
  {
   "cell_type": "markdown",
   "metadata": {},
   "source": [
    "<u>*Design*</u>"
   ]
  },
  {
   "cell_type": "markdown",
   "metadata": {},
   "source": [
    "__c)__ Assuming $R_s$ = $100\\Omega$, $r_b = 2\\Omega$ and $\\beta_0 = 250$, what is the minimum theoretical noise figure of the amplifier? What value of $I_{C1}$ does this correspond to? Assume a mid-band gain of the common-emitter stage of $40\\text{dB}$ and an output impedance of the emitter-follower of $50\\Omega$. "
   ]
  },
  {
   "cell_type": "markdown",
   "metadata": {},
   "source": [
    "Minimum theoretical noise figure of the amplifier is 1.07"
   ]
  },
  {
   "cell_type": "markdown",
   "metadata": {},
   "source": [
    "$\\begin{eqnarray}\n",
    "&& NF &=& 1 + \\frac{e_n^2 + i_n^2 R_S^2}{4kTR_S} \\\\[0.5em]\n",
    "&&  &=& 1 + \\frac{4kT(r_b + \\frac{V_T}{2I_C}) + 2q\\frac{I_c}{\\beta_0}R_S^2}{4kTR_S} \\\\[0.5em]\n",
    "&&  &=& 1 + \\frac{4kT \\cdot r_b}{4kTR_S} + \\frac{4kT \\cdot V_T}{4kTR_S \\cdot 2I_C} + \\frac{2q R_S I_c}{4kT \\cdot \\beta_0} \\\\[0.5em]\n",
    "&& \\frac{\\partial NF}{\\partial I_C} &=& \\frac{\\partial}{\\partial I_C} (1 + \\frac{4kT \\cdot r_b}{4kTR_S} + \\frac{4kT \\cdot V_T}{4kTR_S \\cdot 2I_C} + \\frac{2q R_S I_c}{4kT \\cdot \\beta_0}) \\\\[0.5em]\n",
    "&& 0 &=& \\frac{\\partial}{\\partial I_C} (\\frac{V_T}{2R_S}\\frac{1}{I_C} + \\frac{R_S}{2V_T  \\beta_0}I_c) \\\\[0.5em]\n",
    "&& 0 &=& \\frac{-V_T}{2R_S}\\frac{1}{I_C^2} + \\frac{R_S}{2V_T \\beta_0} \\\\[0.5em]\n",
    "&& \\frac{V_T}{2R_S}\\frac{1}{I_C^2} &=&  \\frac{R_S}{2V_T \\beta_0} \\\\[0.5em]\n",
    "&& \\frac{2 V_T^2 \\beta_0}{2R_S^2} &=&  I_C^2  \\\\[0.5em]\n",
    "&& \\beta_0 \\frac{V_T^2 }{R_S^2} &=&  I_C^2  \\\\[0.5em]\n",
    "&& I_C &=& \\sqrt{\\beta_0} \\frac{V_T}{R_S} \\\\[0.5em]\n",
    "&& &=& \\sqrt{250} \\frac{26\\cdot 10^{-3}}{1000} = 411 \\mu A \\\\[0.5em]\n",
    "\\end{eqnarray}$"
   ]
  },
  {
   "cell_type": "code",
   "execution_count": 4,
   "metadata": {},
   "outputs": [],
   "source": [
    "R_s,r_b,beta_0,I_C = sp.symbols('R_s,r_b,beta_0,I_C')\n",
    "k = 1.38e-23\n",
    "T = 300\n",
    "q = 1.602e-19\n",
    "V_T = k*T/q\n",
    "\n",
    "I_Cs = np.linspace(100*1e-6,1.5*1e-3, num=100)\n",
    "\n",
    "en_sq = 4*k*T*(V_T/(2*I_C) + r_b)\n",
    "in_sq = 2*q*I_C/beta_0\n",
    "NF = 1 + (en_sq + in_sq*R_s**2)/(4*k*T*R_s)\n",
    "\n",
    "components = {\n",
    "    R_s : 1000,\n",
    "    r_b : 2,\n",
    "    beta_0 : 250,\n",
    "}\n",
    "H = sp.Matrix([NF])\n",
    "H = H.subs(components)\n",
    "H = lambdify(I_C,H,modules='numpy')\n",
    "H = H(I_Cs)\n",
    "H = H[0][0]"
   ]
  },
  {
   "cell_type": "code",
   "execution_count": 5,
   "metadata": {},
   "outputs": [
    {
     "data": {
      "image/png": "[encoded data removed]",
      "text/plain": [
       "<Figure size 720x360 with 1 Axes>"
      ]
     },
     "metadata": {
      "needs_background": "light"
     },
     "output_type": "display_data"
    }
   ],
   "source": [
    "fig, ax = plt.subplots(figsize=(10,5))\n",
    "\n",
    "label = f'min @ ({rnd(I_Cs[np.argmin(H)],3,\"mA\")} mA, {round(min(H),2)})'\n",
    "\n",
    "ax.set_title(r'Noise Figure($I_C$)')\n",
    "ax.scatter(I_Cs*1e3, H,label=r'NF')\n",
    "ax.scatter(I_Cs[np.argmin(H)]*1e3, min(H), label=f'{label}')\n",
    "ax.set_ylabel('NF Magnitude')\n",
    "ax.set_xlabel(r'$I_C$ [mA]')\n",
    "ax.grid(which='both', axis='both')\n",
    "ax.legend()\n",
    "plt.show();"
   ]
  },
  {
   "cell_type": "markdown",
   "metadata": {},
   "source": [
    "<hr>\n",
    "\n",
    "__d)__ Design the amplifier (i.e. determine resistor values $R_{B1,2}$, $R_E$, $R_C$, and $R_{E2}$) for a mid-band gain of $40\\text{dB}$ and the noise figure determined in part c. Use a supply voltage $V_{CC} = 9V$. Determine values for $C_{AC}$ and $C_{AC2}$ that ensure a $3\\text{dB}$ highpass corner lower than $100\\text{Hz}$.\n",
    "\n",
    "Verify your design in Ltspice using the SPICE model of the 2SC3324 npn transistor from Toshiba. Include an image of your schematic (with DC node voltages and branch currents annotated) and plots of the frequency response, output noise, and noise figure as a function of frequency. Indicate the noise figure at $10\\text{kHz}$."
   ]
  },
  {
   "cell_type": "markdown",
   "metadata": {},
   "source": [
    "DC Analysis\n",
    "\n",
    "<br>\n",
    "Given\n",
    "<br>\n",
    "\n",
    "$\\begin{eqnarray}\n",
    "&& I_E &=& \\dfrac{V_B - V_{BE}}{R_E + \\frac{R_B}{\\beta_0+1}} \\\\[0.5em]\n",
    "\\end{eqnarray}$"
   ]
  },
  {
   "cell_type": "markdown",
   "metadata": {},
   "source": [
    "$\\begin{eqnarray}\n",
    "g_m &\\equiv& \\dfrac{\\partial I_C}{\\partial V_{BE}} = \\dfrac{qI_C}{kT} = \\dfrac{I_C}{V_T}  \\\\[0.5em]\n",
    "r_o &\\equiv& \\dfrac{\\partial V_{CE}}{\\partial I_C} = \\dfrac{V_A}{I_C} \\\\[0.5em]\n",
    "r_\\pi &=& \\beta_0 \\dfrac{V_T}{I_C} = \\dfrac{\\beta_0}{g_m} \\\\[0.5em]\n",
    "\\end{eqnarray}$\n",
    "\n",
    "$\\begin{eqnarray}\n",
    "&& I_B &=& \\frac{I_C}{\\beta} \\\\[0.5em]\n",
    "&& I_E &=& I_B + I_C \\\\[0.5em]\n",
    "&& I_E &=& (1+\\beta) I_B \\\\[0.5em]\n",
    "\\end{eqnarray}$\n",
    "\n",
    "<hr>"
   ]
  },
  {
   "cell_type": "markdown",
   "metadata": {},
   "source": [
    "Set $I_C$ to minimize noise. I'm setting $I_C = 0.5$ mA. Will update if have time.\n",
    "<br>\n",
    "Choose $V_C$ to be midpoint of $V_{CC}$ and ground. $V_C = 4.5$ \n",
    "<br>\n",
    "Find $R_C$\n",
    "<br>\n",
    "\n",
    "$\\begin{eqnarray}\n",
    "&& I_C &=& \\frac{V_{CC}-V_C}{R_C} \\\\[0.5em]\n",
    "&& R_C &=& \\frac{V_{CC}-V_C}{I_C} \\\\[0.5em]\n",
    "&& &=& \\frac{9-4.5}{0.5mA} \\\\[0.5em]\n",
    "&& &=& 9000 \\Omega \\\\[0.5em]\n",
    "\\end{eqnarray}$\n",
    "\n",
    "<br>\n",
    "Find transconductance $g_m$\n",
    "<br>\n",
    "\n",
    "$\\begin{eqnarray}\n",
    "&& V_T &\\approx& 26mV \\\\[0.5em]\n",
    "&& g_m &=& \\frac{I_C}{V_T} \\\\[0.5em]\n",
    "&& g_m &=& \\frac{0.5mA}{26mV} \\\\[0.5em]\n",
    "&& &=& 0.019 \\\\[0.5em]\n",
    "\\end{eqnarray}$\n",
    "\n",
    "<hr>"
   ]
  },
  {
   "cell_type": "markdown",
   "metadata": {},
   "source": [
    "Find $V_{th}$ and $R_{th}$\n",
    "\n",
    "$\\begin{eqnarray}\n",
    "&& V_{th} &=& V_{CC} \\frac{R_{B_2}}{R_{B_2} + R_{B_1}} \\\\[0.5em]\n",
    "&& R_{th} &=& R_{B_1} \\parallel R_{B_2} \\\\[0.5em]\n",
    "\\end{eqnarray}$\n",
    "\n",
    "<hr>\n",
    "\n",
    "Choose $Z_{in}$ to be large; 5K\n",
    "\n",
    "$\\begin{eqnarray}\n",
    "&& Z_{in} &=& 5K \\Omega \\\\[0.5em]\n",
    "&& Z_{in} &=& R_{th} \\parallel r_{\\pi} \\\\[0.5em]\n",
    "&& 5000 &=& R_{th} \\parallel \\frac{\\beta_0}{g_m} \\\\[0.5em]\n",
    "&& 5000 &=& R_{th} \\parallel \\frac{250}{0.019} \\\\[0.5em]\n",
    "&& 5000 &=& \\frac{R_{th} \\cdot 13157}{R_{th}+13157}  \\\\[0.5em]\n",
    "&& R_{th} &=& 8065 \\Omega \\\\[0.5em]\n",
    "\\end{eqnarray}$"
   ]
  },
  {
   "cell_type": "markdown",
   "metadata": {},
   "source": [
    "<hr>\n",
    "\n",
    "<br>\n",
    "Apply KVL\n",
    "<br>\n",
    "\n",
    "$\\begin{eqnarray}\n",
    "&& -V_{th} + I_B R_{th} + V_{BE} + I_E R_E \\\\[0.5em]\n",
    "&& I_B (R_{th} + R_E (1 + \\beta)) = V_{th} - V_{BE} \\\\[0.5em]\n",
    "&& I_B = \\frac{V_{th} - V_{BE}}{R_{th} + R_E (1 + \\beta)} \\\\[0.5em]\n",
    "&& I_E = (\\beta_0+1)I_B \\\\[0.5em]\n",
    "&& I_E = \\dfrac{V_B - V_{BE}}{R_E + \\frac{R_B}{\\beta_0+1}} \\approx \\frac{V_B}{R_E}\\\\[0.5em]\n",
    "&& I_C \\approx I_E \\\\[0.5em]\n",
    "&&  \\text{then}  \\\\[0.5em]\n",
    "&& \\frac{V_B}{R_E} = 0.5mA \\\\[0.5em]\n",
    "\\end{eqnarray}$\n",
    "\n",
    "Choose $V_B = 6V$, then $R_E$ = $12K\\Omega$\n",
    "\n",
    "Solving $V_{th}$ and $R_{th}$ simultaneously results\n",
    "\n",
    "$\\begin{eqnarray}\n",
    "R_{B_1} = 16130 \\\\[0.5em]\n",
    "R_{B_2} = 16130 \\\\[0.5em]\n",
    "\\end{eqnarray}$"
   ]
  },
  {
   "cell_type": "markdown",
   "metadata": {},
   "source": [
    "<hr>\n",
    "\n",
    "AC Analysis\n",
    "\n",
    "\n",
    "$\\begin{eqnarray}\n",
    "&& \\frac{V_{out}}{V_s} &=& 40dB \\\\[0.5em]\n",
    "&& V_{be} &=& \\frac{V_{s} R_{th}}{R_s + R_{th}} \\\\[0.5em]\n",
    "&& \\frac{V_{out}}{V_s} &=& \\frac{V_{be}}{V_{s}} \\cdot \\frac{V_{out}}{V_{be}} \\cdot \\frac{R_{in_2}}{R_{out_1} + R_{in_2}} \\\\[0.5em]\n",
    "&& 40dB &=& \\frac{ R_{th}}{R_s + R_{th}} \\cdot -g_m R_C \\cdot \\frac{R_{in_2}}{R_C + R_{in_2}} \\\\[0.5em]\n",
    "&& 10000 &=& \\frac{8065}{1000 + 8065} \\cdot -0.019 \\cdot 9000 \\cdot \\frac{R_{in_2}}{9000 + R_{in_2}} \\\\[0.5em]\n",
    "&& R_{in_2} &=& 8865 \\\\[0.5em]\n",
    "\\end{eqnarray}$"
   ]
  },
  {
   "cell_type": "markdown",
   "metadata": {},
   "source": [
    "<hr>\n",
    "\n",
    "Find $R_{in_2}$\n",
    "\n",
    "$\\begin{eqnarray}\n",
    "&& R_{in_2} &=& r_{\\pi}(1 + g_m R_{E_2}) \\approx \\beta_0 R_{E_2} \\\\[0.5em]\n",
    "&& 8865 &=& 250 R_{E_2} \\\\[0.5em]\n",
    "&& R_{E_2} &=& 35 \\Omega \\\\[0.5em]\n",
    "\\end{eqnarray}$\n"
   ]
  },
  {
   "cell_type": "markdown",
   "metadata": {},
   "source": [
    "<img src=\"img/LTspice_Model.png\" width=700 />"
   ]
  },
  {
   "cell_type": "markdown",
   "metadata": {},
   "source": [
    "<img src=\"img/DC_operating_point.png\" width=600 />"
   ]
  },
  {
   "cell_type": "code",
   "execution_count": 6,
   "metadata": {},
   "outputs": [],
   "source": [
    "filepath = 'data/HW03.txt'\n",
    "df = read_ltspice(filepath,'ac')\n",
    "freq = df['Freq.']\n",
    "mag = df['Mag_V(vout2)/I(Vs)']"
   ]
  },
  {
   "cell_type": "code",
   "execution_count": 7,
   "metadata": {},
   "outputs": [
    {
     "data": {
      "image/png": "[encoded data removed]",
      "text/plain": [
       "<Figure size 864x432 with 1 Axes>"
      ]
     },
     "metadata": {
      "needs_background": "light"
     },
     "output_type": "display_data"
    }
   ],
   "source": [
    "fig, ax = plt.subplots(1,figsize=(12,6))\n",
    "\n",
    "x1 = np.where(mag<=mag[0]-3)[0][0]\n",
    "label1 = \"{:.2f}Hz, {:.2f}dB\".format(round(freq[x1],2), mag[x1])\n",
    "\n",
    "ax.semilogx(freq, mag, color='tab:blue',label='')\n",
    "ax.scatter(freq[x1],mag[x1],label=label1,color='tab:blue')\n",
    "ax.grid(True,which='both')\n",
    "ax.set_xlabel('Frequency [Hz]')\n",
    "ax.set_ylabel('Magnitude [dB]')\n",
    "ax.set_title(f'SPICE AC Response: Mid-band Gain {round(max(mag),2)}dB')\n",
    "ax.set_xlim(1e1,1e7)\n",
    "\n",
    "ax.legend()\n",
    "plt.show();"
   ]
  },
  {
   "cell_type": "code",
   "execution_count": 8,
   "metadata": {},
   "outputs": [],
   "source": [
    "filepath = 'data/HW03_noise.txt'\n",
    "df = pd.read_csv(filepath)\n",
    "freq = df['frequency']\n",
    "mag = df['V(onoise)']"
   ]
  },
  {
   "cell_type": "code",
   "execution_count": 9,
   "metadata": {},
   "outputs": [
    {
     "data": {
      "image/png": "[encoded data removed]",
      "text/plain": [
       "<Figure size 864x432 with 1 Axes>"
      ]
     },
     "metadata": {
      "needs_background": "light"
     },
     "output_type": "display_data"
    }
   ],
   "source": [
    "fig, ax = plt.subplots(1,figsize=(12,6))\n",
    "\n",
    "x1 = np.where(freq<=10000)[0][-1]\n",
    "label1 = r\"10KHz, {:.3f} $nV$\".format(mag[x1]*1e9)\n",
    "\n",
    "ax.semilogx(freq, mag, color='tab:blue',label='BJT: 2SC3324')\n",
    "ax.scatter(freq[x1],mag[x1],label=label1,color='tab:blue')\n",
    "ax.grid(True,which='both')\n",
    "ax.set_xlabel('Frequency [Hz]')\n",
    "ax.set_ylabel(r'Noise $V/\\sqrt{Hz}$')\n",
    "ax.set_title(r'SPICE: $V_{out}$ Noise Response')\n",
    "ax.ticklabel_format(style='sci', axis='y', scilimits=(-9,-9))\n",
    "#ax.set_ylim(10e-9,50e-9)\n",
    "\n",
    "# manipulate x-axis ticks and labels\n",
    "ax.xaxis.set_major_locator(LogLocator(numticks=15)) #(1)\n",
    "ax.xaxis.set_minor_locator(LogLocator(numticks=15,subs=np.arange(2,10))) #(2)\n",
    "for label in ax.xaxis.get_ticklabels()[::2]:\n",
    "    label.set_visible(False) #(3)\n",
    "\n",
    "ax.legend()\n",
    "plt.show();"
   ]
  },
  {
   "cell_type": "markdown",
   "metadata": {},
   "source": [
    "### Reference Page"
   ]
  },
  {
   "cell_type": "code",
   "execution_count": 10,
   "metadata": {},
   "outputs": [],
   "source": [
    "# Imports\n",
    "import os\n",
    "import sys\n",
    "import cmath\n",
    "import math\n",
    "import matplotlib.pyplot as plt\n",
    "import matplotlib\n",
    "import numpy as np\n",
    "import pandas as pd\n",
    "import ltspice\n",
    "import sympy as sp\n",
    "from sympy.utilities.lambdify import lambdify\n",
    "from scipy import signal\n",
    "%matplotlib inline\n",
    "from IPython.core.interactiveshell import InteractiveShell\n",
    "InteractiveShell.ast_node_interactivity = \"all\"\n",
    "from matplotlib.ticker import LogLocator"
   ]
  },
  {
   "cell_type": "code",
   "execution_count": 11,
   "metadata": {},
   "outputs": [],
   "source": [
    "def read_ltspice(file_name,ftype='trans',units='db'):\n",
    "    cols = []\n",
    "    arrs = []\n",
    "    with open(file_name, 'r',encoding='utf-8') as data:\n",
    "        for i,line in enumerate(data):\n",
    "            if i==0:\n",
    "                cols = line.split()\n",
    "                arrs = [[] for _ in cols]\n",
    "                continue\n",
    "            parts = line.split()\n",
    "            for j,part in enumerate(parts):\n",
    "                arrs[j].append(part)\n",
    "    df = pd.DataFrame(arrs,dtype='float64')\n",
    "    df = df.T\n",
    "    df.columns = cols\n",
    "    if ftype=='trans':\n",
    "        return df\n",
    "    elif ftype=='ac':\n",
    "        if units=='db':\n",
    "            for col in cols:\n",
    "                if df[col].str.contains(',').all():\n",
    "                    df[f'Mag_{col}'] = df[col].apply(lambda x: x.split(',')[0])\n",
    "                    df[f'Mag_{col}'] = df[f'Mag_{col}'].apply(lambda x: x[1:-2])\n",
    "                    df[f'Mag_{col}'] = df[f'Mag_{col}'].astype('float64')\n",
    "                    df[f'Phase_{col}'] = df[col].apply(lambda x: x.split(',')[1])\n",
    "                    df[f'Phase_{col}'] = df[f'Phase_{col}'].apply(lambda x: x[0:-2])\n",
    "                    df[f'Phase_{col}'] = df[f'Phase_{col}'].astype('float64')\n",
    "        if units=='cartesian':\n",
    "            for col in cols:\n",
    "                if df[col].str.contains(',').all():\n",
    "                    df[f'Re_{col}'] = df[col].apply(lambda x: x.split(',')[0])\n",
    "                    df[f'Re_{col}'] = df[f'Re_{col}'].astype('float64')\n",
    "                    df[f'Im_{col}'] = df[col].apply(lambda x: x.split(',')[1])\n",
    "                    df[f'Im_{col}'] = df[f'Im_{col}'].astype('float64')\n",
    "        df['Freq.'] = df['Freq.'].astype('float64')\n",
    "        return df\n",
    "    else:\n",
    "        print('invalid ftype')"
   ]
  },
  {
   "cell_type": "code",
   "execution_count": 12,
   "metadata": {},
   "outputs": [],
   "source": [
    "def rnd(num,places,unit):\n",
    "    if unit.lower()=='mhz':\n",
    "        return round(num/(1e6),places)\n",
    "    if unit.lower()=='ma':\n",
    "        return round(num/(1e-3),places)"
   ]
  },
  {
   "cell_type": "code",
   "execution_count": null,
   "metadata": {},
   "outputs": [],
   "source": []
  }
 ],
 "metadata": {
  "kernelspec": {
   "display_name": "Python 3",
   "language": "python",
   "name": "python3"
  },
  "language_info": {
   "codemirror_mode": {
    "name": "ipython",
    "version": 3
   },
   "file_extension": ".py",
   "mimetype": "text/x-python",
   "name": "python",
   "nbconvert_exporter": "python",
   "pygments_lexer": "ipython3",
   "version": "3.7.9"
  }
 },
 "nbformat": 4,
 "nbformat_minor": 4
}
