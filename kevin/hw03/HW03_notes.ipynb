{
 "cells": [
  {
   "cell_type": "markdown",
   "id": "urban-disposition",
   "metadata": {},
   "source": [
    "https://www.chegg.com/homework-help/questions-and-answers/design-ce-amplifier-maximum-possible-av-maintaining-zin-5k-worst-case-device-gain-state-ma-q38739950"
   ]
  },
  {
   "cell_type": "markdown",
   "id": "disturbed-possible",
   "metadata": {},
   "source": [
    "$\\begin{eqnarray}\n",
    "&& i_c &=& g_m v_{be} \\\\[0.5em]\n",
    "&& i_b &=& \\frac{i_c}{\\beta} \\\\[0.5em]\n",
    "&& i_e &=& i_b + i_c \\\\[0.5em]\n",
    "&& R_B &=& R_{B_1} \\parallel R_{B_2} & \\text{ short DC voltages and currents in AC analysis} \\\\[0.5em]\n",
    "&& Z_s &=& R_s + \\frac{1}{sC_{AC}}  \\\\[0.5em]\n",
    "&& Z_E &=& R_E \\parallel \\frac{1}{sC_{AC_2}} \\\\[0.5em]\n",
    "&& r_b &=& 0 & \\rightarrow v_{\\pi} = v_{be} \\\\[0.5em]\n",
    "&& r_{\\pi} &=& \\frac{v_{\\pi}}{i_b} \\approx \\frac{v_{be}}{(g_m v_{be}) / \\beta} = \\frac{\\beta}{g_m} \\\\[0.5em]\n",
    "\\end{eqnarray}$\n",
    "\n",
    "<hr>\n",
    "\n",
    "$\\begin{eqnarray}\n",
    "&& \\text{ Find } v_{in}^\\prime &&  \\text{voltage divider } (R_{in} \\parallel R_B) \\text{ and} R_s  \\\\[0.5em]\n",
    "&& v_{in}^\\prime &=& \\frac{(R_{in} \\parallel R_B)}{(R_{in} \\parallel R_B) + Z_s}V_s \\\\[0.5em]\n",
    "&& \\frac{v_{in}^\\prime}{V_s} &=& \\frac{(R_{in} \\parallel R_B)}{(R_{in} \\parallel R_B) + Z_s} \\\\[0.5em]\n",
    "\\end{eqnarray}$\n",
    "\n",
    "<hr>\n",
    "\n",
    "$\\begin{eqnarray}\n",
    "&& \\text{ Find } R_{in} &&  \\text{Common Emitter} \\\\[0.5em]\n",
    "&& i_t &=& \\frac{v_{be}}{r_{\\pi}} \\text{ (current from test voltage)} \\\\[0.5em]\n",
    "&& v_t &=& v_{be} + Z_E(\\frac{v_{be}}{r_{\\pi}} + g_m v_{be}) \\\\[0.5em]\n",
    "&& R_{in} &=& \\frac{v_t}{i_t} \\\\[0.5em]\n",
    "&&  &=& (v_{be} + Z_E(\\frac{v_{be}}{r_{\\pi}} + g_m v_{be})) \\frac{r_{\\pi}}{v_{be}} \\\\[0.5em]\n",
    "&&  &=&  r_{\\pi} + Z_E + Z_E g_m r_{\\pi} \\\\[0.5em]\n",
    "&& &\\approx&  r_{\\pi}(1 + g_m Z_E)  \\\\[0.5em]\n",
    "&&  \\lim_{s \\to \\infty} R_{in} &=& r_{\\pi} \\\\[0.5em]\n",
    "\\end{eqnarray}$\n",
    "\n",
    "<hr>\n",
    "\n",
    "$\\begin{eqnarray}\n",
    "&& \\text{ Find } R_{out_1} &&  \\text{Common Emitter} \\\\[0.5em]\n",
    "&& R_{out_1} &=& R_C \\parallel r_0 (1+g_m R_E) \\\\[0.5em]\n",
    "&& &\\approx& R_C \\\\[0.5em]\n",
    "\\end{eqnarray}$\n",
    "\n",
    "<hr>\n",
    "\n",
    "$\\begin{eqnarray}\n",
    "&& \\text{ Find } V_{out_1} &&  \\text{Common Emitter} \\\\[0.5em] \\\\[0.5em]\n",
    "&& v_{in}^\\prime &=& v_{be} + Z_E(g_m v_{be} + \\frac{v_{be}}{r_{\\pi}}) \\\\[0.5em]\n",
    "&& &=& v_{be}(1 + Z_E(g_m + \\frac{1}{r_{\\pi}})) \\\\[0.5em]\n",
    "&& &\\approx& v_{be}(1 + g_m Z_E ) \\\\[0.5em]\n",
    "&& V_{out_1} &=& -g_m v_{be} R_C \\\\[0.5em]\n",
    "&& \\frac{V_{out_1}}{v_{in}^\\prime} &=& \\frac{-g_m R_C}{1 + g_m Z_E} \\\\[0.5em]\n",
    "\\end{eqnarray}$\n",
    "\n",
    "<hr>"
   ]
  },
  {
   "cell_type": "markdown",
   "id": "frozen-fifty",
   "metadata": {},
   "source": [
    "$\\begin{eqnarray}\n",
    "&& \\text{ Find } V_{out_2} &&  \\\\[0.5em]\n",
    "&& \\frac{V_{out_2}}{V_s} &=& \\frac{v_{in}^\\prime}{V_s} \\cdot \\frac{V_{out_1}}{v_{in}^\\prime} \\cdot \\frac{v_{in_2}^\\prime}{V_{out_1}}  \\cdot \\frac{V_{out_2}}{v_{in_2}^\\prime}\\\\[0.5em]\n",
    "&& \\frac{V_{out_1}}{V_s} &=& \\frac{(R_{in} \\parallel R_B)}{(R_{in} \\parallel R_B) + Z_s} \\cdot \\frac{-g_m R_C}{1 + g_m R_E} \\cdot \\frac{R_{in_2}}{R_{in_2} + R_{out_1}} \\cdot \\frac{g_m R_{E_2}}{1+g_m R_{E_2}} \\\\[0.5em] \n",
    "&& &=& \\frac{(r_{\\pi}(1 + g_m Z_E) \\parallel R_B)}{(r_{\\pi}(1 + g_m Z_E) \\parallel R_B) + Z_s} \\cdot \\frac{-g_m R_C}{1 + g_m R_E} \\cdot \\frac{r_{\\pi} (1 + g_m R_{E_2})}{r_{\\pi} (1 + g_m R_{E_2}) + R_C} \\cdot \\frac{g_m R_{E_2}}{1+g_m R_{E_2}} \\\\[0.5em]\n",
    "\\end{eqnarray}$"
   ]
  },
  {
   "cell_type": "markdown",
   "id": "detailed-illustration",
   "metadata": {},
   "source": [
    "<img src=\"img/Vout1_Vout2.png\" width=600 />\n",
    "<br>\n",
    "<center><b>Simplified Circuit </b></center>"
   ]
  },
  {
   "cell_type": "markdown",
   "id": "saving-prospect",
   "metadata": {},
   "source": [
    "<img src=\"img/Vout1_hybrid.png\" width=450 />\n",
    "<br>\n",
    "<center><b>$V_{out_1}$ Hybrid Pi Model </b></center>"
   ]
  },
  {
   "cell_type": "markdown",
   "id": "suburban-sculpture",
   "metadata": {},
   "source": [
    "<img src=\"img/Vout2_hybrid.png\" width=400 />\n",
    "<br>\n",
    "<center><b>$V_{out_2}$ Hybrid Pi Model </b></center>"
   ]
  },
  {
   "cell_type": "markdown",
   "id": "herbal-nowhere",
   "metadata": {},
   "source": [
    "$\\begin{eqnarray}\n",
    "&& I_B &=& \\frac{I_C}{}\n",
    "\\end{eqnarray}$\n",
    "\n",
    "$\\begin{eqnarray}\n",
    "&& V_B &\\approx& V_{CC} \\frac{R_{B2}}{R_{B1} + R_{B2}} &\\text{ if } V_B &\\gg& V_{BE} \\\\[0.5em]\n",
    "&& I_E &=& \\frac{V_B - V_{BE}}{R_E + \\frac{R_B}{\\beta_0+1}} \\approx \\frac{V_B}{R_E} \\\\[0.5em]\n",
    "&& I_C &=& 411 \\mu A \\approx I_E  \\\\[0.5em] \n",
    "&& V_B &\\approx& (411 \\mu A) \\cdot R_E  \\\\[0.5em]\n",
    "\\end{eqnarray}$\n",
    "\n",
    "<hr>\n",
    "\n",
    "$\\begin{eqnarray}\n",
    "&& R_{out_2} &=& \\frac{1}{g_m} \\parallel R_{E_2} \\\\[0.5em]\n",
    "&& 50 &=& \\frac{V_T}{I_C} \\parallel R_{E_2} \\\\[0.5em]\n",
    "&& 50 &=& \\frac{V_T}{V_B^\\prime / R_{E_2}} \\parallel R_{E_2} \\\\[0.5em]\n",
    "&& 50 &=& \\frac{V_T R_{E_2}}{V_B^\\prime} \\parallel R_{E_2} \\\\[0.5em]\n",
    "&& 50 &=& \\frac{26mV \\cdot R_{E_2}}{6} \\parallel R_{E_2} \\rightarrow R_{E_2} = 11588 \\\\[0.5em]\n",
    "\\end{eqnarray}$\n"
   ]
  },
  {
   "cell_type": "code",
   "execution_count": null,
   "id": "closed-robin",
   "metadata": {},
   "outputs": [],
   "source": []
  }
 ],
 "metadata": {
  "kernelspec": {
   "display_name": "Python 3",
   "language": "python",
   "name": "python3"
  },
  "language_info": {
   "codemirror_mode": {
    "name": "ipython",
    "version": 3
   },
   "file_extension": ".py",
   "mimetype": "text/x-python",
   "name": "python",
   "nbconvert_exporter": "python",
   "pygments_lexer": "ipython3",
   "version": "3.7.9"
  }
 },
 "nbformat": 4,
 "nbformat_minor": 5
}
