{
 "cells": [
  {
   "cell_type": "markdown",
   "metadata": {},
   "source": [
    "**Part A**\n",
    "\n",
    "\\begin{equation}\n",
    "f_{enb} = \\int_{0}^{\\infty} |H(f)|^{2} df\n",
    "\\end{equation}\n",
    " \n",
    "\\begin{equation}\n",
    "H(s) = \\frac{ \\omega _{0}^{2}}{s^2 + 2 \\xi \\omega _{0} s + \\omega _{0}^{2}}\n",
    "\\end{equation}\n",
    "\n",
    "\\begin{equation}\n",
    "|H(s)|^{2} = H(j \\omega) H(-j \\omega) = \\frac{\\omega _{0}^{4}}{\\omega ^{4} + (4 \\xi ^{2} - 2) \\omega _{0}^{2} \\omega ^{2} + \\omega _{0}^{4}}\n",
    "\\end{equation}\n",
    "\n",
    "\\begin{equation}\n",
    "|H(f)|^{2} = \\frac{(2 \\pi f_{0})^{4}}{(2 \\pi f)^{4} + (4 \\xi ^{2} - 2) (2 \\pi f_{0})^{2} (2 \\pi f)^{2} + (2 \\pi f_{0})^{4}}\n",
    " = \\frac{f_{0}^{4}}{f^{4} + (4 \\xi ^{2} - 2) f_{0}^{2} f^{2} + f_{0}^{4}}\n",
    "\\end{equation}\n",
    "\n",
    "\n",
    "\\begin{equation}\n",
    "f_{enb} = \\int_{0}^{\\infty} \\frac{f_{0}^{4}}{f^{4} + (4 \\xi ^{2} - 2) f_{0}^{2} f^{2} + f_{0}^{4}} df\n",
    "\\end{equation}\n"
   ]
  },
  {
   "cell_type": "markdown",
   "metadata": {},
   "source": [
    "**Part B**\n",
    "\n",
    "For a Butterworth filter, $\\xi = 1/ \\sqrt{2}$ and $f_{3dB} = f_{0}$, so\n",
    "\n",
    "\\begin{equation}\n",
    "f_{enb} = \\int_{0}^{\\infty} \\frac{f_{0}^{4}}{f^{4} + f_{0}^{4}} df = \\frac{\\pi}{2 \\sqrt{2}} f_{0}\n",
    "\\end{equation}"
   ]
  },
  {
   "cell_type": "markdown",
   "metadata": {},
   "source": [
    "**Part C**\n",
    "\n",
    "Specification: Second order low-pass Butterworth filter with $v_{n,rms} \\leq 40 nV = \\sqrt{e_{n}^{2} f_{enb}}$. For a $1 k \\Omega$ resistor at $T \\approx 300K$,\n",
    "\n",
    "\\begin{equation}\n",
    "e_{n}^{2} = 4 k_{B} T R\n",
    "\\end{equation}\n",
    "\n",
    "\\begin{equation}\n",
    "v_{n,rms} \\approx 4 \\frac{nV}{\\sqrt{Hz}} \\sqrt{f_{enb}}\n",
    "\\end{equation}\n",
    "\n",
    "\\begin{equation}\n",
    "f_{enb} \\leq 100 Hz\n",
    "\\end{equation}"
   ]
  },
  {
   "cell_type": "markdown",
   "metadata": {},
   "source": [
    "Assuming an ideal op amp, the filter transfer function is\n",
    "\n",
    "\\begin{equation}\n",
    "H(s) = \\frac{1}{1 + (R_{1} + R_{2}) C_{1} s + R_{1} R_{2} C_{1} C_{2} s^{2}} = \\frac{\\frac{1}{R_{1} R_{2} C_{1} C_{2}}}{\\frac{1}{R_{1} R_{2} C_{1} C_{2}} + \\frac{(R_{1} + R_{2})}{R_{1} R_{2} C_{2}} s + s^2}\n",
    "\\end{equation}\n",
    "\n",
    "\\begin{equation}\n",
    "\\omega _{0} = \\frac{1}{\\sqrt{R_{1} R_{2} C_{1} C_{2}}} \\rightarrow f_{0} = \\frac{1}{2 \\pi \\sqrt{R_{1} R_{2} C_{1} C_{2}}}\n",
    "\\end{equation}\n",
    "\n",
    "\\begin{equation}\n",
    "2 \\xi \\omega _{0} = \\frac{(R_{1} + R_{2})}{R_{1} R_{2} C_{2}} \\rightarrow \\xi = \\frac{R_{1} + R_{2}}{2 \\sqrt{R_{1} R_{2}}} \\sqrt{\\frac{C_{1}}{C_{2}}}\n",
    "\\end{equation}"
   ]
  },
  {
   "cell_type": "markdown",
   "metadata": {},
   "source": [
    "Example component values for a Butterworth filter with $f_{0} = 100 Hz$:\n",
    "\n",
    "\\begin{equation}\n",
    "R_{1} = R_{2} = 1k \\Omega\n",
    "\\end{equation}\n",
    "\\begin{equation}\n",
    "C_{1} = 1.25 \\mu F\n",
    "\\end{equation}\n",
    "\\begin{equation}\n",
    "C_{2} = 2.5 \\mu F\n",
    "\\end{equation}\n",
    "\n",
    "To allow a margin of error, $C_1$ and $C_2$ were increased to $1.5$ and $3 \\mu F$ for the simulation. Also, to compensate for the finite bandwidth of the op amp, an RC low-pass filter with significantly higher resonant frequency ($\\sim 160 kHz$) was added at the output."
   ]
  },
  {
   "cell_type": "markdown",
   "metadata": {},
   "source": [
    "**Part D**\n",
    "\n",
    "Integrated $v_{rms} \\approx 37.3 nV$.\n",
    "\n",
    "<img src='1d.png'>\n",
    "\n",
    "<img src='1d_plot.png'>"
   ]
  },
  {
   "cell_type": "markdown",
   "metadata": {},
   "source": [
    "**Part E**\n",
    "\n",
    "With the addition of 1/f noise with $f_c = 1kHz$, the expected $v_{rms}$ in the $1 Hz$ to $1 MHz$ band is:\n",
    "\n",
    "\\begin{equation}\n",
    "v_{rms} = \\sqrt{\\int _{1 Hz}^{1 MHz} 4 k_{B}TR_{s} \\left(1 + \\frac{f_c}{f} \\right) \\cdot |H(f)|^{2} df} \\approx 480 nV\n",
    "\\end{equation}\n",
    "\n",
    "Because both the noise spectrum and the filter transfer function are frequency dependent, the filter's effect on the total output noise cannot be characterized with an equivalent bandwidth that is indedpendent from the noise spectrum.\n",
    "\n",
    "The simulated noise was $v_{rms} \\approx 267.5 nV$.\n",
    "\n",
    "<img src='1e.png'>\n",
    "\n",
    "<img src='1e_plot.png'>"
   ]
  },
  {
   "cell_type": "code",
   "execution_count": null,
   "metadata": {},
   "outputs": [],
   "source": []
  }
 ],
 "metadata": {
  "kernelspec": {
   "display_name": "Python 3",
   "language": "python",
   "name": "python3"
  },
  "language_info": {
   "codemirror_mode": {
    "name": "ipython",
    "version": 3
   },
   "file_extension": ".py",
   "mimetype": "text/x-python",
   "name": "python",
   "nbconvert_exporter": "python",
   "pygments_lexer": "ipython3",
   "version": "3.7.9"
  }
 },
 "nbformat": 4,
 "nbformat_minor": 4
}
